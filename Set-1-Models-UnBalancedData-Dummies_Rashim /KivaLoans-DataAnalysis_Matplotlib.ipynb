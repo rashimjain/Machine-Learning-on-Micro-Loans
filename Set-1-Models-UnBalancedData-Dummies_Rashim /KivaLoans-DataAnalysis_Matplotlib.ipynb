{
 "cells": [
  {
   "cell_type": "code",
   "execution_count": 1,
   "metadata": {},
   "outputs": [],
   "source": [
    "import re\n",
    "import pandas as pd\n",
    "import numpy as np\n",
    "import seaborn as sns\n",
    "import datetime\n",
    "import matplotlib.pyplot as plt"
   ]
  },
  {
   "cell_type": "code",
   "execution_count": 2,
   "metadata": {},
   "outputs": [
    {
     "data": {
      "text/html": [
       "<div>\n",
       "<style scoped>\n",
       "    .dataframe tbody tr th:only-of-type {\n",
       "        vertical-align: middle;\n",
       "    }\n",
       "\n",
       "    .dataframe tbody tr th {\n",
       "        vertical-align: top;\n",
       "    }\n",
       "\n",
       "    .dataframe thead th {\n",
       "        text-align: right;\n",
       "    }\n",
       "</style>\n",
       "<table border=\"1\" class=\"dataframe\">\n",
       "  <thead>\n",
       "    <tr style=\"text-align: right;\">\n",
       "      <th></th>\n",
       "      <th>id</th>\n",
       "      <th>date</th>\n",
       "      <th>activity</th>\n",
       "      <th>sector</th>\n",
       "      <th>use</th>\n",
       "      <th>funded_amount</th>\n",
       "      <th>loan_amount</th>\n",
       "      <th>diff_funded_loan</th>\n",
       "      <th>status</th>\n",
       "      <th>country_code</th>\n",
       "      <th>country</th>\n",
       "      <th>currency</th>\n",
       "      <th>gender</th>\n",
       "      <th>borrower_genders</th>\n",
       "      <th>lender_count</th>\n",
       "      <th>term_in_months</th>\n",
       "      <th>repayment_interval</th>\n",
       "      <th>tags</th>\n",
       "    </tr>\n",
       "  </thead>\n",
       "  <tbody>\n",
       "    <tr>\n",
       "      <th>0</th>\n",
       "      <td>653051</td>\n",
       "      <td>1/1/14</td>\n",
       "      <td>Fruits &amp; Vegetables</td>\n",
       "      <td>Food</td>\n",
       "      <td>To buy seasonal, fresh fruits to sell.</td>\n",
       "      <td>300</td>\n",
       "      <td>300</td>\n",
       "      <td>0</td>\n",
       "      <td>1</td>\n",
       "      <td>PK</td>\n",
       "      <td>Pakistan</td>\n",
       "      <td>PKR</td>\n",
       "      <td>female</td>\n",
       "      <td>female</td>\n",
       "      <td>12</td>\n",
       "      <td>12</td>\n",
       "      <td>irregular</td>\n",
       "      <td>NaN</td>\n",
       "    </tr>\n",
       "    <tr>\n",
       "      <th>1</th>\n",
       "      <td>653053</td>\n",
       "      <td>1/1/14</td>\n",
       "      <td>Rickshaw</td>\n",
       "      <td>Transportation</td>\n",
       "      <td>to repair and maintain the auto rickshaw used ...</td>\n",
       "      <td>575</td>\n",
       "      <td>575</td>\n",
       "      <td>0</td>\n",
       "      <td>1</td>\n",
       "      <td>PK</td>\n",
       "      <td>Pakistan</td>\n",
       "      <td>PKR</td>\n",
       "      <td>group</td>\n",
       "      <td>female, female</td>\n",
       "      <td>14</td>\n",
       "      <td>11</td>\n",
       "      <td>irregular</td>\n",
       "      <td>NaN</td>\n",
       "    </tr>\n",
       "    <tr>\n",
       "      <th>2</th>\n",
       "      <td>653068</td>\n",
       "      <td>1/1/14</td>\n",
       "      <td>Transportation</td>\n",
       "      <td>Transportation</td>\n",
       "      <td>To repair their old cycle-van and buy another ...</td>\n",
       "      <td>150</td>\n",
       "      <td>150</td>\n",
       "      <td>0</td>\n",
       "      <td>1</td>\n",
       "      <td>IN</td>\n",
       "      <td>India</td>\n",
       "      <td>INR</td>\n",
       "      <td>female</td>\n",
       "      <td>female</td>\n",
       "      <td>6</td>\n",
       "      <td>43</td>\n",
       "      <td>bullet</td>\n",
       "      <td>user_favorite, user_favorite</td>\n",
       "    </tr>\n",
       "    <tr>\n",
       "      <th>3</th>\n",
       "      <td>653063</td>\n",
       "      <td>1/1/14</td>\n",
       "      <td>Embroidery</td>\n",
       "      <td>Arts</td>\n",
       "      <td>to purchase an embroidery machine and a variet...</td>\n",
       "      <td>200</td>\n",
       "      <td>200</td>\n",
       "      <td>0</td>\n",
       "      <td>1</td>\n",
       "      <td>PK</td>\n",
       "      <td>Pakistan</td>\n",
       "      <td>PKR</td>\n",
       "      <td>female</td>\n",
       "      <td>female</td>\n",
       "      <td>8</td>\n",
       "      <td>11</td>\n",
       "      <td>irregular</td>\n",
       "      <td>NaN</td>\n",
       "    </tr>\n",
       "    <tr>\n",
       "      <th>4</th>\n",
       "      <td>653084</td>\n",
       "      <td>1/1/14</td>\n",
       "      <td>Milk Sales</td>\n",
       "      <td>Food</td>\n",
       "      <td>to purchase one buffalo.</td>\n",
       "      <td>400</td>\n",
       "      <td>400</td>\n",
       "      <td>0</td>\n",
       "      <td>1</td>\n",
       "      <td>PK</td>\n",
       "      <td>Pakistan</td>\n",
       "      <td>PKR</td>\n",
       "      <td>female</td>\n",
       "      <td>female</td>\n",
       "      <td>16</td>\n",
       "      <td>14</td>\n",
       "      <td>monthly</td>\n",
       "      <td>NaN</td>\n",
       "    </tr>\n",
       "  </tbody>\n",
       "</table>\n",
       "</div>"
      ],
      "text/plain": [
       "       id    date             activity          sector  \\\n",
       "0  653051  1/1/14  Fruits & Vegetables            Food   \n",
       "1  653053  1/1/14             Rickshaw  Transportation   \n",
       "2  653068  1/1/14       Transportation  Transportation   \n",
       "3  653063  1/1/14           Embroidery            Arts   \n",
       "4  653084  1/1/14           Milk Sales            Food   \n",
       "\n",
       "                                                 use  funded_amount  \\\n",
       "0            To buy seasonal, fresh fruits to sell.             300   \n",
       "1  to repair and maintain the auto rickshaw used ...            575   \n",
       "2  To repair their old cycle-van and buy another ...            150   \n",
       "3  to purchase an embroidery machine and a variet...            200   \n",
       "4                           to purchase one buffalo.            400   \n",
       "\n",
       "   loan_amount  diff_funded_loan  status country_code   country currency  \\\n",
       "0          300                 0       1           PK  Pakistan      PKR   \n",
       "1          575                 0       1           PK  Pakistan      PKR   \n",
       "2          150                 0       1           IN     India      INR   \n",
       "3          200                 0       1           PK  Pakistan      PKR   \n",
       "4          400                 0       1           PK  Pakistan      PKR   \n",
       "\n",
       "   gender borrower_genders  lender_count  term_in_months repayment_interval  \\\n",
       "0  female           female            12              12          irregular   \n",
       "1   group   female, female            14              11          irregular   \n",
       "2  female           female             6              43             bullet   \n",
       "3  female           female             8              11          irregular   \n",
       "4  female           female            16              14            monthly   \n",
       "\n",
       "                           tags  \n",
       "0                           NaN  \n",
       "1                           NaN  \n",
       "2  user_favorite, user_favorite  \n",
       "3                           NaN  \n",
       "4                           NaN  "
      ]
     },
     "execution_count": 2,
     "metadata": {},
     "output_type": "execute_result"
    }
   ],
   "source": [
    "df = pd.read_csv('kiva_loans_20181016.csv')\n",
    "df.head()"
   ]
  },
  {
   "cell_type": "code",
   "execution_count": 3,
   "metadata": {},
   "outputs": [
    {
     "data": {
      "text/plain": [
       "(671205, 18)"
      ]
     },
     "execution_count": 3,
     "metadata": {},
     "output_type": "execute_result"
    }
   ],
   "source": [
    "df.shape"
   ]
  },
  {
   "cell_type": "code",
   "execution_count": 4,
   "metadata": {},
   "outputs": [
    {
     "data": {
      "text/plain": [
       "1    622877\n",
       "0     48328\n",
       "Name: status, dtype: int64"
      ]
     },
     "execution_count": 4,
     "metadata": {},
     "output_type": "execute_result"
    }
   ],
   "source": [
    "df.status.value_counts()"
   ]
  },
  {
   "cell_type": "code",
   "execution_count": 5,
   "metadata": {},
   "outputs": [
    {
     "data": {
      "text/plain": [
       "id                     int64\n",
       "date                  object\n",
       "activity              object\n",
       "sector                object\n",
       "use                   object\n",
       "funded_amount          int64\n",
       "loan_amount            int64\n",
       "diff_funded_loan       int64\n",
       "status                 int64\n",
       "country_code          object\n",
       "country               object\n",
       "currency              object\n",
       "gender                object\n",
       "borrower_genders      object\n",
       "lender_count           int64\n",
       "term_in_months         int64\n",
       "repayment_interval    object\n",
       "tags                  object\n",
       "dtype: object"
      ]
     },
     "execution_count": 5,
     "metadata": {},
     "output_type": "execute_result"
    }
   ],
   "source": [
    "df.dtypes"
   ]
  },
  {
   "cell_type": "code",
   "execution_count": 6,
   "metadata": {},
   "outputs": [
    {
     "data": {
      "text/plain": [
       "id                         0\n",
       "date                       0\n",
       "activity                   0\n",
       "sector                     0\n",
       "use                     4232\n",
       "funded_amount              0\n",
       "loan_amount                0\n",
       "diff_funded_loan           0\n",
       "status                     0\n",
       "country_code               8\n",
       "country                    0\n",
       "currency                   0\n",
       "gender                  4221\n",
       "borrower_genders        4221\n",
       "lender_count               0\n",
       "term_in_months             0\n",
       "repayment_interval         0\n",
       "tags                  171416\n",
       "dtype: int64"
      ]
     },
     "execution_count": 6,
     "metadata": {},
     "output_type": "execute_result"
    }
   ],
   "source": [
    "df.isnull().sum()"
   ]
  },
  {
   "cell_type": "code",
   "execution_count": 7,
   "metadata": {},
   "outputs": [
    {
     "data": {
      "text/plain": [
       "count      671205\n",
       "unique        163\n",
       "top       Farming\n",
       "freq        72955\n",
       "Name: activity, dtype: object"
      ]
     },
     "execution_count": 7,
     "metadata": {},
     "output_type": "execute_result"
    }
   ],
   "source": [
    "df.activity.describe()"
   ]
  },
  {
   "cell_type": "code",
   "execution_count": 8,
   "metadata": {},
   "outputs": [],
   "source": [
    "# Convert to datetime type\n",
    "# df['date'] = pd.to_datetime(df['date'])\n",
    "\n",
    "df['date'] = pd.to_datetime(df['date'])\n",
    "df['newdate'] = [d.date() for d in df['date']]"
   ]
  },
  {
   "cell_type": "code",
   "execution_count": 9,
   "metadata": {},
   "outputs": [],
   "source": [
    "# Convert to String and then to int\n",
    "\n",
    "df['year'] = df['newdate'].apply(lambda date: str(date).split('-')[0]).astype(str).astype(int)\n",
    "df['month'] = df['newdate'].apply(lambda date: str(date).split('-')[1]).astype(str).astype(int)\n",
    "df['day_of_month'] = df['newdate'].apply(lambda date: str(date).split('-')[2]).astype(str).astype(int)\n",
    "df['weekday'] = df['date'].dt.day_name()"
   ]
  },
  {
   "cell_type": "code",
   "execution_count": 10,
   "metadata": {},
   "outputs": [
    {
     "data": {
      "text/html": [
       "<div>\n",
       "<style scoped>\n",
       "    .dataframe tbody tr th:only-of-type {\n",
       "        vertical-align: middle;\n",
       "    }\n",
       "\n",
       "    .dataframe tbody tr th {\n",
       "        vertical-align: top;\n",
       "    }\n",
       "\n",
       "    .dataframe thead th {\n",
       "        text-align: right;\n",
       "    }\n",
       "</style>\n",
       "<table border=\"1\" class=\"dataframe\">\n",
       "  <thead>\n",
       "    <tr style=\"text-align: right;\">\n",
       "      <th></th>\n",
       "      <th>id</th>\n",
       "      <th>date</th>\n",
       "      <th>activity</th>\n",
       "      <th>sector</th>\n",
       "      <th>use</th>\n",
       "      <th>funded_amount</th>\n",
       "      <th>loan_amount</th>\n",
       "      <th>diff_funded_loan</th>\n",
       "      <th>status</th>\n",
       "      <th>country_code</th>\n",
       "      <th>...</th>\n",
       "      <th>borrower_genders</th>\n",
       "      <th>lender_count</th>\n",
       "      <th>term_in_months</th>\n",
       "      <th>repayment_interval</th>\n",
       "      <th>tags</th>\n",
       "      <th>newdate</th>\n",
       "      <th>year</th>\n",
       "      <th>month</th>\n",
       "      <th>day_of_month</th>\n",
       "      <th>weekday</th>\n",
       "    </tr>\n",
       "  </thead>\n",
       "  <tbody>\n",
       "    <tr>\n",
       "      <th>0</th>\n",
       "      <td>653051</td>\n",
       "      <td>2014-01-01</td>\n",
       "      <td>Fruits &amp; Vegetables</td>\n",
       "      <td>Food</td>\n",
       "      <td>To buy seasonal, fresh fruits to sell.</td>\n",
       "      <td>300</td>\n",
       "      <td>300</td>\n",
       "      <td>0</td>\n",
       "      <td>1</td>\n",
       "      <td>PK</td>\n",
       "      <td>...</td>\n",
       "      <td>female</td>\n",
       "      <td>12</td>\n",
       "      <td>12</td>\n",
       "      <td>irregular</td>\n",
       "      <td>NaN</td>\n",
       "      <td>2014-01-01</td>\n",
       "      <td>2014</td>\n",
       "      <td>1</td>\n",
       "      <td>1</td>\n",
       "      <td>Wednesday</td>\n",
       "    </tr>\n",
       "    <tr>\n",
       "      <th>1</th>\n",
       "      <td>653053</td>\n",
       "      <td>2014-01-01</td>\n",
       "      <td>Rickshaw</td>\n",
       "      <td>Transportation</td>\n",
       "      <td>to repair and maintain the auto rickshaw used ...</td>\n",
       "      <td>575</td>\n",
       "      <td>575</td>\n",
       "      <td>0</td>\n",
       "      <td>1</td>\n",
       "      <td>PK</td>\n",
       "      <td>...</td>\n",
       "      <td>female, female</td>\n",
       "      <td>14</td>\n",
       "      <td>11</td>\n",
       "      <td>irregular</td>\n",
       "      <td>NaN</td>\n",
       "      <td>2014-01-01</td>\n",
       "      <td>2014</td>\n",
       "      <td>1</td>\n",
       "      <td>1</td>\n",
       "      <td>Wednesday</td>\n",
       "    </tr>\n",
       "  </tbody>\n",
       "</table>\n",
       "<p>2 rows × 23 columns</p>\n",
       "</div>"
      ],
      "text/plain": [
       "       id       date             activity          sector  \\\n",
       "0  653051 2014-01-01  Fruits & Vegetables            Food   \n",
       "1  653053 2014-01-01             Rickshaw  Transportation   \n",
       "\n",
       "                                                 use  funded_amount  \\\n",
       "0            To buy seasonal, fresh fruits to sell.             300   \n",
       "1  to repair and maintain the auto rickshaw used ...            575   \n",
       "\n",
       "   loan_amount  diff_funded_loan  status country_code    ...      \\\n",
       "0          300                 0       1           PK    ...       \n",
       "1          575                 0       1           PK    ...       \n",
       "\n",
       "  borrower_genders lender_count term_in_months repayment_interval  tags  \\\n",
       "0           female           12             12          irregular   NaN   \n",
       "1   female, female           14             11          irregular   NaN   \n",
       "\n",
       "      newdate  year month day_of_month    weekday  \n",
       "0  2014-01-01  2014     1            1  Wednesday  \n",
       "1  2014-01-01  2014     1            1  Wednesday  \n",
       "\n",
       "[2 rows x 23 columns]"
      ]
     },
     "execution_count": 10,
     "metadata": {},
     "output_type": "execute_result"
    }
   ],
   "source": [
    "df.head(2)"
   ]
  },
  {
   "cell_type": "code",
   "execution_count": 11,
   "metadata": {},
   "outputs": [],
   "source": [
    "days = {'Monday':'Mon','Tuesday':'Tue','Wednesday':'Wed','Thursday':'Thu','Friday':'Fri','Saturday':'Sat','Sunday':'Sun'}\n",
    "df['weekday_short'] = df['weekday'].apply(lambda x: days[x])"
   ]
  },
  {
   "cell_type": "code",
   "execution_count": 12,
   "metadata": {},
   "outputs": [
    {
     "data": {
      "text/html": [
       "<div>\n",
       "<style scoped>\n",
       "    .dataframe tbody tr th:only-of-type {\n",
       "        vertical-align: middle;\n",
       "    }\n",
       "\n",
       "    .dataframe tbody tr th {\n",
       "        vertical-align: top;\n",
       "    }\n",
       "\n",
       "    .dataframe thead th {\n",
       "        text-align: right;\n",
       "    }\n",
       "</style>\n",
       "<table border=\"1\" class=\"dataframe\">\n",
       "  <thead>\n",
       "    <tr style=\"text-align: right;\">\n",
       "      <th></th>\n",
       "      <th>id</th>\n",
       "      <th>date</th>\n",
       "      <th>activity</th>\n",
       "      <th>sector</th>\n",
       "      <th>use</th>\n",
       "      <th>funded_amount</th>\n",
       "      <th>loan_amount</th>\n",
       "      <th>diff_funded_loan</th>\n",
       "      <th>status</th>\n",
       "      <th>country_code</th>\n",
       "      <th>...</th>\n",
       "      <th>lender_count</th>\n",
       "      <th>term_in_months</th>\n",
       "      <th>repayment_interval</th>\n",
       "      <th>tags</th>\n",
       "      <th>newdate</th>\n",
       "      <th>year</th>\n",
       "      <th>month</th>\n",
       "      <th>day_of_month</th>\n",
       "      <th>weekday</th>\n",
       "      <th>weekday_short</th>\n",
       "    </tr>\n",
       "  </thead>\n",
       "  <tbody>\n",
       "    <tr>\n",
       "      <th>0</th>\n",
       "      <td>653051</td>\n",
       "      <td>2014-01-01</td>\n",
       "      <td>Fruits &amp; Vegetables</td>\n",
       "      <td>Food</td>\n",
       "      <td>To buy seasonal, fresh fruits to sell.</td>\n",
       "      <td>300</td>\n",
       "      <td>300</td>\n",
       "      <td>0</td>\n",
       "      <td>1</td>\n",
       "      <td>PK</td>\n",
       "      <td>...</td>\n",
       "      <td>12</td>\n",
       "      <td>12</td>\n",
       "      <td>irregular</td>\n",
       "      <td>NaN</td>\n",
       "      <td>2014-01-01</td>\n",
       "      <td>2014</td>\n",
       "      <td>1</td>\n",
       "      <td>1</td>\n",
       "      <td>Wednesday</td>\n",
       "      <td>Wed</td>\n",
       "    </tr>\n",
       "    <tr>\n",
       "      <th>1</th>\n",
       "      <td>653053</td>\n",
       "      <td>2014-01-01</td>\n",
       "      <td>Rickshaw</td>\n",
       "      <td>Transportation</td>\n",
       "      <td>to repair and maintain the auto rickshaw used ...</td>\n",
       "      <td>575</td>\n",
       "      <td>575</td>\n",
       "      <td>0</td>\n",
       "      <td>1</td>\n",
       "      <td>PK</td>\n",
       "      <td>...</td>\n",
       "      <td>14</td>\n",
       "      <td>11</td>\n",
       "      <td>irregular</td>\n",
       "      <td>NaN</td>\n",
       "      <td>2014-01-01</td>\n",
       "      <td>2014</td>\n",
       "      <td>1</td>\n",
       "      <td>1</td>\n",
       "      <td>Wednesday</td>\n",
       "      <td>Wed</td>\n",
       "    </tr>\n",
       "  </tbody>\n",
       "</table>\n",
       "<p>2 rows × 24 columns</p>\n",
       "</div>"
      ],
      "text/plain": [
       "       id       date             activity          sector  \\\n",
       "0  653051 2014-01-01  Fruits & Vegetables            Food   \n",
       "1  653053 2014-01-01             Rickshaw  Transportation   \n",
       "\n",
       "                                                 use  funded_amount  \\\n",
       "0            To buy seasonal, fresh fruits to sell.             300   \n",
       "1  to repair and maintain the auto rickshaw used ...            575   \n",
       "\n",
       "   loan_amount  diff_funded_loan  status country_code      ...        \\\n",
       "0          300                 0       1           PK      ...         \n",
       "1          575                 0       1           PK      ...         \n",
       "\n",
       "  lender_count term_in_months repayment_interval tags     newdate  year month  \\\n",
       "0           12             12          irregular  NaN  2014-01-01  2014     1   \n",
       "1           14             11          irregular  NaN  2014-01-01  2014     1   \n",
       "\n",
       "  day_of_month    weekday  weekday_short  \n",
       "0            1  Wednesday            Wed  \n",
       "1            1  Wednesday            Wed  \n",
       "\n",
       "[2 rows x 24 columns]"
      ]
     },
     "execution_count": 12,
     "metadata": {},
     "output_type": "execute_result"
    }
   ],
   "source": [
    "df.head(2)"
   ]
  },
  {
   "cell_type": "code",
   "execution_count": 13,
   "metadata": {},
   "outputs": [
    {
     "data": {
      "text/plain": [
       "2016    197236\n",
       "2015    181833\n",
       "2014    174234\n",
       "2017    117902\n",
       "Name: year, dtype: int64"
      ]
     },
     "execution_count": 13,
     "metadata": {},
     "output_type": "execute_result"
    }
   ],
   "source": [
    "df.year.value_counts()"
   ]
  },
  {
   "cell_type": "code",
   "execution_count": 14,
   "metadata": {},
   "outputs": [
    {
     "data": {
      "text/plain": [
       "<matplotlib.axes._subplots.AxesSubplot at 0x1a268f30b8>"
      ]
     },
     "execution_count": 14,
     "metadata": {},
     "output_type": "execute_result"
    },
    {
     "data": {
      "image/png": "[encoded data removed]",
      "text/plain": [
       "<Figure size 1440x360 with 1 Axes>"
      ]
     },
     "metadata": {},
     "output_type": "display_data"
    }
   ],
   "source": [
    "# Month(s) with more saturday is better to launch a project?\n",
    "plt.tick_params(axis='both', which='major', labelsize=5)\n",
    "df.weekday_short.value_counts().plot(figsize=(20, 5))"
   ]
  },
  {
   "cell_type": "code",
   "execution_count": 15,
   "metadata": {},
   "outputs": [
    {
     "data": {
      "image/png": "[encoded data removed]",
      "text/plain": [
       "<Figure size 1440x360 with 1 Axes>"
      ]
     },
     "metadata": {},
     "output_type": "display_data"
    }
   ],
   "source": [
    "# Set x axis and tick locations\n",
    "x_axis = df.weekday_short.unique()\n",
    "y_axis = df.weekday_short.value_counts()\n",
    "plt.figure(figsize=(20,5))\n",
    "plt.bar(x_axis, y_axis, color='r', alpha=0.5, align=\"edge\")\n",
    "plt.tick_params(axis='both', which='major', labelsize=10)\n",
    "plt.show()"
   ]
  },
  {
   "cell_type": "code",
   "execution_count": 16,
   "metadata": {},
   "outputs": [
    {
     "data": {
      "text/plain": [
       "array(['Pakistan', 'India', 'Kenya', 'Nicaragua', 'El Salvador',\n",
       "       'Tanzania', 'Philippines', 'Peru', 'Senegal', 'Cambodia',\n",
       "       'Liberia', 'Vietnam', 'Iraq', 'Honduras', 'Palestine', 'Mongolia',\n",
       "       'United States', 'Mali', 'Colombia', 'Tajikistan', 'Guatemala',\n",
       "       'Ecuador', 'Bolivia', 'Yemen', 'Ghana', 'Sierra Leone', 'Haiti',\n",
       "       'Chile', 'Jordan', 'Uganda', 'Burundi', 'Burkina Faso',\n",
       "       'Timor-Leste', 'Indonesia', 'Georgia', 'Ukraine', 'Kosovo',\n",
       "       'Albania', 'The Democratic Republic of the Congo', 'Costa Rica',\n",
       "       'Somalia', 'Zimbabwe', 'Cameroon', 'Turkey', 'Azerbaijan',\n",
       "       'Dominican Republic', 'Brazil', 'Mexico', 'Kyrgyzstan', 'Armenia',\n",
       "       'Paraguay', 'Lebanon', 'Samoa', 'Israel', 'Rwanda', 'Zambia',\n",
       "       'Nepal', 'Congo', 'Mozambique', 'South Africa', 'Togo', 'Benin',\n",
       "       'Belize', 'Suriname', 'Thailand', 'Nigeria', 'Mauritania',\n",
       "       'Vanuatu', 'Panama', 'Virgin Islands',\n",
       "       'Saint Vincent and the Grenadines',\n",
       "       \"Lao People's Democratic Republic\", 'Malawi', 'Myanmar (Burma)',\n",
       "       'Moldova', 'South Sudan', 'Solomon Islands', 'China', 'Egypt',\n",
       "       'Guam', 'Afghanistan', 'Madagascar', 'Namibia', 'Puerto Rico',\n",
       "       'Lesotho', \"Cote D'Ivoire\", 'Bhutan'], dtype=object)"
      ]
     },
     "execution_count": 16,
     "metadata": {},
     "output_type": "execute_result"
    }
   ],
   "source": [
    "df.country.unique()"
   ]
  },
  {
   "cell_type": "code",
   "execution_count": 17,
   "metadata": {},
   "outputs": [],
   "source": [
    "def classifier(row):\n",
    "    if row.country in [\"Australia\", \"New Zealand\", \"Norfolk Island\"]:\n",
    "        return \"Australia & New Zealand\"\n",
    "    elif row.country in [\"Anguilla\", \"Antigua and Barbuda\", \"Aruba\", \"Bahamas\", \"Barbados\", \"British Virgin Islands\", \"Cayman Islands\", \"Cuba\", \"Dominica\", \"Dominican Republic\", \"Grenada\", \"Guadeloupe\", \"Haiti\", \"Jamaica\", \"Martinique\", \"Montserrat\", \"Netherlands Antilles\", \"Puerto Rico\", \"Saint Barthélemy\", \"Saint Kitts and Nevis\", \"Saint Lucia\", \"Saint Martin\", \"Saint Vincent and the Grenadines\", \"Trinidad and Tobago\", \"Turks and Caicos Islands\", \"U.S. Virgin Islands\"]:\n",
    "        return \"Caribbean\"\n",
    "    elif row.country in [\"Belize\", \"Costa Rica\", \"El Salvador\", \"Guatemala\", \"Honduras\", \"Mexico\", \"Nicaragua\", \"Panama\"]:\n",
    "        return \"Central America\"\n",
    "    elif row.country in [\"Kazakhstan\", \"Kyrgyzstan\", \"Tajikistan\", \"Turkmenistan\", \"Uzbekistan\"]:\n",
    "        return  \"Central Asia\"\n",
    "    elif row.country in [\"Armenia\", \"Azerbaijan\", \"Belarus\", \"Georgia\", \"Kazakhstan\", \"Kyrgyzstan\", \"Moldova\", \"Russia\", \"Tajikistan\", \"Turkmenistan\", \"Ukraine\", \"Uzbekistan\"]:\n",
    "        return \"Commonwealth of Independent States\"\n",
    "    elif row.country in [\"Burundi\", \"Comoros\", \"Djibouti\", \"Eritrea\", \"Ethiopia\", \"Kenya\", \"Madagascar\", \"Malawi\", \"Mauritius\", \"Mayotte\", \"Mozambique\", \"Rwanda\", \"Réunion\", \"Seychelles\", \"Somalia\", \"Tanzania\", \"Uganda\", \"Zambia\", \"Zimbabwe\"]:\n",
    "        return \"Eastern Africa\"\n",
    "    elif row.country in [\"China\", \"Hong Kong SAR China\", \"Japan\", \"Macau SAR China\", \"Mongolia\", \"North Korea\", \"South Korea\", \"Taiwan\"]:\n",
    "        return \"Eastern Asia\"\n",
    "    elif row.country in [\"Belarus\", \"Bulgaria\", \"Czech Republic\", \"Hungary\", \"Moldova\", \"Poland\", \"Romania\", \"Russia\", \"Slovakia\", \"Ukraine\", \n",
    "                        \"Union of Soviet Socialist Republics\"]:\n",
    "        return \"Eastern Europe\"\n",
    "    elif row.country in [\"Fiji\", \"New Caledonia\", \"Papua New Guinea\", \"Solomon Islands\", \"Vanuatu\", \"Micronesian Region\", \"Guam\", \"Kiribati\", \"Marshall Islands\", \"Micronesia\", \"Nauru\", \"Northern Mariana Islands\", \"Palau\"]:\n",
    "        return \"Melanesia\"\n",
    "    elif row.country in [\"Angola\", \"Cameroon\", \"Central African Republic\", \"Chad\", \"Congo\", \"Congo - Kinshasa\", \"Equatorial Guinea\", \"Gabon\", \"São Tomé and Príncipe\"]:\n",
    "        return \"Middle Africa\"\n",
    "    elif row.country in [\"Algeria\", \"Egypt\", \"Libya\", \"Morocco\", \"South Sudan\", \"Tunisia\", \"Western Sahara\"]:\n",
    "        return \"Northern Africa\"\n",
    "    elif row.country in [\"Bermuda\", \"Canada\", \"Greenland\", \"Saint Pierre and Miquelon\", \"United States\"]:\n",
    "        return \"Northern America\"\n",
    "    elif row.country in [\"Denmark\", \"Estonia\", \"Faroe Islands\", \"Finland\", \"Guernsey\", \"Iceland\", \"Ireland\", \"Isle of Man\", \"Jersey\", \"Latvia\", \"Lithuania\", \"Norway\", \"Svalbard and Jan Mayen\", \"Sweden\", \"United Kingdom\", \"Åland Islands\"]:\n",
    "        return \"Northern Europe\" \n",
    "    elif row.country in [\"American Samoa\", \"Cook Islands\", \"French Polynesia\", \"Niue\", \"Pitcairn Islands\", \"Samoa\", \"Tokelau\", \"Tonga\", \"Tuvalu\", \"Wallis and Futuna\"]:\n",
    "        return \"Polynesia\"\n",
    "    elif row.country in [\"Argentina\", \"Bolivia\", \"Brazil\", \"Chile\", \"Colombia\", \"Ecuador\", \"Falkland Islands\", \"French Guiana\", \"Guyana\", \"Paraguay\", \"Peru\", \"Suriname\", \"Uruguay\", \"Venezuela\"]:\n",
    "        return \"South America\"\n",
    "    elif row.country in [\"Brunei\", \"Cambodia\", \"Indonesia\", \"Laos\", \"Malaysia\", \"Myanmar (Burma)\", \"Philippines\", \"Singapore\", \"Thailand\", \"Timor-Leste\", \"Vietnam\", \"Southern Africa\", \"Botswana\", \"Lesotho\", \"Namibia\", \"South Africa\", \"Swaziland\"]:\n",
    "        return \"South-Eastern Asia\"\n",
    "    elif row.country in [\"Afghanistan\", \"Bangladesh\", \"Bhutan\", \"India\", \"Iran\", \"Maldives\", \"Nepal\", \"Pakistan\", \"Sri Lanka\"]:\n",
    "        return \"Southern Asia\"\n",
    "    elif row.country in [\"Albania\", \"Andorra\", \"Bosnia and Herzegovina\", \"Croatia\", \"Gibraltar\", \"Greece\", \"Italy\", \"Macedonia\", \"Malta\", \"Montenegro\", \"Portugal\", \"San Marino\", \"Serbia\", \"Serbia and Montenegro\", \"Slovenia\", \"Spain\", \"Vatican City\"]:\n",
    "        return  \"Southern Europe\" \n",
    "    elif row.country in [\"Benin\", \"Burkina Faso\", \"Cape Verde\", \"Côte d Ivoire\", \"Gambia\", \"Ghana\", \"Guinea\", \"Guinea-Bissau\", \"Liberia\", \"Mali\", \"Mauritania\", \"Niger\", \"Nigeria\", \"Saint Helena\", \"Senegal\", \"Sierra Leone\", \"Togo\"]:\n",
    "        return \"Western Africa\" \n",
    "    elif row.country in [\"Armenia\", \"Azerbaijan\", \"Bahrain\", \"Cyprus\", \"Georgia\", \"Iraq\", \"Israel\", \"Jordan\", \"Kuwait\", \"Lebanon\", \"Neutral Zone\", \"Oman\", \"Palestinian Territories\", \"People's Democratic Republic of Yemen\", \"Qatar\", \"Saudi Arabia\", \"Syria\", \"Turkey\", \"United Arab Emirates\", \"Yemen\"]:\n",
    "        return \"Middle East - Western Asia\"\n",
    "    elif row.country in [\"Austria\", \"Belgium\", \"East Germany\", \"France\", \"Germany\", \"Liechtenstein\", \"Luxembourg\", \"Metropolitan France\", \"Monaco\", \"Netherlands\", \"Switzerland\"]:\n",
    "        return \"Western Europe\"\n",
    "    else:\n",
    "        return \"Others\"   \n",
    "df[\"sub_region\"] = df.apply(classifier, axis=1)"
   ]
  },
  {
   "cell_type": "code",
   "execution_count": 19,
   "metadata": {},
   "outputs": [
    {
     "data": {
      "text/plain": [
       "South-Eastern Asia                    217882\n",
       "Eastern Africa                        122777\n",
       "South America                          78975\n",
       "Central America                        73143\n",
       "Western Africa                         42222\n",
       "Southern Asia                          38815\n",
       "Central Asia                           25354\n",
       "Middle East - Western Asia             18158\n",
       "Commonwealth of Independent States     14296\n",
       "Others                                 14148\n",
       "Polynesia                               7396\n",
       "Northern America                        6093\n",
       "Caribbean                               4198\n",
       "Middle Africa                           2358\n",
       "Southern Europe                         1934\n",
       "Northern Africa                         1799\n",
       "Eastern Asia                            1098\n",
       "Melanesia                                559\n",
       "Name: sub_region, dtype: int64"
      ]
     },
     "execution_count": 19,
     "metadata": {},
     "output_type": "execute_result"
    }
   ],
   "source": [
    "df.sub_region.value_counts()"
   ]
  },
  {
   "cell_type": "code",
   "execution_count": 26,
   "metadata": {},
   "outputs": [
    {
     "data": {
      "text/plain": [
       "<matplotlib.axes._subplots.AxesSubplot at 0x1a23add2b0>"
      ]
     },
     "execution_count": 26,
     "metadata": {},
     "output_type": "execute_result"
    },
    {
     "data": {
      "image/png": "[encoded data removed]",
      "text/plain": [
       "<Figure size 1440x504 with 1 Axes>"
      ]
     },
     "metadata": {},
     "output_type": "display_data"
    }
   ],
   "source": [
    "sns.set(rc={'figure.figsize':(20,7)})\n",
    "sns.countplot(x='sub_region',data=df,hue='status')"
   ]
  },
  {
   "cell_type": "code",
   "execution_count": 27,
   "metadata": {},
   "outputs": [
    {
     "data": {
      "text/plain": [
       "1    0.927998\n",
       "0    0.072002\n",
       "Name: status, dtype: float64"
      ]
     },
     "execution_count": 27,
     "metadata": {},
     "output_type": "execute_result"
    }
   ],
   "source": [
    "df.status.value_counts(normalize = True)"
   ]
  },
  {
   "cell_type": "code",
   "execution_count": 28,
   "metadata": {},
   "outputs": [
    {
     "data": {
      "text/plain": [
       "785.9950611214159"
      ]
     },
     "execution_count": 28,
     "metadata": {},
     "output_type": "execute_result"
    }
   ],
   "source": [
    "df.funded_amount.mean()"
   ]
  },
  {
   "cell_type": "code",
   "execution_count": 29,
   "metadata": {},
   "outputs": [
    {
     "data": {
      "text/plain": [
       "Text(0.5,0,'Sub_Region')"
      ]
     },
     "execution_count": 29,
     "metadata": {},
     "output_type": "execute_result"
    },
    {
     "data": {
      "image/png": "[encoded data removed]",
      "text/plain": [
       "<Figure size 1440x504 with 1 Axes>"
      ]
     },
     "metadata": {},
     "output_type": "display_data"
    }
   ],
   "source": [
    "color = ['r', 'g', 'b', 'y', 'm']\n",
    "df.groupby('sub_region').funded_amount.mean().sort_index().plot(kind = 'bar', color = color)\n",
    "plt.title('Sub_Region funded_amount mean')\n",
    "plt.ylabel('funded_amount mean')\n",
    "plt.xlabel('Sub_Region')"
   ]
  },
  {
   "cell_type": "code",
   "execution_count": 30,
   "metadata": {},
   "outputs": [
    {
     "data": {
      "text/plain": [
       "(1, 25)"
      ]
     },
     "execution_count": 30,
     "metadata": {},
     "output_type": "execute_result"
    }
   ],
   "source": [
    "df[df['funded_amount']>50000].shape\n",
    "\n",
    "# only 1 project had funded amount over $50,000."
   ]
  },
  {
   "cell_type": "code",
   "execution_count": 31,
   "metadata": {},
   "outputs": [
    {
     "data": {
      "text/plain": [
       "(170, 25)"
      ]
     },
     "execution_count": 31,
     "metadata": {},
     "output_type": "execute_result"
    }
   ],
   "source": [
    "df[df['funded_amount']>10000].shape\n",
    "\n",
    "# only 170 projects had funded amount over $10,000."
   ]
  },
  {
   "cell_type": "code",
   "execution_count": 32,
   "metadata": {},
   "outputs": [
    {
     "data": {
      "text/plain": [
       "<seaborn.axisgrid.FacetGrid at 0x1a2360bf28>"
      ]
     },
     "execution_count": 32,
     "metadata": {},
     "output_type": "execute_result"
    },
    {
     "data": {
      "image/png": "[encoded data removed]",
      "text/plain": [
       "<Figure size 720x360 with 2 Axes>"
      ]
     },
     "metadata": {},
     "output_type": "display_data"
    }
   ],
   "source": [
    "df['log_loan'] = np.log10(df['loan_amount'])\n",
    "sns.lmplot(x = 'log_loan', y = 'funded_amount', col ='status', data = df, fit_reg = False)"
   ]
  },
  {
   "cell_type": "code",
   "execution_count": 33,
   "metadata": {},
   "outputs": [
    {
     "data": {
      "text/plain": [
       "Text(0.5,1,'Successful Kickstarters have on average lower loan requirement')"
      ]
     },
     "execution_count": 33,
     "metadata": {},
     "output_type": "execute_result"
    },
    {
     "data": {
      "image/png": "[encoded data removed]",
      "text/plain": [
       "<Figure size 720x360 with 1 Axes>"
      ]
     },
     "metadata": {},
     "output_type": "display_data"
    }
   ],
   "source": [
    "plt.figure(figsize = (10,5))\n",
    "sns.boxplot(x ='status', y = 'log_loan', data = df)\n",
    "plt.title('Successful Kickstarters have on average lower loan requirement')"
   ]
  },
  {
   "cell_type": "code",
   "execution_count": 34,
   "metadata": {},
   "outputs": [
    {
     "data": {
      "text/plain": [
       "<matplotlib.axes._subplots.AxesSubplot at 0x1a2ab918d0>"
      ]
     },
     "execution_count": 34,
     "metadata": {},
     "output_type": "execute_result"
    },
    {
     "data": {
      "image/png": "[encoded data removed]",
      "text/plain": [
       "<Figure size 1440x504 with 1 Axes>"
      ]
     },
     "metadata": {},
     "output_type": "display_data"
    }
   ],
   "source": [
    "# Number of Projects lunch each month\n",
    "\n",
    "sns.countplot(x='month',data=df)"
   ]
  },
  {
   "cell_type": "code",
   "execution_count": 35,
   "metadata": {},
   "outputs": [
    {
     "data": {
      "text/plain": [
       "<matplotlib.axes._subplots.AxesSubplot at 0x1a294a4400>"
      ]
     },
     "execution_count": 35,
     "metadata": {},
     "output_type": "execute_result"
    },
    {
     "data": {
      "image/png": "[encoded data removed]",
      "text/plain": [
       "<Figure size 648x432 with 1 Axes>"
      ]
     },
     "metadata": {},
     "output_type": "display_data"
    }
   ],
   "source": [
    "df.sector.value_counts(normalize = True).plot(kind = 'pie', figsize=(9, 6))"
   ]
  },
  {
   "cell_type": "code",
   "execution_count": 36,
   "metadata": {},
   "outputs": [
    {
     "data": {
      "text/plain": [
       "<matplotlib.axes._subplots.AxesSubplot at 0x1a29cb1908>"
      ]
     },
     "execution_count": 36,
     "metadata": {},
     "output_type": "execute_result"
    },
    {
     "data": {
      "image/png": "[encoded data removed]",
      "text/plain": [
       "<Figure size 864x360 with 1 Axes>"
      ]
     },
     "metadata": {},
     "output_type": "display_data"
    }
   ],
   "source": [
    "# Successful loans by sector\n",
    "df[df['status']== 1]['sector'].value_counts().sort_index().plot(kind = 'bar', figsize=(12, 5))"
   ]
  },
  {
   "cell_type": "code",
   "execution_count": 37,
   "metadata": {},
   "outputs": [
    {
     "data": {
      "text/plain": [
       "<matplotlib.axes._subplots.AxesSubplot at 0x1a23900400>"
      ]
     },
     "execution_count": 37,
     "metadata": {},
     "output_type": "execute_result"
    },
    {
     "data": {
      "image/png": "[encoded data removed]",
      "text/plain": [
       "<Figure size 864x360 with 1 Axes>"
      ]
     },
     "metadata": {},
     "output_type": "display_data"
    }
   ],
   "source": [
    "# Failed loans by sector\n",
    "df[df['status']== 0]['sector'].value_counts().sort_index().plot(kind = 'bar', figsize=(12, 5))"
   ]
  },
  {
   "cell_type": "code",
   "execution_count": 38,
   "metadata": {},
   "outputs": [
    {
     "data": {
      "text/plain": [
       "sector\n",
       "Agriculture       0.923456\n",
       "Arts              0.983167\n",
       "Clothing          0.908741\n",
       "Construction      0.947033\n",
       "Education         0.974914\n",
       "Entertainment     0.873494\n",
       "Food              0.940889\n",
       "Health            0.933427\n",
       "Housing           0.881266\n",
       "Manufacturing     0.992590\n",
       "Personal Use      0.959819\n",
       "Retail            0.917418\n",
       "Services          0.913802\n",
       "Transportation    0.888968\n",
       "Wholesale         0.966877\n",
       "Name: status, dtype: float64"
      ]
     },
     "execution_count": 38,
     "metadata": {},
     "output_type": "execute_result"
    }
   ],
   "source": [
    "df.groupby('sector').status.mean()"
   ]
  },
  {
   "cell_type": "code",
   "execution_count": 39,
   "metadata": {},
   "outputs": [
    {
     "data": {
      "text/plain": [
       "country\n",
       "Afghanistan                                  2\n",
       "Albania                                   1934\n",
       "Armenia                                   8631\n",
       "Azerbaijan                                1945\n",
       "Belize                                     125\n",
       "Benin                                      497\n",
       "Bhutan                                       2\n",
       "Bolivia                                   8806\n",
       "Brazil                                     284\n",
       "Burkina Faso                              2460\n",
       "Burundi                                    880\n",
       "Cambodia                                 34836\n",
       "Cameroon                                  2230\n",
       "Chile                                       10\n",
       "China                                      134\n",
       "Colombia                                 21995\n",
       "Congo                                      128\n",
       "Costa Rica                                1561\n",
       "Cote D'Ivoire                                1\n",
       "Dominican Republic                         496\n",
       "Ecuador                                  13521\n",
       "Egypt                                     1639\n",
       "El Salvador                              39875\n",
       "Georgia                                   2409\n",
       "Ghana                                     4374\n",
       "Guam                                         1\n",
       "Guatemala                                 7310\n",
       "Haiti                                     3618\n",
       "Honduras                                  6557\n",
       "India                                    11237\n",
       "                                         ...  \n",
       "Paraguay                                 11903\n",
       "Peru                                     22233\n",
       "Philippines                             160441\n",
       "Puerto Rico                                 68\n",
       "Rwanda                                    6735\n",
       "Saint Vincent and the Grenadines            16\n",
       "Samoa                                     7396\n",
       "Senegal                                   3269\n",
       "Sierra Leone                              5415\n",
       "Solomon Islands                            554\n",
       "Somalia                                     75\n",
       "South Africa                               378\n",
       "South Sudan                                160\n",
       "Suriname                                   223\n",
       "Tajikistan                               19580\n",
       "Tanzania                                  5219\n",
       "Thailand                                   180\n",
       "The Democratic Republic of the Congo      3073\n",
       "Timor-Leste                               2690\n",
       "Togo                                      5749\n",
       "Turkey                                    1703\n",
       "Uganda                                   20601\n",
       "Ukraine                                    963\n",
       "United States                             6093\n",
       "Vanuatu                                      4\n",
       "Vietnam                                  10843\n",
       "Virgin Islands                               2\n",
       "Yemen                                     2313\n",
       "Zambia                                     784\n",
       "Zimbabwe                                  4034\n",
       "Name: status, Length: 87, dtype: int64"
      ]
     },
     "execution_count": 39,
     "metadata": {},
     "output_type": "execute_result"
    }
   ],
   "source": [
    "# Loans by country\n",
    "df.groupby(['country']).status.count()"
   ]
  },
  {
   "cell_type": "code",
   "execution_count": 40,
   "metadata": {},
   "outputs": [
    {
     "data": {
      "text/plain": [
       "country      sector        \n",
       "Afghanistan  Arts                 2\n",
       "Albania      Agriculture        719\n",
       "             Arts                 5\n",
       "             Clothing            87\n",
       "             Construction        30\n",
       "             Education           93\n",
       "             Entertainment        5\n",
       "             Food                79\n",
       "             Health             271\n",
       "             Housing            378\n",
       "             Manufacturing       21\n",
       "             Personal Use        89\n",
       "             Retail              40\n",
       "             Services            70\n",
       "             Transportation      40\n",
       "             Wholesale            7\n",
       "Armenia      Agriculture       4630\n",
       "             Arts                49\n",
       "             Clothing           263\n",
       "             Construction       144\n",
       "             Education         1293\n",
       "             Entertainment       13\n",
       "             Food               361\n",
       "             Health             748\n",
       "             Housing             45\n",
       "             Manufacturing       75\n",
       "             Personal Use       162\n",
       "             Retail             260\n",
       "             Services           389\n",
       "             Transportation     184\n",
       "                               ... \n",
       "Yemen        Housing            382\n",
       "             Manufacturing       13\n",
       "             Personal Use       633\n",
       "             Retail             263\n",
       "             Services           151\n",
       "             Transportation     108\n",
       "             Wholesale            1\n",
       "Zambia       Agriculture        112\n",
       "             Clothing             1\n",
       "             Education           42\n",
       "             Food                77\n",
       "             Health              10\n",
       "             Manufacturing        5\n",
       "             Personal Use        45\n",
       "             Retail              14\n",
       "             Services           464\n",
       "             Wholesale           14\n",
       "Zimbabwe     Agriculture       1078\n",
       "             Arts                16\n",
       "             Clothing          1095\n",
       "             Construction        20\n",
       "             Education           30\n",
       "             Food               709\n",
       "             Health               3\n",
       "             Manufacturing       61\n",
       "             Personal Use         1\n",
       "             Retail             766\n",
       "             Services           230\n",
       "             Transportation       9\n",
       "             Wholesale           16\n",
       "Name: status, Length: 990, dtype: int64"
      ]
     },
     "execution_count": 40,
     "metadata": {},
     "output_type": "execute_result"
    }
   ],
   "source": [
    "# Loans by country and sector\n",
    "df.groupby(['country', 'sector']).status.count()"
   ]
  },
  {
   "cell_type": "code",
   "execution_count": 41,
   "metadata": {},
   "outputs": [
    {
     "data": {
      "text/plain": [
       "sub_region       sector        \n",
       "Caribbean        Agriculture       0.948529\n",
       "                 Arts              0.864865\n",
       "                 Clothing          0.981283\n",
       "                 Construction      0.940000\n",
       "                 Education         0.935135\n",
       "                 Entertainment     0.800000\n",
       "                 Food              0.979866\n",
       "                 Health            0.958333\n",
       "                 Housing           1.000000\n",
       "                 Manufacturing     0.892857\n",
       "                 Personal Use      1.000000\n",
       "                 Retail            0.982003\n",
       "                 Services          0.953488\n",
       "                 Transportation    1.000000\n",
       "                 Wholesale         0.973684\n",
       "Central America  Agriculture       0.869626\n",
       "                 Arts              0.993264\n",
       "                 Clothing          0.848978\n",
       "                 Construction      0.962373\n",
       "                 Education         0.972561\n",
       "                 Entertainment     1.000000\n",
       "                 Food              0.887045\n",
       "                 Health            0.904875\n",
       "                 Housing           0.803379\n",
       "                 Manufacturing     0.994885\n",
       "                 Personal Use      0.922671\n",
       "                 Retail            0.808822\n",
       "                 Services          0.891082\n",
       "                 Transportation    0.784689\n",
       "                 Wholesale         0.958333\n",
       "                                     ...   \n",
       "Southern Europe  Agriculture       0.938804\n",
       "                 Arts              1.000000\n",
       "                 Clothing          0.827586\n",
       "                 Construction      0.900000\n",
       "                 Education         0.989247\n",
       "                 Entertainment     1.000000\n",
       "                 Food              0.772152\n",
       "                 Health            0.944649\n",
       "                 Housing           0.783069\n",
       "                 Manufacturing     1.000000\n",
       "                 Personal Use      0.707865\n",
       "                 Retail            0.750000\n",
       "                 Services          0.871429\n",
       "                 Transportation    0.850000\n",
       "                 Wholesale         1.000000\n",
       "Western Africa   Agriculture       0.893738\n",
       "                 Arts              0.989547\n",
       "                 Clothing          0.962487\n",
       "                 Construction      0.951613\n",
       "                 Education         0.919474\n",
       "                 Entertainment     1.000000\n",
       "                 Food              0.965944\n",
       "                 Health            1.000000\n",
       "                 Housing           0.957143\n",
       "                 Manufacturing     1.000000\n",
       "                 Personal Use      0.920052\n",
       "                 Retail            0.951638\n",
       "                 Services          0.973034\n",
       "                 Transportation    0.937500\n",
       "                 Wholesale         1.000000\n",
       "Name: status, Length: 261, dtype: float64"
      ]
     },
     "execution_count": 41,
     "metadata": {},
     "output_type": "execute_result"
    }
   ],
   "source": [
    "# Success percentage by continent\n",
    "df.groupby(['sub_region', 'sector']).status.mean().sort_index()"
   ]
  },
  {
   "cell_type": "code",
   "execution_count": 1,
   "metadata": {},
   "outputs": [
    {
     "ename": "NameError",
     "evalue": "name 'df' is not defined",
     "output_type": "error",
     "traceback": [
      "\u001b[0;31m---------------------------------------------------------------------------\u001b[0m",
      "\u001b[0;31mNameError\u001b[0m                                 Traceback (most recent call last)",
      "\u001b[0;32m<ipython-input-1-4537156a6b04>\u001b[0m in \u001b[0;36m<module>\u001b[0;34m()\u001b[0m\n\u001b[0;32m----> 1\u001b[0;31m \u001b[0mdf1\u001b[0m \u001b[0;34m=\u001b[0m \u001b[0mdf\u001b[0m\u001b[0;34m[\u001b[0m\u001b[0;34m[\u001b[0m\u001b[0;34m'loan_amount'\u001b[0m\u001b[0;34m,\u001b[0m \u001b[0;34m'status'\u001b[0m\u001b[0;34m,\u001b[0m \u001b[0;34m'sector'\u001b[0m\u001b[0;34m,\u001b[0m\u001b[0;34m'country'\u001b[0m\u001b[0;34m,\u001b[0m\u001b[0;34m'term_in_months'\u001b[0m\u001b[0;34m,\u001b[0m \u001b[0;34m'repayment_interval'\u001b[0m\u001b[0;34m]\u001b[0m\u001b[0;34m]\u001b[0m\u001b[0;34m\u001b[0m\u001b[0m\n\u001b[0m\u001b[1;32m      2\u001b[0m \u001b[0mdf1\u001b[0m\u001b[0;34m.\u001b[0m\u001b[0mhead\u001b[0m\u001b[0;34m(\u001b[0m\u001b[0;34m)\u001b[0m\u001b[0;34m\u001b[0m\u001b[0m\n",
      "\u001b[0;31mNameError\u001b[0m: name 'df' is not defined"
     ]
    }
   ],
   "source": [
    "df1 = df[['loan_amount', 'status', 'sector','country','term_in_months', 'repayment_interval']]\n",
    "df1.head()"
   ]
  },
  {
   "cell_type": "code",
   "execution_count": null,
   "metadata": {},
   "outputs": [],
   "source": [
    "# not really useful since it is not a regression analysis but wanted to see if there was any correlation i was missing\n",
    "# sns.pairplot(df1,hue='result',palette='bwr')"
   ]
  }
 ],
 "metadata": {
  "kernelspec": {
   "display_name": "Python 3",
   "language": "python",
   "name": "python3"
  },
  "language_info": {
   "codemirror_mode": {
    "name": "ipython",
    "version": 3
   },
   "file_extension": ".py",
   "mimetype": "text/x-python",
   "name": "python",
   "nbconvert_exporter": "python",
   "pygments_lexer": "ipython3",
   "version": "3.6.4"
  }
 },
 "nbformat": 4,
 "nbformat_minor": 2
}
