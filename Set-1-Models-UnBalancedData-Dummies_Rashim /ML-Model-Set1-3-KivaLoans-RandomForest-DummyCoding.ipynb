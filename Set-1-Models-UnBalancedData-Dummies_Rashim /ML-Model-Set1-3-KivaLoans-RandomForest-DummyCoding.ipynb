{
 "cells": [
  {
   "cell_type": "code",
   "execution_count": 1,
   "metadata": {},
   "outputs": [],
   "source": [
    "import re\n",
    "import pandas as pd\n",
    "import numpy as np\n",
    "import seaborn as sns\n",
    "import datetime\n",
    "import matplotlib.pyplot as plt\n",
    "from sklearn.pipeline import Pipeline, FeatureUnion\n",
    "from sklearn.pipeline import make_pipeline\n",
    "from sklearn.model_selection import train_test_split\n",
    "\n",
    "from sklearn.ensemble import RandomForestClassifier\n",
    "from sklearn.metrics import make_scorer, accuracy_score\n",
    "from sklearn.model_selection import GridSearchCV\n",
    "from sklearn.preprocessing import StandardScaler\n",
    "from sklearn.linear_model import LogisticRegression\n",
    "\n"
   ]
  },
  {
   "cell_type": "code",
   "execution_count": 2,
   "metadata": {
    "scrolled": true
   },
   "outputs": [
    {
     "name": "stdout",
     "output_type": "stream",
     "text": [
      "671205\n"
     ]
    }
   ],
   "source": [
    "df = pd.read_csv('kiva_loans_20181016.csv')\n",
    "print(len(df))\n",
    "# df = df.sample(n=round(len(df)*.2))\n",
    "# print(len(df))\n",
    "# df = df.loc[df.status==0].append(df.loc[df.status==1].sample(len(df.loc[df.status==0])))\n",
    "# df.status.value_counts()"
   ]
  },
  {
   "cell_type": "code",
   "execution_count": 3,
   "metadata": {},
   "outputs": [
    {
     "data": {
      "text/plain": [
       "(671205, 18)"
      ]
     },
     "execution_count": 3,
     "metadata": {},
     "output_type": "execute_result"
    }
   ],
   "source": [
    "df.shape"
   ]
  },
  {
   "cell_type": "code",
   "execution_count": 4,
   "metadata": {},
   "outputs": [
    {
     "data": {
      "text/plain": [
       "1    622877\n",
       "0     48328\n",
       "Name: status, dtype: int64"
      ]
     },
     "execution_count": 4,
     "metadata": {},
     "output_type": "execute_result"
    }
   ],
   "source": [
    "df.status.value_counts()"
   ]
  },
  {
   "cell_type": "code",
   "execution_count": 5,
   "metadata": {},
   "outputs": [
    {
     "data": {
      "text/plain": [
       "id                     int64\n",
       "date                  object\n",
       "activity              object\n",
       "sector                object\n",
       "use                   object\n",
       "funded_amount          int64\n",
       "loan_amount            int64\n",
       "diff_funded_loan       int64\n",
       "status                 int64\n",
       "country_code          object\n",
       "country               object\n",
       "currency              object\n",
       "gender                object\n",
       "borrower_genders      object\n",
       "lender_count           int64\n",
       "term_in_months         int64\n",
       "repayment_interval    object\n",
       "tags                  object\n",
       "dtype: object"
      ]
     },
     "execution_count": 5,
     "metadata": {},
     "output_type": "execute_result"
    }
   ],
   "source": [
    "df.dtypes"
   ]
  },
  {
   "cell_type": "code",
   "execution_count": 6,
   "metadata": {},
   "outputs": [
    {
     "data": {
      "text/plain": [
       "id                         0\n",
       "date                       0\n",
       "activity                   0\n",
       "sector                     0\n",
       "use                     4232\n",
       "funded_amount              0\n",
       "loan_amount                0\n",
       "diff_funded_loan           0\n",
       "status                     0\n",
       "country_code               8\n",
       "country                    0\n",
       "currency                   0\n",
       "gender                  4221\n",
       "borrower_genders        4221\n",
       "lender_count               0\n",
       "term_in_months             0\n",
       "repayment_interval         0\n",
       "tags                  171416\n",
       "dtype: int64"
      ]
     },
     "execution_count": 6,
     "metadata": {},
     "output_type": "execute_result"
    }
   ],
   "source": [
    "df.isnull().sum()"
   ]
  },
  {
   "cell_type": "code",
   "execution_count": 7,
   "metadata": {},
   "outputs": [],
   "source": [
    "df1 = df[['status', 'loan_amount', 'activity', 'sector',  'country',\n",
    "         'currency','gender','term_in_months']]"
   ]
  },
  {
   "cell_type": "code",
   "execution_count": 8,
   "metadata": {},
   "outputs": [
    {
     "data": {
      "text/html": [
       "<div>\n",
       "<style scoped>\n",
       "    .dataframe tbody tr th:only-of-type {\n",
       "        vertical-align: middle;\n",
       "    }\n",
       "\n",
       "    .dataframe tbody tr th {\n",
       "        vertical-align: top;\n",
       "    }\n",
       "\n",
       "    .dataframe thead th {\n",
       "        text-align: right;\n",
       "    }\n",
       "</style>\n",
       "<table border=\"1\" class=\"dataframe\">\n",
       "  <thead>\n",
       "    <tr style=\"text-align: right;\">\n",
       "      <th></th>\n",
       "      <th>status</th>\n",
       "      <th>loan_amount</th>\n",
       "      <th>activity</th>\n",
       "      <th>sector</th>\n",
       "      <th>country</th>\n",
       "      <th>currency</th>\n",
       "      <th>gender</th>\n",
       "      <th>term_in_months</th>\n",
       "    </tr>\n",
       "  </thead>\n",
       "  <tbody>\n",
       "    <tr>\n",
       "      <th>0</th>\n",
       "      <td>1</td>\n",
       "      <td>300</td>\n",
       "      <td>Fruits &amp; Vegetables</td>\n",
       "      <td>Food</td>\n",
       "      <td>Pakistan</td>\n",
       "      <td>PKR</td>\n",
       "      <td>female</td>\n",
       "      <td>12</td>\n",
       "    </tr>\n",
       "    <tr>\n",
       "      <th>1</th>\n",
       "      <td>1</td>\n",
       "      <td>575</td>\n",
       "      <td>Rickshaw</td>\n",
       "      <td>Transportation</td>\n",
       "      <td>Pakistan</td>\n",
       "      <td>PKR</td>\n",
       "      <td>group</td>\n",
       "      <td>11</td>\n",
       "    </tr>\n",
       "  </tbody>\n",
       "</table>\n",
       "</div>"
      ],
      "text/plain": [
       "   status  loan_amount             activity          sector   country  \\\n",
       "0       1          300  Fruits & Vegetables            Food  Pakistan   \n",
       "1       1          575             Rickshaw  Transportation  Pakistan   \n",
       "\n",
       "  currency  gender  term_in_months  \n",
       "0      PKR  female              12  \n",
       "1      PKR   group              11  "
      ]
     },
     "execution_count": 8,
     "metadata": {},
     "output_type": "execute_result"
    }
   ],
   "source": [
    "df1.head(2)"
   ]
  },
  {
   "cell_type": "code",
   "execution_count": 9,
   "metadata": {},
   "outputs": [
    {
     "data": {
      "text/html": [
       "<div>\n",
       "<style scoped>\n",
       "    .dataframe tbody tr th:only-of-type {\n",
       "        vertical-align: middle;\n",
       "    }\n",
       "\n",
       "    .dataframe tbody tr th {\n",
       "        vertical-align: top;\n",
       "    }\n",
       "\n",
       "    .dataframe thead th {\n",
       "        text-align: right;\n",
       "    }\n",
       "</style>\n",
       "<table border=\"1\" class=\"dataframe\">\n",
       "  <thead>\n",
       "    <tr style=\"text-align: right;\">\n",
       "      <th></th>\n",
       "      <th>status</th>\n",
       "      <th>loan_amount</th>\n",
       "      <th>activity</th>\n",
       "      <th>sector</th>\n",
       "      <th>country</th>\n",
       "      <th>gender</th>\n",
       "      <th>term_in_months</th>\n",
       "    </tr>\n",
       "  </thead>\n",
       "  <tbody>\n",
       "    <tr>\n",
       "      <th>0</th>\n",
       "      <td>1</td>\n",
       "      <td>300</td>\n",
       "      <td>Fruits &amp; Vegetables</td>\n",
       "      <td>Food</td>\n",
       "      <td>Pakistan</td>\n",
       "      <td>female</td>\n",
       "      <td>12</td>\n",
       "    </tr>\n",
       "    <tr>\n",
       "      <th>1</th>\n",
       "      <td>1</td>\n",
       "      <td>575</td>\n",
       "      <td>Rickshaw</td>\n",
       "      <td>Transportation</td>\n",
       "      <td>Pakistan</td>\n",
       "      <td>group</td>\n",
       "      <td>11</td>\n",
       "    </tr>\n",
       "    <tr>\n",
       "      <th>2</th>\n",
       "      <td>1</td>\n",
       "      <td>150</td>\n",
       "      <td>Transportation</td>\n",
       "      <td>Transportation</td>\n",
       "      <td>India</td>\n",
       "      <td>female</td>\n",
       "      <td>43</td>\n",
       "    </tr>\n",
       "    <tr>\n",
       "      <th>3</th>\n",
       "      <td>1</td>\n",
       "      <td>200</td>\n",
       "      <td>Embroidery</td>\n",
       "      <td>Arts</td>\n",
       "      <td>Pakistan</td>\n",
       "      <td>female</td>\n",
       "      <td>11</td>\n",
       "    </tr>\n",
       "    <tr>\n",
       "      <th>4</th>\n",
       "      <td>1</td>\n",
       "      <td>400</td>\n",
       "      <td>Milk Sales</td>\n",
       "      <td>Food</td>\n",
       "      <td>Pakistan</td>\n",
       "      <td>female</td>\n",
       "      <td>14</td>\n",
       "    </tr>\n",
       "  </tbody>\n",
       "</table>\n",
       "</div>"
      ],
      "text/plain": [
       "   status  loan_amount             activity          sector   country  gender  \\\n",
       "0       1          300  Fruits & Vegetables            Food  Pakistan  female   \n",
       "1       1          575             Rickshaw  Transportation  Pakistan   group   \n",
       "2       1          150       Transportation  Transportation     India  female   \n",
       "3       1          200           Embroidery            Arts  Pakistan  female   \n",
       "4       1          400           Milk Sales            Food  Pakistan  female   \n",
       "\n",
       "   term_in_months  \n",
       "0              12  \n",
       "1              11  \n",
       "2              43  \n",
       "3              11  \n",
       "4              14  "
      ]
     },
     "execution_count": 9,
     "metadata": {},
     "output_type": "execute_result"
    }
   ],
   "source": [
    "df2 = df1.dropna()\n",
    "df2 = df2.drop(['currency'], axis=1)\n",
    "df2.head()"
   ]
  },
  {
   "cell_type": "code",
   "execution_count": 10,
   "metadata": {},
   "outputs": [
    {
     "data": {
      "text/plain": [
       "(666984, 7)"
      ]
     },
     "execution_count": 10,
     "metadata": {},
     "output_type": "execute_result"
    }
   ],
   "source": [
    "df2.shape"
   ]
  },
  {
   "cell_type": "code",
   "execution_count": 11,
   "metadata": {},
   "outputs": [
    {
     "data": {
      "text/html": [
       "<div>\n",
       "<style scoped>\n",
       "    .dataframe tbody tr th:only-of-type {\n",
       "        vertical-align: middle;\n",
       "    }\n",
       "\n",
       "    .dataframe tbody tr th {\n",
       "        vertical-align: top;\n",
       "    }\n",
       "\n",
       "    .dataframe thead th {\n",
       "        text-align: right;\n",
       "    }\n",
       "</style>\n",
       "<table border=\"1\" class=\"dataframe\">\n",
       "  <thead>\n",
       "    <tr style=\"text-align: right;\">\n",
       "      <th></th>\n",
       "      <th>status</th>\n",
       "      <th>loan_amount</th>\n",
       "      <th>term_in_months</th>\n",
       "      <th>activity_Adult Care</th>\n",
       "      <th>activity_Agriculture</th>\n",
       "      <th>activity_Air Conditioning</th>\n",
       "      <th>activity_Animal Sales</th>\n",
       "      <th>activity_Aquaculture</th>\n",
       "      <th>activity_Arts</th>\n",
       "      <th>activity_Auto Repair</th>\n",
       "      <th>...</th>\n",
       "      <th>country_United States</th>\n",
       "      <th>country_Vanuatu</th>\n",
       "      <th>country_Vietnam</th>\n",
       "      <th>country_Virgin Islands</th>\n",
       "      <th>country_Yemen</th>\n",
       "      <th>country_Zambia</th>\n",
       "      <th>country_Zimbabwe</th>\n",
       "      <th>gender_female</th>\n",
       "      <th>gender_group</th>\n",
       "      <th>gender_male</th>\n",
       "    </tr>\n",
       "  </thead>\n",
       "  <tbody>\n",
       "    <tr>\n",
       "      <th>0</th>\n",
       "      <td>1</td>\n",
       "      <td>300</td>\n",
       "      <td>12</td>\n",
       "      <td>0</td>\n",
       "      <td>0</td>\n",
       "      <td>0</td>\n",
       "      <td>0</td>\n",
       "      <td>0</td>\n",
       "      <td>0</td>\n",
       "      <td>0</td>\n",
       "      <td>...</td>\n",
       "      <td>0</td>\n",
       "      <td>0</td>\n",
       "      <td>0</td>\n",
       "      <td>0</td>\n",
       "      <td>0</td>\n",
       "      <td>0</td>\n",
       "      <td>0</td>\n",
       "      <td>1</td>\n",
       "      <td>0</td>\n",
       "      <td>0</td>\n",
       "    </tr>\n",
       "    <tr>\n",
       "      <th>1</th>\n",
       "      <td>1</td>\n",
       "      <td>575</td>\n",
       "      <td>11</td>\n",
       "      <td>0</td>\n",
       "      <td>0</td>\n",
       "      <td>0</td>\n",
       "      <td>0</td>\n",
       "      <td>0</td>\n",
       "      <td>0</td>\n",
       "      <td>0</td>\n",
       "      <td>...</td>\n",
       "      <td>0</td>\n",
       "      <td>0</td>\n",
       "      <td>0</td>\n",
       "      <td>0</td>\n",
       "      <td>0</td>\n",
       "      <td>0</td>\n",
       "      <td>0</td>\n",
       "      <td>0</td>\n",
       "      <td>1</td>\n",
       "      <td>0</td>\n",
       "    </tr>\n",
       "    <tr>\n",
       "      <th>2</th>\n",
       "      <td>1</td>\n",
       "      <td>150</td>\n",
       "      <td>43</td>\n",
       "      <td>0</td>\n",
       "      <td>0</td>\n",
       "      <td>0</td>\n",
       "      <td>0</td>\n",
       "      <td>0</td>\n",
       "      <td>0</td>\n",
       "      <td>0</td>\n",
       "      <td>...</td>\n",
       "      <td>0</td>\n",
       "      <td>0</td>\n",
       "      <td>0</td>\n",
       "      <td>0</td>\n",
       "      <td>0</td>\n",
       "      <td>0</td>\n",
       "      <td>0</td>\n",
       "      <td>1</td>\n",
       "      <td>0</td>\n",
       "      <td>0</td>\n",
       "    </tr>\n",
       "    <tr>\n",
       "      <th>3</th>\n",
       "      <td>1</td>\n",
       "      <td>200</td>\n",
       "      <td>11</td>\n",
       "      <td>0</td>\n",
       "      <td>0</td>\n",
       "      <td>0</td>\n",
       "      <td>0</td>\n",
       "      <td>0</td>\n",
       "      <td>0</td>\n",
       "      <td>0</td>\n",
       "      <td>...</td>\n",
       "      <td>0</td>\n",
       "      <td>0</td>\n",
       "      <td>0</td>\n",
       "      <td>0</td>\n",
       "      <td>0</td>\n",
       "      <td>0</td>\n",
       "      <td>0</td>\n",
       "      <td>1</td>\n",
       "      <td>0</td>\n",
       "      <td>0</td>\n",
       "    </tr>\n",
       "    <tr>\n",
       "      <th>4</th>\n",
       "      <td>1</td>\n",
       "      <td>400</td>\n",
       "      <td>14</td>\n",
       "      <td>0</td>\n",
       "      <td>0</td>\n",
       "      <td>0</td>\n",
       "      <td>0</td>\n",
       "      <td>0</td>\n",
       "      <td>0</td>\n",
       "      <td>0</td>\n",
       "      <td>...</td>\n",
       "      <td>0</td>\n",
       "      <td>0</td>\n",
       "      <td>0</td>\n",
       "      <td>0</td>\n",
       "      <td>0</td>\n",
       "      <td>0</td>\n",
       "      <td>0</td>\n",
       "      <td>1</td>\n",
       "      <td>0</td>\n",
       "      <td>0</td>\n",
       "    </tr>\n",
       "  </tbody>\n",
       "</table>\n",
       "<p>5 rows × 271 columns</p>\n",
       "</div>"
      ],
      "text/plain": [
       "   status  loan_amount  term_in_months  activity_Adult Care  \\\n",
       "0       1          300              12                    0   \n",
       "1       1          575              11                    0   \n",
       "2       1          150              43                    0   \n",
       "3       1          200              11                    0   \n",
       "4       1          400              14                    0   \n",
       "\n",
       "   activity_Agriculture  activity_Air Conditioning  activity_Animal Sales  \\\n",
       "0                     0                          0                      0   \n",
       "1                     0                          0                      0   \n",
       "2                     0                          0                      0   \n",
       "3                     0                          0                      0   \n",
       "4                     0                          0                      0   \n",
       "\n",
       "   activity_Aquaculture  activity_Arts  activity_Auto Repair     ...       \\\n",
       "0                     0              0                     0     ...        \n",
       "1                     0              0                     0     ...        \n",
       "2                     0              0                     0     ...        \n",
       "3                     0              0                     0     ...        \n",
       "4                     0              0                     0     ...        \n",
       "\n",
       "   country_United States  country_Vanuatu  country_Vietnam  \\\n",
       "0                      0                0                0   \n",
       "1                      0                0                0   \n",
       "2                      0                0                0   \n",
       "3                      0                0                0   \n",
       "4                      0                0                0   \n",
       "\n",
       "   country_Virgin Islands  country_Yemen  country_Zambia  country_Zimbabwe  \\\n",
       "0                       0              0               0                 0   \n",
       "1                       0              0               0                 0   \n",
       "2                       0              0               0                 0   \n",
       "3                       0              0               0                 0   \n",
       "4                       0              0               0                 0   \n",
       "\n",
       "   gender_female  gender_group  gender_male  \n",
       "0              1             0            0  \n",
       "1              0             1            0  \n",
       "2              1             0            0  \n",
       "3              1             0            0  \n",
       "4              1             0            0  \n",
       "\n",
       "[5 rows x 271 columns]"
      ]
     },
     "execution_count": 11,
     "metadata": {},
     "output_type": "execute_result"
    }
   ],
   "source": [
    "# Use Pandas get_dummies to convert categorical data\n",
    "\n",
    "df2 = pd.get_dummies(df2)\n",
    "df2.head()"
   ]
  },
  {
   "cell_type": "code",
   "execution_count": 12,
   "metadata": {},
   "outputs": [
    {
     "data": {
      "text/plain": [
       "(666984, 271)"
      ]
     },
     "execution_count": 12,
     "metadata": {},
     "output_type": "execute_result"
    }
   ],
   "source": [
    "df2.shape"
   ]
  },
  {
   "cell_type": "code",
   "execution_count": 13,
   "metadata": {},
   "outputs": [],
   "source": [
    "X = df2.drop(['status'], axis=1)\n",
    "feature_names = X.columns\n",
    "y = df2['status']"
   ]
  },
  {
   "cell_type": "markdown",
   "metadata": {},
   "source": [
    "# The Random Forest Model"
   ]
  },
  {
   "cell_type": "code",
   "execution_count": 14,
   "metadata": {},
   "outputs": [
    {
     "data": {
      "text/plain": [
       "0.9216712844685929"
      ]
     },
     "execution_count": 14,
     "metadata": {},
     "output_type": "execute_result"
    }
   ],
   "source": [
    "from sklearn.ensemble import RandomForestClassifier\n",
    "\n",
    "from sklearn.model_selection import train_test_split\n",
    "X_train, X_test, y_train, y_test = train_test_split(X, y, random_state=42)\n",
    "\n",
    "rf = RandomForestClassifier(n_estimators=200, n_jobs=-1)\n",
    "rf = rf.fit(X_train, y_train)\n",
    "rf.score(X_test, y_test)"
   ]
  },
  {
   "cell_type": "code",
   "execution_count": 15,
   "metadata": {},
   "outputs": [
    {
     "data": {
      "text/plain": [
       "[(0.460361012767996, 'loan_amount'),\n",
       " (0.21545241549891825, 'term_in_months'),\n",
       " (0.021276552171938797, 'gender_male'),\n",
       " (0.014309053801452863, 'gender_female'),\n",
       " (0.013295545094422127, 'country_El Salvador'),\n",
       " (0.01005502842879511, 'country_United States'),\n",
       " (0.009945783047685418, 'country_Colombia'),\n",
       " (0.007376178270285649, 'country_Philippines'),\n",
       " (0.006472111148948952, 'sector_Retail'),\n",
       " (0.005958022189326811, 'country_Kenya'),\n",
       " (0.004808639930221584, 'country_Uganda'),\n",
       " (0.004271418822997508, 'gender_group'),\n",
       " (0.004269454727073882, 'country_Armenia'),\n",
       " (0.0042638513515159335, 'country_Tajikistan'),\n",
       " (0.0040700767862456326, 'country_Pakistan'),\n",
       " (0.003974230271162765, 'country_Nicaragua'),\n",
       " (0.003928726281316199, 'sector_Agriculture'),\n",
       " (0.003901745547626476, 'activity_General Store'),\n",
       " (0.0037733206836369137, 'sector_Education'),\n",
       " (0.003419938048512117, 'country_Bolivia'),\n",
       " (0.0033774485053461962, 'activity_Farming'),\n",
       " (0.003372222552321949, 'country_Peru'),\n",
       " (0.003235241047067492, 'sector_Food'),\n",
       " (0.003200830449004785, 'country_Cambodia'),\n",
       " (0.0029857758850587016, 'activity_Retail'),\n",
       " (0.0029534649575445326, 'activity_Grocery Store'),\n",
       " (0.0028977725098700575, 'country_Vietnam'),\n",
       " (0.0027926427787181092, 'country_Palestine'),\n",
       " (0.002724313975481269, 'country_Ecuador'),\n",
       " (0.0026050663591433657, 'country_Rwanda'),\n",
       " (0.0025450804265302923, 'activity_Food Production/Sales'),\n",
       " (0.0025346753538651066, 'activity_Agriculture'),\n",
       " (0.002520250288300185, 'country_Lebanon'),\n",
       " (0.002393098358917691, 'sector_Clothing'),\n",
       " (0.0023502139995882653, 'country_Nigeria'),\n",
       " (0.0022973531402081904, 'sector_Services'),\n",
       " (0.0022886274337985176, 'activity_Personal Housing Expenses'),\n",
       " (0.002261779807760104, 'activity_Services'),\n",
       " (0.002250811481488259, 'sector_Housing'),\n",
       " (0.0022490262259843856, 'activity_Clothing Sales'),\n",
       " (0.0022272305207916175, 'country_Honduras'),\n",
       " (0.002213978238077031, 'country_Guatemala'),\n",
       " (0.002072661317279972, 'activity_Fruits & Vegetables'),\n",
       " (0.0020512315839827156, 'sector_Manufacturing'),\n",
       " (0.0019846529616257044, 'activity_Food'),\n",
       " (0.001897829160399068, 'sector_Personal Use'),\n",
       " (0.0018695561948237497, 'activity_Livestock'),\n",
       " (0.0018600191633504912, 'activity_Higher education costs'),\n",
       " (0.0018461317354674823, 'country_Paraguay'),\n",
       " (0.0018331458406415054, 'country_Indonesia'),\n",
       " (0.0018228803933045467, 'activity_Cattle'),\n",
       " (0.001818637461874402, 'activity_Beauty Salon'),\n",
       " (0.0018124468852650057, 'activity_Food Market'),\n",
       " (0.001719725357374034, 'activity_Home Products Sales'),\n",
       " (0.0017144365345449148, 'activity_Food Stall'),\n",
       " (0.001712682454812485, 'activity_Cosmetics Sales'),\n",
       " (0.001669901146000695, 'sector_Transportation'),\n",
       " (0.0016214885090964461, 'sector_Arts'),\n",
       " (0.0016062326215767742, 'activity_Restaurant'),\n",
       " (0.0015815500988913098, 'activity_Shoe Sales'),\n",
       " (0.00155257856350407, 'activity_Personal Expenses'),\n",
       " (0.0015307621850824138, 'country_Mexico'),\n",
       " (0.0015136273253208191, 'country_Senegal'),\n",
       " (0.0015053422886369893, 'country_Georgia'),\n",
       " (0.001466323926379739, 'activity_Farm Supplies'),\n",
       " (0.0014401623912222259, 'activity_Personal Products Sales'),\n",
       " (0.0014350357422607779, 'activity_Pigs'),\n",
       " (0.001434267170537792, 'activity_Beverages'),\n",
       " (0.001403216773558115, 'activity_Fish Selling'),\n",
       " (0.0014017216704032978, 'activity_Home Appliances'),\n",
       " (0.0013845853062519687, 'activity_Poultry'),\n",
       " (0.0013818838751269449, 'activity_Animal Sales'),\n",
       " (0.0013814746563537495, 'country_Myanmar (Burma)'),\n",
       " (0.0013607623214232896, 'activity_Sewing'),\n",
       " (0.0013543643392191285, 'activity_Bakery'),\n",
       " (0.0013541952024248246, 'sector_Construction'),\n",
       " (0.0013447134632099459, 'activity_Cereals'),\n",
       " (0.0013332070911443671, 'country_Cameroon'),\n",
       " (0.0013253628033166446, 'country_Sierra Leone'),\n",
       " (0.0013198033510685519, 'activity_Butcher Shop'),\n",
       " (0.0013110502820746681, 'sector_Health'),\n",
       " (0.0013014153322908045, 'country_Tanzania'),\n",
       " (0.0012806856172636338, 'country_Mali'),\n",
       " (0.001266747945455762, 'country_Azerbaijan'),\n",
       " (0.001256629084886614, 'activity_Dairy'),\n",
       " (0.0012435294398601986, 'country_Albania'),\n",
       " (0.0012227490234723603, 'country_Kyrgyzstan'),\n",
       " (0.0012132737889979336, 'country_Jordan'),\n",
       " (0.0012097222725402416, 'country_Mozambique'),\n",
       " (0.0011864105555359397, 'country_Samoa'),\n",
       " (0.0011750764971452698, 'country_India'),\n",
       " (0.0010828125637405083, 'activity_Cafe'),\n",
       " (0.0010744832762353284, 'activity_Home Energy'),\n",
       " (0.0010689122989058857, 'activity_Fishing'),\n",
       " (0.0010681612502434364, 'activity_Tailoring'),\n",
       " (0.001053493785314541, 'country_Yemen'),\n",
       " (0.001032087083005262, 'country_Kosovo'),\n",
       " (0.0010271965974432556, 'activity_Auto Repair'),\n",
       " (0.0010163130401429302, 'activity_Spare Parts'),\n",
       " (0.0010113037645966448, 'activity_Motorcycle Transport'),\n",
       " (0.000997801575571433, 'country_Ghana'),\n",
       " (0.0009923948551503418, 'country_Mongolia'),\n",
       " (0.0009573989547995391, 'country_Togo'),\n",
       " (0.0009503643549575937, 'activity_Vehicle'),\n",
       " (0.0009268164922986998, 'country_Costa Rica'),\n",
       " (0.0009267155752708762, 'activity_Transportation'),\n",
       " (0.0009198701159745318, 'activity_Hardware'),\n",
       " (0.0009136773571843739, 'activity_Clothing'),\n",
       " (0.0009061156293754251, 'activity_Jewelry'),\n",
       " (0.000904772697067606, 'country_Egypt'),\n",
       " (0.0008872876928495138, 'country_Timor-Leste'),\n",
       " (0.000817918603032018, 'activity_Fuel/Firewood'),\n",
       " (0.0008155323527107739, 'country_Ukraine'),\n",
       " (0.000807132736317671, 'activity_Mobile Phones'),\n",
       " (0.0008031901622638832, 'activity_Used Clothing'),\n",
       " (0.0007951758100436046, 'activity_Education provider'),\n",
       " (0.0007738752136215839, 'activity_Electronics Sales'),\n",
       " (0.0007737927128332596, 'activity_Technology'),\n",
       " (0.0007596075134955069, 'activity_Vehicle Repairs'),\n",
       " (0.0007428563034958446, 'activity_Phone Accessories'),\n",
       " (0.0007341679974677764, 'activity_Pub'),\n",
       " (0.0007267832403541202, 'activity_Taxi'),\n",
       " (0.0007234412147400098, 'activity_Barber Shop'),\n",
       " (0.000701612473817861, 'country_The Democratic Republic of the Congo'),\n",
       " (0.0006890741653614213, 'activity_Charcoal Sales'),\n",
       " (0.000685510282291089, 'activity_Cloth & Dressmaking Supplies'),\n",
       " (0.0006809582081452495, 'country_Haiti'),\n",
       " (0.000666896882550838, 'activity_Personal Medical Expenses'),\n",
       " (0.0006646668523738485, 'activity_Wedding Expenses'),\n",
       " (0.0006237560095657349, 'activity_Milk Sales'),\n",
       " (0.0006217370287488332, 'activity_Liquor Store / Off-License'),\n",
       " (0.0006182356669464715, 'country_Zimbabwe'),\n",
       " (0.0005798661237673766, 'activity_Construction'),\n",
       " (0.0005785688610340437, 'activity_Phone Use Sales'),\n",
       " (0.0005703815292240279, 'activity_Electrical Goods'),\n",
       " (0.0005308371857238145, 'activity_Construction Supplies'),\n",
       " (0.0005283616527593623, 'activity_Property'),\n",
       " (0.0005265361050200241, 'activity_Plastics Sales'),\n",
       " (0.0005262369410146588, 'activity_Catering'),\n",
       " (0.0005043428652434248, 'activity_Furniture Making'),\n",
       " (0.000504156713518991, 'country_Burkina Faso'),\n",
       " (0.0004991500326051794, 'activity_Primary/secondary school costs'),\n",
       " (0.0004866885778218474, 'activity_Consumer Goods'),\n",
       " (0.00048207314577723996, 'country_Iraq'),\n",
       " (0.0004671493432510845, 'activity_Printing'),\n",
       " (0.00045797573226322456, 'activity_Renewable Energy Products'),\n",
       " (0.0004505358708189733, 'activity_Crafts'),\n",
       " (0.00044786077804336336, 'activity_Internet Cafe'),\n",
       " (0.0004385872947745898, 'activity_Recycled Materials'),\n",
       " (0.00043308241291248523, 'country_Malawi'),\n",
       " (0.0004309795142206372, 'country_Madagascar'),\n",
       " (0.0004185433413619705, 'sector_Entertainment'),\n",
       " (0.00041313130045107484, 'country_Moldova'),\n",
       " (0.0004126801152836664, 'activity_Mobile Transactions'),\n",
       " (0.00040643112573656245, 'activity_Flowers'),\n",
       " (0.0004057528958588376, 'activity_Electronics Repair'),\n",
       " (0.000404224069062569, 'activity_Photography'),\n",
       " (0.0003983650289098613, 'activity_Bookstore'),\n",
       " (0.00039628633329741173, 'activity_Motorcycle Repair'),\n",
       " (0.00037718020809273127, 'activity_Rickshaw'),\n",
       " (0.00037712524282118766, 'country_Burundi'),\n",
       " (0.0003751294231157359, 'country_Zambia'),\n",
       " (0.0003737094684096703, 'activity_Decorations Sales'),\n",
       " (0.0003661872783425065, 'activity_Electrician'),\n",
       " (0.0003552436672723877, 'activity_Perfumes'),\n",
       " (0.0003535025966891411, 'activity_Health'),\n",
       " (0.00032722065921753936, 'activity_Entertainment'),\n",
       " (0.0003267816533051301, 'activity_Office Supplies'),\n",
       " (0.0003254767368791562, 'activity_Metal Shop'),\n",
       " (0.0003083041335337234, 'activity_Manufacturing'),\n",
       " (0.0002989191120848345, 'activity_Communications'),\n",
       " (0.00028909838116432054, 'activity_Hotel'),\n",
       " (0.0002882855641571005, 'activity_Carpentry'),\n",
       " (0.0002766662827157479, 'activity_Used Shoes'),\n",
       " (0.00027666257648830317, 'activity_Cheese Making'),\n",
       " (0.0002672994876824125, 'activity_Tourism'),\n",
       " (0.00026406918420080155, 'activity_Cobbler'),\n",
       " (0.000263617025773756, 'activity_Paper Sales'),\n",
       " (0.00025036060936082296, 'activity_Computers'),\n",
       " (0.0002484721778187331, 'country_Solomon Islands'),\n",
       " (0.00023494463360061775, 'sector_Wholesale'),\n",
       " (0.00023339276221504687, 'activity_Pharmacy'),\n",
       " (0.00021231405719135055, 'country_Dominican Republic'),\n",
       " (0.00020598459567709338, 'activity_Recycling'),\n",
       " (0.00019910612227298175, 'country_Liberia'),\n",
       " (0.00019636694424489246, 'activity_Land Rental'),\n",
       " (0.00019487141754592416, 'country_Benin'),\n",
       " (0.00019355311106559924, 'activity_Water Distribution'),\n",
       " (0.00019352092739813033, 'country_China'),\n",
       " (0.00019020741237364935, 'country_Panama'),\n",
       " (0.00018952274198700482, 'activity_Traveling Sales'),\n",
       " (0.00018706528738803921, 'country_South Africa'),\n",
       " (0.0001843425936912365, 'activity_Cleaning Services'),\n",
       " (0.00017795855357415478, 'activity_Utilities'),\n",
       " (0.00017658983720412368, 'country_Israel'),\n",
       " (0.0001705342597749738, 'activity_Arts'),\n",
       " (0.00016899904714160139, 'activity_Laundry'),\n",
       " (0.0001669396752059621, 'country_Puerto Rico'),\n",
       " (0.00015438038289336675, 'activity_Waste Management'),\n",
       " (0.00015377289243397174, 'activity_Aquaculture'),\n",
       " (0.00015075752958718742, 'activity_Music Discs & Tapes'),\n",
       " (0.0001505661169337959, 'activity_Weaving'),\n",
       " (0.0001454290357962641, 'activity_Dental'),\n",
       " (0.00014437010014504485, 'activity_Movie Tapes & DVDs'),\n",
       " (0.00014214360753260594, \"country_Lao People's Democratic Republic\"),\n",
       " (0.00013818408666169392, 'activity_Child Care'),\n",
       " (0.0001377494168331589, 'activity_Wholesale'),\n",
       " (0.00012874914788412397, 'activity_Phone Repair'),\n",
       " (0.00012725885450862474, 'activity_Party Supplies'),\n",
       " (0.00012196815002793254, 'activity_Souvenir Sales'),\n",
       " (0.00011990424901949771, 'activity_Veterinary Sales'),\n",
       " (0.00011747219701082843, 'activity_Goods Distribution'),\n",
       " (0.00011698766496268617, 'activity_Natural Medicines'),\n",
       " (0.00011572469122913099, 'country_Suriname'),\n",
       " (0.00011016981289878523, 'activity_Machinery Rental'),\n",
       " (0.00010588670351205098, 'country_Brazil'),\n",
       " (0.0001029395614335576, 'activity_Upholstery'),\n",
       " (0.00010160173902010254, 'activity_Bricks'),\n",
       " (9.831103552569521e-05, 'country_Belize'),\n",
       " (9.738012855764591e-05, 'activity_Timber Sales'),\n",
       " (9.246456891972066e-05, 'activity_Medical Clinic'),\n",
       " (9.091092851384906e-05, 'activity_Games'),\n",
       " (9.080493242013883e-05, 'activity_Cement'),\n",
       " (8.490704161475287e-05, 'activity_Bicycle Repair'),\n",
       " (8.480266570226898e-05, 'activity_Musical Performance'),\n",
       " (8.169777167855706e-05, 'activity_Florist'),\n",
       " (7.929382590889451e-05, 'activity_Textiles'),\n",
       " (6.926223378394418e-05, 'activity_Bicycle Sales'),\n",
       " (6.480085987488415e-05, 'activity_Embroidery'),\n",
       " (6.459085805457583e-05, 'country_Turkey'),\n",
       " (5.674265372594276e-05, 'activity_Landscaping / Gardening'),\n",
       " (5.432569629071525e-05, 'activity_Energy'),\n",
       " (5.42689688286277e-05, 'activity_Blacksmith'),\n",
       " (5.237921782521493e-05, 'country_Somalia'),\n",
       " (5.079168760323061e-05, 'country_Virgin Islands'),\n",
       " (4.979136841567321e-05, 'country_Nepal'),\n",
       " (4.976569718987889e-05, 'country_Thailand'),\n",
       " (4.5440557425983944e-05, 'activity_Beekeeping'),\n",
       " (4.11386362640884e-05, 'activity_Quarrying'),\n",
       " (3.449126198512167e-05, 'country_Lesotho'),\n",
       " (3.222531217741187e-05, 'activity_Sporting Good Sales'),\n",
       " (2.9531168429834044e-05, 'activity_Funerals'),\n",
       " (2.8075233193704894e-05, 'activity_Secretarial Services'),\n",
       " (2.7864822609777926e-05, 'activity_Computer'),\n",
       " (2.5403702088001655e-05, 'activity_Musical Instruments'),\n",
       " (2.427120275755032e-05, 'country_Saint Vincent and the Grenadines'),\n",
       " (2.171039194352791e-05, 'country_Guam'),\n",
       " (2.1695929533121632e-05, 'country_Congo'),\n",
       " (2.1190061102216818e-05, 'activity_Religious Articles'),\n",
       " (1.9446896259122087e-05, 'activity_Air Conditioning'),\n",
       " (1.846702461559015e-05, 'country_South Sudan'),\n",
       " (1.706231626081024e-05, 'activity_Knitting'),\n",
       " (1.5023473427270065e-05, 'activity_Machine Shop'),\n",
       " (1.4101335905381268e-05, 'activity_Bookbinding'),\n",
       " (1.3457745291375347e-05, 'activity_Well digging'),\n",
       " (1.3085477412481128e-05, 'activity_Call Center'),\n",
       " (9.298273687934572e-06, 'activity_Balut-Making'),\n",
       " (8.080922779709242e-06, 'activity_Film'),\n",
       " (2.5867527812871802e-06, 'activity_Celebrations'),\n",
       " (2.4350310279981517e-06, 'activity_Adult Care'),\n",
       " (2.0541305687713877e-06, 'activity_Event Planning'),\n",
       " (1.4097427709922804e-06, 'country_Chile'),\n",
       " (1.0601699502859262e-06, 'country_Mauritania'),\n",
       " (5.797508451569938e-07, 'activity_Personal Care Products'),\n",
       " (5.018275102593679e-07, 'country_Vanuatu'),\n",
       " (3.970121474168963e-07, 'country_Bhutan'),\n",
       " (1.9972790961168862e-07, 'country_Namibia'),\n",
       " (1.7832978450568345e-07, 'country_Afghanistan'),\n",
       " (1.1809883022489349e-07, 'activity_Patchwork'),\n",
       " (0.0, \"country_Cote D'Ivoire\")]"
      ]
     },
     "execution_count": 15,
     "metadata": {},
     "output_type": "execute_result"
    }
   ],
   "source": [
    "sorted(zip(rf.feature_importances_, feature_names), reverse=True)"
   ]
  },
  {
   "cell_type": "markdown",
   "metadata": {},
   "source": [
    "# 3 - The Random Forest Model Score"
   ]
  },
  {
   "cell_type": "code",
   "execution_count": 16,
   "metadata": {},
   "outputs": [],
   "source": [
    "predictions = rf.predict(X_test)"
   ]
  },
  {
   "cell_type": "code",
   "execution_count": 17,
   "metadata": {},
   "outputs": [
    {
     "name": "stdout",
     "output_type": "stream",
     "text": [
      "              precision    recall  f1-score   support\n",
      "\n",
      "           0       0.42      0.23      0.29     11975\n",
      "           1       0.94      0.98      0.96    154771\n",
      "\n",
      "   micro avg       0.92      0.92      0.92    166746\n",
      "   macro avg       0.68      0.60      0.63    166746\n",
      "weighted avg       0.90      0.92      0.91    166746\n",
      "\n"
     ]
    }
   ],
   "source": [
    "from sklearn.metrics import classification_report\n",
    "print(classification_report(y_test,predictions))"
   ]
  },
  {
   "cell_type": "code",
   "execution_count": 18,
   "metadata": {},
   "outputs": [],
   "source": [
    "df4 = pd.DataFrame({\"Prediction\": predictions, \"Actual\": y_test}).reset_index(drop=True)"
   ]
  },
  {
   "cell_type": "code",
   "execution_count": 19,
   "metadata": {},
   "outputs": [
    {
     "data": {
      "text/html": [
       "<div>\n",
       "<style scoped>\n",
       "    .dataframe tbody tr th:only-of-type {\n",
       "        vertical-align: middle;\n",
       "    }\n",
       "\n",
       "    .dataframe tbody tr th {\n",
       "        vertical-align: top;\n",
       "    }\n",
       "\n",
       "    .dataframe thead th {\n",
       "        text-align: right;\n",
       "    }\n",
       "</style>\n",
       "<table border=\"1\" class=\"dataframe\">\n",
       "  <thead>\n",
       "    <tr style=\"text-align: right;\">\n",
       "      <th></th>\n",
       "      <th>Prediction</th>\n",
       "      <th>Actual</th>\n",
       "    </tr>\n",
       "  </thead>\n",
       "  <tbody>\n",
       "    <tr>\n",
       "      <th>0</th>\n",
       "      <td>1</td>\n",
       "      <td>1</td>\n",
       "    </tr>\n",
       "    <tr>\n",
       "      <th>1</th>\n",
       "      <td>1</td>\n",
       "      <td>0</td>\n",
       "    </tr>\n",
       "    <tr>\n",
       "      <th>2</th>\n",
       "      <td>1</td>\n",
       "      <td>1</td>\n",
       "    </tr>\n",
       "    <tr>\n",
       "      <th>3</th>\n",
       "      <td>1</td>\n",
       "      <td>1</td>\n",
       "    </tr>\n",
       "    <tr>\n",
       "      <th>4</th>\n",
       "      <td>1</td>\n",
       "      <td>1</td>\n",
       "    </tr>\n",
       "    <tr>\n",
       "      <th>5</th>\n",
       "      <td>1</td>\n",
       "      <td>1</td>\n",
       "    </tr>\n",
       "    <tr>\n",
       "      <th>6</th>\n",
       "      <td>1</td>\n",
       "      <td>1</td>\n",
       "    </tr>\n",
       "    <tr>\n",
       "      <th>7</th>\n",
       "      <td>1</td>\n",
       "      <td>1</td>\n",
       "    </tr>\n",
       "    <tr>\n",
       "      <th>8</th>\n",
       "      <td>0</td>\n",
       "      <td>0</td>\n",
       "    </tr>\n",
       "    <tr>\n",
       "      <th>9</th>\n",
       "      <td>1</td>\n",
       "      <td>1</td>\n",
       "    </tr>\n",
       "  </tbody>\n",
       "</table>\n",
       "</div>"
      ],
      "text/plain": [
       "   Prediction  Actual\n",
       "0           1       1\n",
       "1           1       0\n",
       "2           1       1\n",
       "3           1       1\n",
       "4           1       1\n",
       "5           1       1\n",
       "6           1       1\n",
       "7           1       1\n",
       "8           0       0\n",
       "9           1       1"
      ]
     },
     "execution_count": 19,
     "metadata": {},
     "output_type": "execute_result"
    }
   ],
   "source": [
    "df4.head(10)"
   ]
  },
  {
   "cell_type": "markdown",
   "metadata": {},
   "source": [
    "# Passing Real Time Feature Data for Testing on the Model."
   ]
  },
  {
   "cell_type": "code",
   "execution_count": 20,
   "metadata": {
    "scrolled": true
   },
   "outputs": [],
   "source": [
    "inputs = {'country_India' : 1, 'gender_male' : 1, 'activity_Agriculture' : 1}\n",
    "\n",
    "test = pd.Series(index=df2.columns)\n",
    "for key in inputs.keys():\n",
    "    test[key] = inputs[key]\n",
    "    \n",
    "test.fillna(0, inplace=True)\n"
   ]
  },
  {
   "cell_type": "code",
   "execution_count": 21,
   "metadata": {},
   "outputs": [],
   "source": [
    "test1 = test.drop(['status'])"
   ]
  },
  {
   "cell_type": "code",
   "execution_count": 22,
   "metadata": {},
   "outputs": [],
   "source": [
    "predictions = rf.predict_proba(test1.values.reshape(1, -1))"
   ]
  },
  {
   "cell_type": "code",
   "execution_count": 23,
   "metadata": {},
   "outputs": [
    {
     "name": "stdout",
     "output_type": "stream",
     "text": [
      "[[0. 1.]]\n"
     ]
    }
   ],
   "source": [
    "print (predictions)"
   ]
  },
  {
   "cell_type": "markdown",
   "metadata": {},
   "source": [
    "# Saving a Trained Model\n",
    "\n",
    "We can save our trained models using the HDF5 binary format with the extension .h5\n",
    "\n",
    "https://machinelearningmastery.com/save-load-machine-learning-models-python-scikit-learn/\n",
    "\n",
    "You can use the pickle operation to serialize your machine learning algorithms and save the serialized format to a file.\n",
    "\n",
    "Later you can load this file to deserialize your model and use it to make new predictions."
   ]
  },
  {
   "cell_type": "code",
   "execution_count": 24,
   "metadata": {},
   "outputs": [],
   "source": [
    "# Save the model\n",
    "import pickle\n",
    "\n",
    "filename = 'ML-Model-Set1-3-RandomForest-model-trained.h5'\n",
    "\n",
    "pickle.dump(rf, open(filename, 'wb'))"
   ]
  },
  {
   "cell_type": "code",
   "execution_count": 25,
   "metadata": {},
   "outputs": [],
   "source": [
    "# # load the model from disk\n",
    "# loaded_model = pickle.load(open(filename, 'rb'))\n",
    "# result = loaded_model.score(X_test, Y_test)\n",
    "# print(result)"
   ]
  },
  {
   "cell_type": "code",
   "execution_count": null,
   "metadata": {},
   "outputs": [],
   "source": []
  },
  {
   "cell_type": "code",
   "execution_count": null,
   "metadata": {},
   "outputs": [],
   "source": []
  }
 ],
 "metadata": {
  "kernelspec": {
   "display_name": "Python 3",
   "language": "python",
   "name": "python3"
  },
  "language_info": {
   "codemirror_mode": {
    "name": "ipython",
    "version": 3
   },
   "file_extension": ".py",
   "mimetype": "text/x-python",
   "name": "python",
   "nbconvert_exporter": "python",
   "pygments_lexer": "ipython3",
   "version": "3.6.4"
  }
 },
 "nbformat": 4,
 "nbformat_minor": 2
}
