{
 "cells": [
  {
   "cell_type": "markdown",
   "metadata": {
    "slideshow": {
     "slide_type": ""
    }
   },
   "source": [
    "# Logistic Regression"
   ]
  },
  {
   "cell_type": "code",
   "execution_count": 71,
   "metadata": {
    "slideshow": {
     "slide_type": "skip"
    }
   },
   "outputs": [],
   "source": [
    "import pandas as pd\n",
    "import numpy as np\n",
    "import matplotlib.pyplot as plt\n",
    "import seaborn as sns\n",
    "%matplotlib inline"
   ]
  },
  {
   "cell_type": "code",
   "execution_count": 3,
   "metadata": {
    "slideshow": {
     "slide_type": "slide"
    }
   },
   "outputs": [
    {
     "data": {
      "text/html": [
       "<div>\n",
       "<style scoped>\n",
       "    .dataframe tbody tr th:only-of-type {\n",
       "        vertical-align: middle;\n",
       "    }\n",
       "\n",
       "    .dataframe tbody tr th {\n",
       "        vertical-align: top;\n",
       "    }\n",
       "\n",
       "    .dataframe thead th {\n",
       "        text-align: right;\n",
       "    }\n",
       "</style>\n",
       "<table border=\"1\" class=\"dataframe\">\n",
       "  <thead>\n",
       "    <tr style=\"text-align: right;\">\n",
       "      <th></th>\n",
       "      <th>id</th>\n",
       "      <th>funded_amount</th>\n",
       "      <th>loan_amount</th>\n",
       "      <th>diff_funded_loan</th>\n",
       "      <th>status</th>\n",
       "      <th>activity</th>\n",
       "      <th>sector</th>\n",
       "      <th>use</th>\n",
       "      <th>country_code</th>\n",
       "      <th>country</th>\n",
       "      <th>currency</th>\n",
       "      <th>lender_count</th>\n",
       "      <th>term_in_months</th>\n",
       "      <th>tags</th>\n",
       "      <th>gender</th>\n",
       "      <th>borrower_genders</th>\n",
       "      <th>repayment_interval</th>\n",
       "      <th>date</th>\n",
       "    </tr>\n",
       "  </thead>\n",
       "  <tbody>\n",
       "    <tr>\n",
       "      <th>0</th>\n",
       "      <td>653051</td>\n",
       "      <td>300</td>\n",
       "      <td>300</td>\n",
       "      <td>0</td>\n",
       "      <td>1</td>\n",
       "      <td>Fruits &amp; Vegetables</td>\n",
       "      <td>Food</td>\n",
       "      <td>To buy seasonal, fresh fruits to sell.</td>\n",
       "      <td>PK</td>\n",
       "      <td>Pakistan</td>\n",
       "      <td>PKR</td>\n",
       "      <td>12</td>\n",
       "      <td>12</td>\n",
       "      <td>NaN</td>\n",
       "      <td>female</td>\n",
       "      <td>female</td>\n",
       "      <td>irregular</td>\n",
       "      <td>1/1/14</td>\n",
       "    </tr>\n",
       "    <tr>\n",
       "      <th>1</th>\n",
       "      <td>653053</td>\n",
       "      <td>575</td>\n",
       "      <td>575</td>\n",
       "      <td>0</td>\n",
       "      <td>1</td>\n",
       "      <td>Rickshaw</td>\n",
       "      <td>Transportation</td>\n",
       "      <td>to repair and maintain the auto rickshaw used ...</td>\n",
       "      <td>PK</td>\n",
       "      <td>Pakistan</td>\n",
       "      <td>PKR</td>\n",
       "      <td>14</td>\n",
       "      <td>11</td>\n",
       "      <td>NaN</td>\n",
       "      <td>group</td>\n",
       "      <td>female, female</td>\n",
       "      <td>irregular</td>\n",
       "      <td>1/1/14</td>\n",
       "    </tr>\n",
       "    <tr>\n",
       "      <th>2</th>\n",
       "      <td>653068</td>\n",
       "      <td>150</td>\n",
       "      <td>150</td>\n",
       "      <td>0</td>\n",
       "      <td>1</td>\n",
       "      <td>Transportation</td>\n",
       "      <td>Transportation</td>\n",
       "      <td>To repair their old cycle-van and buy another ...</td>\n",
       "      <td>IN</td>\n",
       "      <td>India</td>\n",
       "      <td>INR</td>\n",
       "      <td>6</td>\n",
       "      <td>43</td>\n",
       "      <td>user_favorite, user_favorite</td>\n",
       "      <td>female</td>\n",
       "      <td>female</td>\n",
       "      <td>bullet</td>\n",
       "      <td>1/1/14</td>\n",
       "    </tr>\n",
       "    <tr>\n",
       "      <th>3</th>\n",
       "      <td>653063</td>\n",
       "      <td>200</td>\n",
       "      <td>200</td>\n",
       "      <td>0</td>\n",
       "      <td>1</td>\n",
       "      <td>Embroidery</td>\n",
       "      <td>Arts</td>\n",
       "      <td>to purchase an embroidery machine and a variet...</td>\n",
       "      <td>PK</td>\n",
       "      <td>Pakistan</td>\n",
       "      <td>PKR</td>\n",
       "      <td>8</td>\n",
       "      <td>11</td>\n",
       "      <td>NaN</td>\n",
       "      <td>female</td>\n",
       "      <td>female</td>\n",
       "      <td>irregular</td>\n",
       "      <td>1/1/14</td>\n",
       "    </tr>\n",
       "    <tr>\n",
       "      <th>4</th>\n",
       "      <td>653084</td>\n",
       "      <td>400</td>\n",
       "      <td>400</td>\n",
       "      <td>0</td>\n",
       "      <td>1</td>\n",
       "      <td>Milk Sales</td>\n",
       "      <td>Food</td>\n",
       "      <td>to purchase one buffalo.</td>\n",
       "      <td>PK</td>\n",
       "      <td>Pakistan</td>\n",
       "      <td>PKR</td>\n",
       "      <td>16</td>\n",
       "      <td>14</td>\n",
       "      <td>NaN</td>\n",
       "      <td>female</td>\n",
       "      <td>female</td>\n",
       "      <td>monthly</td>\n",
       "      <td>1/1/14</td>\n",
       "    </tr>\n",
       "  </tbody>\n",
       "</table>\n",
       "</div>"
      ],
      "text/plain": [
       "       id  funded_amount  loan_amount  diff_funded_loan  status  \\\n",
       "0  653051            300          300                 0       1   \n",
       "1  653053            575          575                 0       1   \n",
       "2  653068            150          150                 0       1   \n",
       "3  653063            200          200                 0       1   \n",
       "4  653084            400          400                 0       1   \n",
       "\n",
       "              activity          sector  \\\n",
       "0  Fruits & Vegetables            Food   \n",
       "1             Rickshaw  Transportation   \n",
       "2       Transportation  Transportation   \n",
       "3           Embroidery            Arts   \n",
       "4           Milk Sales            Food   \n",
       "\n",
       "                                                 use country_code   country  \\\n",
       "0            To buy seasonal, fresh fruits to sell.            PK  Pakistan   \n",
       "1  to repair and maintain the auto rickshaw used ...           PK  Pakistan   \n",
       "2  To repair their old cycle-van and buy another ...           IN     India   \n",
       "3  to purchase an embroidery machine and a variet...           PK  Pakistan   \n",
       "4                           to purchase one buffalo.           PK  Pakistan   \n",
       "\n",
       "  currency  lender_count  term_in_months                          tags  \\\n",
       "0      PKR            12              12                           NaN   \n",
       "1      PKR            14              11                           NaN   \n",
       "2      INR             6              43  user_favorite, user_favorite   \n",
       "3      PKR             8              11                           NaN   \n",
       "4      PKR            16              14                           NaN   \n",
       "\n",
       "   gender borrower_genders repayment_interval    date  \n",
       "0  female           female          irregular  1/1/14  \n",
       "1   group   female, female          irregular  1/1/14  \n",
       "2  female           female             bullet  1/1/14  \n",
       "3  female           female          irregular  1/1/14  \n",
       "4  female           female            monthly  1/1/14  "
      ]
     },
     "execution_count": 3,
     "metadata": {},
     "output_type": "execute_result"
    }
   ],
   "source": [
    "df = pd.read_csv('kiva_loans_20181016.csv')\n",
    "df.head()"
   ]
  },
  {
   "cell_type": "code",
   "execution_count": 4,
   "metadata": {
    "slideshow": {
     "slide_type": "skip"
    }
   },
   "outputs": [
    {
     "data": {
      "text/plain": [
       "Index(['id', 'funded_amount', 'loan_amount', 'diff_funded_loan', 'status',\n",
       "       'activity', 'sector', 'use', 'country_code', 'country', 'currency',\n",
       "       'lender_count', 'term_in_months', 'tags', 'gender', 'borrower_genders',\n",
       "       'repayment_interval', 'date'],\n",
       "      dtype='object')"
      ]
     },
     "execution_count": 4,
     "metadata": {},
     "output_type": "execute_result"
    }
   ],
   "source": [
    "df.columns\n"
   ]
  },
  {
   "cell_type": "markdown",
   "metadata": {
    "slideshow": {
     "slide_type": ""
    }
   },
   "source": [
    "## Feature Engineering"
   ]
  },
  {
   "cell_type": "code",
   "execution_count": 91,
   "metadata": {
    "slideshow": {
     "slide_type": "slide"
    }
   },
   "outputs": [
    {
     "data": {
      "text/html": [
       "<div>\n",
       "<style scoped>\n",
       "    .dataframe tbody tr th:only-of-type {\n",
       "        vertical-align: middle;\n",
       "    }\n",
       "\n",
       "    .dataframe tbody tr th {\n",
       "        vertical-align: top;\n",
       "    }\n",
       "\n",
       "    .dataframe thead th {\n",
       "        text-align: right;\n",
       "    }\n",
       "</style>\n",
       "<table border=\"1\" class=\"dataframe\">\n",
       "  <thead>\n",
       "    <tr style=\"text-align: right;\">\n",
       "      <th></th>\n",
       "      <th>loan_amount</th>\n",
       "      <th>status</th>\n",
       "      <th>activity</th>\n",
       "      <th>country</th>\n",
       "      <th>term_in_months</th>\n",
       "      <th>gender</th>\n",
       "      <th>repayment_interval</th>\n",
       "    </tr>\n",
       "  </thead>\n",
       "  <tbody>\n",
       "    <tr>\n",
       "      <th>0</th>\n",
       "      <td>300</td>\n",
       "      <td>1</td>\n",
       "      <td>Fruits &amp; Vegetables</td>\n",
       "      <td>Pakistan</td>\n",
       "      <td>12</td>\n",
       "      <td>female</td>\n",
       "      <td>irregular</td>\n",
       "    </tr>\n",
       "    <tr>\n",
       "      <th>1</th>\n",
       "      <td>575</td>\n",
       "      <td>1</td>\n",
       "      <td>Rickshaw</td>\n",
       "      <td>Pakistan</td>\n",
       "      <td>11</td>\n",
       "      <td>group</td>\n",
       "      <td>irregular</td>\n",
       "    </tr>\n",
       "    <tr>\n",
       "      <th>2</th>\n",
       "      <td>150</td>\n",
       "      <td>1</td>\n",
       "      <td>Transportation</td>\n",
       "      <td>India</td>\n",
       "      <td>43</td>\n",
       "      <td>female</td>\n",
       "      <td>bullet</td>\n",
       "    </tr>\n",
       "    <tr>\n",
       "      <th>3</th>\n",
       "      <td>200</td>\n",
       "      <td>1</td>\n",
       "      <td>Embroidery</td>\n",
       "      <td>Pakistan</td>\n",
       "      <td>11</td>\n",
       "      <td>female</td>\n",
       "      <td>irregular</td>\n",
       "    </tr>\n",
       "    <tr>\n",
       "      <th>4</th>\n",
       "      <td>400</td>\n",
       "      <td>1</td>\n",
       "      <td>Milk Sales</td>\n",
       "      <td>Pakistan</td>\n",
       "      <td>14</td>\n",
       "      <td>female</td>\n",
       "      <td>monthly</td>\n",
       "    </tr>\n",
       "  </tbody>\n",
       "</table>\n",
       "</div>"
      ],
      "text/plain": [
       "   loan_amount  status             activity   country  term_in_months  gender  \\\n",
       "0          300       1  Fruits & Vegetables  Pakistan              12  female   \n",
       "1          575       1             Rickshaw  Pakistan              11   group   \n",
       "2          150       1       Transportation     India              43  female   \n",
       "3          200       1           Embroidery  Pakistan              11  female   \n",
       "4          400       1           Milk Sales  Pakistan              14  female   \n",
       "\n",
       "  repayment_interval  \n",
       "0          irregular  \n",
       "1          irregular  \n",
       "2             bullet  \n",
       "3          irregular  \n",
       "4            monthly  "
      ]
     },
     "execution_count": 91,
     "metadata": {},
     "output_type": "execute_result"
    }
   ],
   "source": [
    "df2 = df[['loan_amount','status', 'activity', 'country','term_in_months','gender','repayment_interval']].copy()\n",
    "df2.head()"
   ]
  },
  {
   "cell_type": "code",
   "execution_count": null,
   "metadata": {},
   "outputs": [],
   "source": []
  },
  {
   "cell_type": "code",
   "execution_count": 6,
   "metadata": {
    "slideshow": {
     "slide_type": "skip"
    }
   },
   "outputs": [
    {
     "data": {
      "text/plain": [
       "<matplotlib.axes._subplots.AxesSubplot at 0x10911a7b8>"
      ]
     },
     "execution_count": 6,
     "metadata": {},
     "output_type": "execute_result"
    },
    {
     "data": {
      "image/png": "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\n",
      "text/plain": [
       "<matplotlib.figure.Figure at 0x10fe64cf8>"
      ]
     },
     "metadata": {},
     "output_type": "display_data"
    }
   ],
   "source": [
    "# checking for null values\n",
    "sns.heatmap(df2.isnull(),yticklabels=False,cbar=False,cmap='viridis')"
   ]
  },
  {
   "cell_type": "code",
   "execution_count": 7,
   "metadata": {
    "slideshow": {
     "slide_type": "skip"
    }
   },
   "outputs": [],
   "source": [
    "# # distribution of not funded vs funded\n",
    "# sns.countplot(x='result',data=df2)"
   ]
  },
  {
   "cell_type": "code",
   "execution_count": 8,
   "metadata": {
    "slideshow": {
     "slide_type": "skip"
    }
   },
   "outputs": [],
   "source": [
    "# # not really useful since it is not a regression analysis but wanted to see if there was any correlation i was missing\n",
    "# sns.pairplot(df2,hue='status',palette='bwr')"
   ]
  },
  {
   "cell_type": "code",
   "execution_count": 9,
   "metadata": {
    "slideshow": {
     "slide_type": "skip"
    }
   },
   "outputs": [
    {
     "data": {
      "text/plain": [
       "array(['Pakistan', 'India', 'Kenya', 'Nicaragua', 'El Salvador',\n",
       "       'Tanzania', 'Philippines', 'Peru', 'Senegal', 'Cambodia',\n",
       "       'Liberia', 'Vietnam', 'Iraq', 'Honduras', 'Palestine', 'Mongolia',\n",
       "       'United States', 'Mali', 'Colombia', 'Tajikistan', 'Guatemala',\n",
       "       'Ecuador', 'Bolivia', 'Yemen', 'Ghana', 'Sierra Leone', 'Haiti',\n",
       "       'Chile', 'Jordan', 'Uganda', 'Burundi', 'Burkina Faso',\n",
       "       'Timor-Leste', 'Indonesia', 'Georgia', 'Ukraine', 'Kosovo',\n",
       "       'Albania', 'The Democratic Republic of the Congo', 'Costa Rica',\n",
       "       'Somalia', 'Zimbabwe', 'Cameroon', 'Turkey', 'Azerbaijan',\n",
       "       'Dominican Republic', 'Brazil', 'Mexico', 'Kyrgyzstan', 'Armenia',\n",
       "       'Paraguay', 'Lebanon', 'Samoa', 'Israel', 'Rwanda', 'Zambia',\n",
       "       'Nepal', 'Congo', 'Mozambique', 'South Africa', 'Togo', 'Benin',\n",
       "       'Belize', 'Suriname', 'Thailand', 'Nigeria', 'Mauritania',\n",
       "       'Vanuatu', 'Panama', 'Virgin Islands',\n",
       "       'Saint Vincent and the Grenadines',\n",
       "       \"Lao People's Democratic Republic\", 'Malawi', 'Myanmar (Burma)',\n",
       "       'Moldova', 'South Sudan', 'Solomon Islands', 'China', 'Egypt',\n",
       "       'Guam', 'Afghanistan', 'Madagascar', 'Namibia', 'Puerto Rico',\n",
       "       'Lesotho', \"Cote D'Ivoire\", 'Bhutan'], dtype=object)"
      ]
     },
     "execution_count": 9,
     "metadata": {},
     "output_type": "execute_result"
    }
   ],
   "source": [
    "df2.country.unique()"
   ]
  },
  {
   "cell_type": "code",
   "execution_count": 42,
   "metadata": {
    "slideshow": {
     "slide_type": "skip"
    }
   },
   "outputs": [],
   "source": [
    "# convert all remaining text categories into numbers\n",
    "df3 = pd.get_dummies(data=df2, columns=['loan_amount','activity','country', 'gender','term_in_months','repayment_interval'])"
   ]
  },
  {
   "cell_type": "code",
   "execution_count": 43,
   "metadata": {
    "slideshow": {
     "slide_type": "subslide"
    }
   },
   "outputs": [
    {
     "data": {
      "text/html": [
       "<div>\n",
       "<style scoped>\n",
       "    .dataframe tbody tr th:only-of-type {\n",
       "        vertical-align: middle;\n",
       "    }\n",
       "\n",
       "    .dataframe tbody tr th {\n",
       "        vertical-align: top;\n",
       "    }\n",
       "\n",
       "    .dataframe thead th {\n",
       "        text-align: right;\n",
       "    }\n",
       "</style>\n",
       "<table border=\"1\" class=\"dataframe\">\n",
       "  <thead>\n",
       "    <tr style=\"text-align: right;\">\n",
       "      <th></th>\n",
       "      <th>status</th>\n",
       "      <th>loan_amount_25</th>\n",
       "      <th>loan_amount_50</th>\n",
       "      <th>loan_amount_75</th>\n",
       "      <th>loan_amount_100</th>\n",
       "      <th>loan_amount_125</th>\n",
       "      <th>loan_amount_150</th>\n",
       "      <th>loan_amount_175</th>\n",
       "      <th>loan_amount_200</th>\n",
       "      <th>loan_amount_225</th>\n",
       "      <th>...</th>\n",
       "      <th>term_in_months_146</th>\n",
       "      <th>term_in_months_147</th>\n",
       "      <th>term_in_months_148</th>\n",
       "      <th>term_in_months_154</th>\n",
       "      <th>term_in_months_156</th>\n",
       "      <th>term_in_months_158</th>\n",
       "      <th>repayment_interval_bullet</th>\n",
       "      <th>repayment_interval_irregular</th>\n",
       "      <th>repayment_interval_monthly</th>\n",
       "      <th>repayment_interval_weekly</th>\n",
       "    </tr>\n",
       "  </thead>\n",
       "  <tbody>\n",
       "    <tr>\n",
       "      <th>0</th>\n",
       "      <td>1</td>\n",
       "      <td>0</td>\n",
       "      <td>0</td>\n",
       "      <td>0</td>\n",
       "      <td>0</td>\n",
       "      <td>0</td>\n",
       "      <td>0</td>\n",
       "      <td>0</td>\n",
       "      <td>0</td>\n",
       "      <td>0</td>\n",
       "      <td>...</td>\n",
       "      <td>0</td>\n",
       "      <td>0</td>\n",
       "      <td>0</td>\n",
       "      <td>0</td>\n",
       "      <td>0</td>\n",
       "      <td>0</td>\n",
       "      <td>0</td>\n",
       "      <td>1</td>\n",
       "      <td>0</td>\n",
       "      <td>0</td>\n",
       "    </tr>\n",
       "    <tr>\n",
       "      <th>1</th>\n",
       "      <td>1</td>\n",
       "      <td>0</td>\n",
       "      <td>0</td>\n",
       "      <td>0</td>\n",
       "      <td>0</td>\n",
       "      <td>0</td>\n",
       "      <td>0</td>\n",
       "      <td>0</td>\n",
       "      <td>0</td>\n",
       "      <td>0</td>\n",
       "      <td>...</td>\n",
       "      <td>0</td>\n",
       "      <td>0</td>\n",
       "      <td>0</td>\n",
       "      <td>0</td>\n",
       "      <td>0</td>\n",
       "      <td>0</td>\n",
       "      <td>0</td>\n",
       "      <td>1</td>\n",
       "      <td>0</td>\n",
       "      <td>0</td>\n",
       "    </tr>\n",
       "    <tr>\n",
       "      <th>2</th>\n",
       "      <td>1</td>\n",
       "      <td>0</td>\n",
       "      <td>0</td>\n",
       "      <td>0</td>\n",
       "      <td>0</td>\n",
       "      <td>0</td>\n",
       "      <td>1</td>\n",
       "      <td>0</td>\n",
       "      <td>0</td>\n",
       "      <td>0</td>\n",
       "      <td>...</td>\n",
       "      <td>0</td>\n",
       "      <td>0</td>\n",
       "      <td>0</td>\n",
       "      <td>0</td>\n",
       "      <td>0</td>\n",
       "      <td>0</td>\n",
       "      <td>1</td>\n",
       "      <td>0</td>\n",
       "      <td>0</td>\n",
       "      <td>0</td>\n",
       "    </tr>\n",
       "    <tr>\n",
       "      <th>3</th>\n",
       "      <td>1</td>\n",
       "      <td>0</td>\n",
       "      <td>0</td>\n",
       "      <td>0</td>\n",
       "      <td>0</td>\n",
       "      <td>0</td>\n",
       "      <td>0</td>\n",
       "      <td>0</td>\n",
       "      <td>1</td>\n",
       "      <td>0</td>\n",
       "      <td>...</td>\n",
       "      <td>0</td>\n",
       "      <td>0</td>\n",
       "      <td>0</td>\n",
       "      <td>0</td>\n",
       "      <td>0</td>\n",
       "      <td>0</td>\n",
       "      <td>0</td>\n",
       "      <td>1</td>\n",
       "      <td>0</td>\n",
       "      <td>0</td>\n",
       "    </tr>\n",
       "    <tr>\n",
       "      <th>4</th>\n",
       "      <td>1</td>\n",
       "      <td>0</td>\n",
       "      <td>0</td>\n",
       "      <td>0</td>\n",
       "      <td>0</td>\n",
       "      <td>0</td>\n",
       "      <td>0</td>\n",
       "      <td>0</td>\n",
       "      <td>0</td>\n",
       "      <td>0</td>\n",
       "      <td>...</td>\n",
       "      <td>0</td>\n",
       "      <td>0</td>\n",
       "      <td>0</td>\n",
       "      <td>0</td>\n",
       "      <td>0</td>\n",
       "      <td>0</td>\n",
       "      <td>0</td>\n",
       "      <td>0</td>\n",
       "      <td>1</td>\n",
       "      <td>0</td>\n",
       "    </tr>\n",
       "  </tbody>\n",
       "</table>\n",
       "<p>5 rows × 885 columns</p>\n",
       "</div>"
      ],
      "text/plain": [
       "   status  loan_amount_25  loan_amount_50  loan_amount_75  loan_amount_100  \\\n",
       "0       1               0               0               0                0   \n",
       "1       1               0               0               0                0   \n",
       "2       1               0               0               0                0   \n",
       "3       1               0               0               0                0   \n",
       "4       1               0               0               0                0   \n",
       "\n",
       "   loan_amount_125  loan_amount_150  loan_amount_175  loan_amount_200  \\\n",
       "0                0                0                0                0   \n",
       "1                0                0                0                0   \n",
       "2                0                1                0                0   \n",
       "3                0                0                0                1   \n",
       "4                0                0                0                0   \n",
       "\n",
       "   loan_amount_225            ...              term_in_months_146  \\\n",
       "0                0            ...                               0   \n",
       "1                0            ...                               0   \n",
       "2                0            ...                               0   \n",
       "3                0            ...                               0   \n",
       "4                0            ...                               0   \n",
       "\n",
       "   term_in_months_147  term_in_months_148  term_in_months_154  \\\n",
       "0                   0                   0                   0   \n",
       "1                   0                   0                   0   \n",
       "2                   0                   0                   0   \n",
       "3                   0                   0                   0   \n",
       "4                   0                   0                   0   \n",
       "\n",
       "   term_in_months_156  term_in_months_158  repayment_interval_bullet  \\\n",
       "0                   0                   0                          0   \n",
       "1                   0                   0                          0   \n",
       "2                   0                   0                          1   \n",
       "3                   0                   0                          0   \n",
       "4                   0                   0                          0   \n",
       "\n",
       "   repayment_interval_irregular  repayment_interval_monthly  \\\n",
       "0                             1                           0   \n",
       "1                             1                           0   \n",
       "2                             0                           0   \n",
       "3                             1                           0   \n",
       "4                             0                           1   \n",
       "\n",
       "   repayment_interval_weekly  \n",
       "0                          0  \n",
       "1                          0  \n",
       "2                          0  \n",
       "3                          0  \n",
       "4                          0  \n",
       "\n",
       "[5 rows x 885 columns]"
      ]
     },
     "execution_count": 43,
     "metadata": {},
     "output_type": "execute_result"
    }
   ],
   "source": [
    "df3.head()"
   ]
  },
  {
   "cell_type": "code",
   "execution_count": 44,
   "metadata": {
    "slideshow": {
     "slide_type": "skip"
    }
   },
   "outputs": [],
   "source": [
    "# df3.describe()"
   ]
  },
  {
   "cell_type": "code",
   "execution_count": 45,
   "metadata": {
    "slideshow": {
     "slide_type": "skip"
    }
   },
   "outputs": [],
   "source": [
    "# df2.info()"
   ]
  },
  {
   "cell_type": "code",
   "execution_count": 46,
   "metadata": {
    "slideshow": {
     "slide_type": "skip"
    }
   },
   "outputs": [],
   "source": [
    "# df3.info()"
   ]
  },
  {
   "cell_type": "code",
   "execution_count": 47,
   "metadata": {
    "slideshow": {
     "slide_type": "skip"
    }
   },
   "outputs": [],
   "source": [
    "from sklearn.model_selection import train_test_split\n"
   ]
  },
  {
   "cell_type": "code",
   "execution_count": 48,
   "metadata": {
    "slideshow": {
     "slide_type": "skip"
    }
   },
   "outputs": [],
   "source": [
    "X=df3.drop('status',axis=1)\n",
    "y=df3['status']\n",
    "\n",
    "X_train, X_test, y_train, y_test = train_test_split(X, y,test_size=0.2, random_state=42, stratify=y)"
   ]
  },
  {
   "cell_type": "code",
   "execution_count": 49,
   "metadata": {
    "slideshow": {
     "slide_type": "skip"
    }
   },
   "outputs": [
    {
     "data": {
      "text/plain": [
       "LogisticRegression(C=1.0, class_weight=None, dual=False, fit_intercept=True,\n",
       "          intercept_scaling=1, max_iter=100, multi_class='ovr', n_jobs=1,\n",
       "          penalty='l2', random_state=None, solver='liblinear', tol=0.0001,\n",
       "          verbose=0, warm_start=False)"
      ]
     },
     "execution_count": 49,
     "metadata": {},
     "output_type": "execute_result"
    }
   ],
   "source": [
    "from sklearn.linear_model import LogisticRegression\n",
    "logmodel = LogisticRegression()\n",
    "logmodel.fit(X_train,y_train)"
   ]
  },
  {
   "cell_type": "code",
   "execution_count": 50,
   "metadata": {
    "slideshow": {
     "slide_type": "skip"
    }
   },
   "outputs": [
    {
     "name": "stdout",
     "output_type": "stream",
     "text": [
      "Training Data Score: 0.930241133483809\n",
      "Testing Data Score: 0.9297681036345081\n"
     ]
    }
   ],
   "source": [
    "print(f\"Training Data Score: {logmodel.score(X_train, y_train)}\")\n",
    "print(f\"Testing Data Score: {logmodel.score(X_test, y_test)}\")"
   ]
  },
  {
   "cell_type": "code",
   "execution_count": 51,
   "metadata": {
    "slideshow": {
     "slide_type": "skip"
    }
   },
   "outputs": [],
   "source": [
    "# # save model\n",
    "# import pickle\n",
    "\n",
    "# filename = 'ML-isaac-logistic-trained.h5'\n",
    "\n",
    "# pickle.dump(logmodel, open(filename, 'wb'))"
   ]
  },
  {
   "cell_type": "code",
   "execution_count": 52,
   "metadata": {
    "slideshow": {
     "slide_type": "skip"
    }
   },
   "outputs": [],
   "source": [
    "predictions = logmodel.predict(X_test)\n"
   ]
  },
  {
   "cell_type": "code",
   "execution_count": 53,
   "metadata": {
    "slideshow": {
     "slide_type": "skip"
    }
   },
   "outputs": [
    {
     "name": "stdout",
     "output_type": "stream",
     "text": [
      "[[  1004   8662]\n",
      " [   766 123809]]\n",
      "             precision    recall  f1-score   support\n",
      "\n",
      "          0       0.57      0.10      0.18      9666\n",
      "          1       0.93      0.99      0.96    124575\n",
      "\n",
      "avg / total       0.91      0.93      0.91    134241\n",
      "\n"
     ]
    }
   ],
   "source": [
    "from sklearn.metrics import classification_report, confusion_matrix\n",
    "print(confusion_matrix(y_test,predictions))\n",
    "print(classification_report(y_test,predictions))"
   ]
  },
  {
   "cell_type": "code",
   "execution_count": 54,
   "metadata": {
    "slideshow": {
     "slide_type": "skip"
    }
   },
   "outputs": [],
   "source": [
    "df4 = pd.DataFrame({'Prediction': predictions, \"Actual\": y_test}, index=X_test.index)"
   ]
  },
  {
   "cell_type": "code",
   "execution_count": 55,
   "metadata": {
    "slideshow": {
     "slide_type": "skip"
    }
   },
   "outputs": [
    {
     "data": {
      "text/html": [
       "<div>\n",
       "<style scoped>\n",
       "    .dataframe tbody tr th:only-of-type {\n",
       "        vertical-align: middle;\n",
       "    }\n",
       "\n",
       "    .dataframe tbody tr th {\n",
       "        vertical-align: top;\n",
       "    }\n",
       "\n",
       "    .dataframe thead th {\n",
       "        text-align: right;\n",
       "    }\n",
       "</style>\n",
       "<table border=\"1\" class=\"dataframe\">\n",
       "  <thead>\n",
       "    <tr style=\"text-align: right;\">\n",
       "      <th></th>\n",
       "      <th>Prediction</th>\n",
       "      <th>Actual</th>\n",
       "    </tr>\n",
       "  </thead>\n",
       "  <tbody>\n",
       "    <tr>\n",
       "      <th>124400</th>\n",
       "      <td>1</td>\n",
       "      <td>1</td>\n",
       "    </tr>\n",
       "    <tr>\n",
       "      <th>51196</th>\n",
       "      <td>1</td>\n",
       "      <td>1</td>\n",
       "    </tr>\n",
       "    <tr>\n",
       "      <th>108598</th>\n",
       "      <td>1</td>\n",
       "      <td>1</td>\n",
       "    </tr>\n",
       "    <tr>\n",
       "      <th>294743</th>\n",
       "      <td>1</td>\n",
       "      <td>1</td>\n",
       "    </tr>\n",
       "    <tr>\n",
       "      <th>173785</th>\n",
       "      <td>1</td>\n",
       "      <td>1</td>\n",
       "    </tr>\n",
       "  </tbody>\n",
       "</table>\n",
       "</div>"
      ],
      "text/plain": [
       "        Prediction  Actual\n",
       "124400           1       1\n",
       "51196            1       1\n",
       "108598           1       1\n",
       "294743           1       1\n",
       "173785           1       1"
      ]
     },
     "execution_count": 55,
     "metadata": {},
     "output_type": "execute_result"
    }
   ],
   "source": [
    "df4.head(5)"
   ]
  },
  {
   "cell_type": "markdown",
   "metadata": {
    "slideshow": {
     "slide_type": "slide"
    }
   },
   "source": [
    "## Demo"
   ]
  },
  {
   "cell_type": "code",
   "execution_count": 94,
   "metadata": {
    "slideshow": {
     "slide_type": "slide"
    }
   },
   "outputs": [],
   "source": [
    "# Loan details... \n",
    "\n",
    "inputs = {\n",
    "          'loan_amount_1000':1, \n",
    "          'term_in_months_20':1,\n",
    "          'repayment_interval_monthly':1,\n",
    "          'country_El Salvador': 1, \n",
    "          'gender_male': 1, \n",
    "          'activity_Fruits & Vegetables': 1 \n",
    "}\n",
    "\n",
    "test = pd.Series(index=df3.columns)\n",
    "for key in inputs.keys():\n",
    "    test[key] = inputs[key]\n",
    "       \n",
    "test.fillna(0, inplace=True)\n"
   ]
  },
  {
   "cell_type": "code",
   "execution_count": null,
   "metadata": {
    "slideshow": {
     "slide_type": "subslide"
    }
   },
   "outputs": [],
   "source": [
    "# Probability of loan approval\n",
    "test1 = test.drop(['status']) \n",
    "\n",
    "predictions = logmodel.predict_proba(test1.values.reshape(1, -1))[:,1]\n",
    "print (predictions.round(decimals=2))"
   ]
  },
  {
   "cell_type": "markdown",
   "metadata": {
    "slideshow": {
     "slide_type": "skip"
    }
   },
   "source": [
    "# save model "
   ]
  },
  {
   "cell_type": "code",
   "execution_count": 34,
   "metadata": {
    "slideshow": {
     "slide_type": "skip"
    }
   },
   "outputs": [],
   "source": [
    "# # Save the model\n",
    "import pickle\n",
    "\n",
    "filename = 'isaac_log.h5'\n",
    "\n",
    "pickle.dump(logmodel, open(filename, 'wb'))"
   ]
  },
  {
   "cell_type": "code",
   "execution_count": 35,
   "metadata": {
    "slideshow": {
     "slide_type": "skip"
    }
   },
   "outputs": [
    {
     "name": "stdout",
     "output_type": "stream",
     "text": [
      "Confusion Matrix\n",
      "[[   574   9092]\n",
      " [   535 124040]]\n",
      "------------------------------------------------------------------------\n",
      "Classification_Report\n",
      "             precision    recall  f1-score   support\n",
      "\n",
      "          0       0.52      0.06      0.11      9666\n",
      "          1       0.93      1.00      0.96    124575\n",
      "\n",
      "avg / total       0.90      0.93      0.90    134241\n",
      "\n"
     ]
    }
   ],
   "source": [
    "# # load the model from disk\n",
    "filename = 'isaac_log.h5'\n",
    "\n",
    "logmodel = pickle.load(open(filename, 'rb'))\n",
    "\n",
    "predictions = logmodel.predict(X_test)\n",
    "\n",
    "print (\"Confusion Matrix\")\n",
    "print(confusion_matrix(y_test,predictions))\n",
    "print(\"------------------------\"*3)\n",
    "print (\"Classification_Report\")\n",
    "print(classification_report(y_test,predictions))"
   ]
  },
  {
   "cell_type": "code",
   "execution_count": null,
   "metadata": {
    "slideshow": {
     "slide_type": "skip"
    }
   },
   "outputs": [],
   "source": []
  }
 ],
 "metadata": {
  "celltoolbar": "Slideshow",
  "kernelspec": {
   "display_name": "Python 3",
   "language": "python",
   "name": "python3"
  },
  "language_info": {
   "codemirror_mode": {
    "name": "ipython",
    "version": 3
   },
   "file_extension": ".py",
   "mimetype": "text/x-python",
   "name": "python",
   "nbconvert_exporter": "python",
   "pygments_lexer": "ipython3",
<<<<<<< HEAD
   "version": "3.6.5"
=======
   "version": "3.6.4"
>>>>>>> 73f527f18365bb2ba3917a6fc765baf07abf14d0
  }
 },
 "nbformat": 4,
 "nbformat_minor": 2
}
