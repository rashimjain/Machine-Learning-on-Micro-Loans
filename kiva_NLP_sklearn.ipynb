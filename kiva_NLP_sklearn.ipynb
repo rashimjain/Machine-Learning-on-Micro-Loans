{
 "cells": [
  {
   "cell_type": "code",
   "execution_count": 1,
   "metadata": {
    "slideshow": {
     "slide_type": "skip"
    }
   },
   "outputs": [],
   "source": [
    "#import dependencies\n",
    "import pandas as pd\n",
    "import numpy as np\n",
    "import string\n",
    "import matplotlib.pyplot as plt\n",
    "import seaborn as sns\n",
    "%matplotlib inline"
   ]
  },
  {
   "cell_type": "markdown",
   "metadata": {
    "slideshow": {
     "slide_type": "skip"
    }
   },
   "source": [
    "<h6>Get the Dataset</h6>"
   ]
  },
  {
   "cell_type": "code",
   "execution_count": 2,
   "metadata": {
    "slideshow": {
     "slide_type": "skip"
    }
   },
   "outputs": [
    {
     "data": {
      "text/html": [
       "<div>\n",
       "<style scoped>\n",
       "    .dataframe tbody tr th:only-of-type {\n",
       "        vertical-align: middle;\n",
       "    }\n",
       "\n",
       "    .dataframe tbody tr th {\n",
       "        vertical-align: top;\n",
       "    }\n",
       "\n",
       "    .dataframe thead th {\n",
       "        text-align: right;\n",
       "    }\n",
       "</style>\n",
       "<table border=\"1\" class=\"dataframe\">\n",
       "  <thead>\n",
       "    <tr style=\"text-align: right;\">\n",
       "      <th></th>\n",
       "      <th>id</th>\n",
       "      <th>funded_amount</th>\n",
       "      <th>loan_amount</th>\n",
       "      <th>diff_funded_loan</th>\n",
       "      <th>status</th>\n",
       "      <th>activity</th>\n",
       "      <th>sector</th>\n",
       "      <th>use</th>\n",
       "      <th>country_code</th>\n",
       "      <th>country</th>\n",
       "      <th>currency</th>\n",
       "      <th>lender_count</th>\n",
       "      <th>term_in_months</th>\n",
       "      <th>tags</th>\n",
       "      <th>gender</th>\n",
       "      <th>borrower_genders</th>\n",
       "      <th>repayment_interval</th>\n",
       "      <th>date</th>\n",
       "    </tr>\n",
       "  </thead>\n",
       "  <tbody>\n",
       "    <tr>\n",
       "      <th>0</th>\n",
       "      <td>653051</td>\n",
       "      <td>300</td>\n",
       "      <td>300</td>\n",
       "      <td>0</td>\n",
       "      <td>1</td>\n",
       "      <td>Fruits &amp; Vegetables</td>\n",
       "      <td>Food</td>\n",
       "      <td>To buy seasonal, fresh fruits to sell.</td>\n",
       "      <td>PK</td>\n",
       "      <td>Pakistan</td>\n",
       "      <td>PKR</td>\n",
       "      <td>12</td>\n",
       "      <td>12</td>\n",
       "      <td>NaN</td>\n",
       "      <td>female</td>\n",
       "      <td>female</td>\n",
       "      <td>irregular</td>\n",
       "      <td>1/1/14</td>\n",
       "    </tr>\n",
       "    <tr>\n",
       "      <th>1</th>\n",
       "      <td>653053</td>\n",
       "      <td>575</td>\n",
       "      <td>575</td>\n",
       "      <td>0</td>\n",
       "      <td>1</td>\n",
       "      <td>Rickshaw</td>\n",
       "      <td>Transportation</td>\n",
       "      <td>to repair and maintain the auto rickshaw used ...</td>\n",
       "      <td>PK</td>\n",
       "      <td>Pakistan</td>\n",
       "      <td>PKR</td>\n",
       "      <td>14</td>\n",
       "      <td>11</td>\n",
       "      <td>NaN</td>\n",
       "      <td>group</td>\n",
       "      <td>female, female</td>\n",
       "      <td>irregular</td>\n",
       "      <td>1/1/14</td>\n",
       "    </tr>\n",
       "    <tr>\n",
       "      <th>2</th>\n",
       "      <td>653068</td>\n",
       "      <td>150</td>\n",
       "      <td>150</td>\n",
       "      <td>0</td>\n",
       "      <td>1</td>\n",
       "      <td>Transportation</td>\n",
       "      <td>Transportation</td>\n",
       "      <td>To repair their old cycle-van and buy another ...</td>\n",
       "      <td>IN</td>\n",
       "      <td>India</td>\n",
       "      <td>INR</td>\n",
       "      <td>6</td>\n",
       "      <td>43</td>\n",
       "      <td>user_favorite, user_favorite</td>\n",
       "      <td>female</td>\n",
       "      <td>female</td>\n",
       "      <td>bullet</td>\n",
       "      <td>1/1/14</td>\n",
       "    </tr>\n",
       "    <tr>\n",
       "      <th>3</th>\n",
       "      <td>653063</td>\n",
       "      <td>200</td>\n",
       "      <td>200</td>\n",
       "      <td>0</td>\n",
       "      <td>1</td>\n",
       "      <td>Embroidery</td>\n",
       "      <td>Arts</td>\n",
       "      <td>to purchase an embroidery machine and a variet...</td>\n",
       "      <td>PK</td>\n",
       "      <td>Pakistan</td>\n",
       "      <td>PKR</td>\n",
       "      <td>8</td>\n",
       "      <td>11</td>\n",
       "      <td>NaN</td>\n",
       "      <td>female</td>\n",
       "      <td>female</td>\n",
       "      <td>irregular</td>\n",
       "      <td>1/1/14</td>\n",
       "    </tr>\n",
       "    <tr>\n",
       "      <th>4</th>\n",
       "      <td>653084</td>\n",
       "      <td>400</td>\n",
       "      <td>400</td>\n",
       "      <td>0</td>\n",
       "      <td>1</td>\n",
       "      <td>Milk Sales</td>\n",
       "      <td>Food</td>\n",
       "      <td>to purchase one buffalo.</td>\n",
       "      <td>PK</td>\n",
       "      <td>Pakistan</td>\n",
       "      <td>PKR</td>\n",
       "      <td>16</td>\n",
       "      <td>14</td>\n",
       "      <td>NaN</td>\n",
       "      <td>female</td>\n",
       "      <td>female</td>\n",
       "      <td>monthly</td>\n",
       "      <td>1/1/14</td>\n",
       "    </tr>\n",
       "  </tbody>\n",
       "</table>\n",
       "</div>"
      ],
      "text/plain": [
       "       id  funded_amount  loan_amount  diff_funded_loan  status  \\\n",
       "0  653051            300          300                 0       1   \n",
       "1  653053            575          575                 0       1   \n",
       "2  653068            150          150                 0       1   \n",
       "3  653063            200          200                 0       1   \n",
       "4  653084            400          400                 0       1   \n",
       "\n",
       "              activity          sector  \\\n",
       "0  Fruits & Vegetables            Food   \n",
       "1             Rickshaw  Transportation   \n",
       "2       Transportation  Transportation   \n",
       "3           Embroidery            Arts   \n",
       "4           Milk Sales            Food   \n",
       "\n",
       "                                                 use country_code   country  \\\n",
       "0            To buy seasonal, fresh fruits to sell.            PK  Pakistan   \n",
       "1  to repair and maintain the auto rickshaw used ...           PK  Pakistan   \n",
       "2  To repair their old cycle-van and buy another ...           IN     India   \n",
       "3  to purchase an embroidery machine and a variet...           PK  Pakistan   \n",
       "4                           to purchase one buffalo.           PK  Pakistan   \n",
       "\n",
       "  currency  lender_count  term_in_months                          tags  \\\n",
       "0      PKR            12              12                           NaN   \n",
       "1      PKR            14              11                           NaN   \n",
       "2      INR             6              43  user_favorite, user_favorite   \n",
       "3      PKR             8              11                           NaN   \n",
       "4      PKR            16              14                           NaN   \n",
       "\n",
       "   gender borrower_genders repayment_interval    date  \n",
       "0  female           female          irregular  1/1/14  \n",
       "1   group   female, female          irregular  1/1/14  \n",
       "2  female           female             bullet  1/1/14  \n",
       "3  female           female          irregular  1/1/14  \n",
       "4  female           female            monthly  1/1/14  "
      ]
     },
     "execution_count": 2,
     "metadata": {},
     "output_type": "execute_result"
    }
   ],
   "source": [
    "#read .csv file and create a DataFrame\n",
    "df=pd.read_csv(\"kiva_loans_20181016.csv\")\n",
    "df.head()"
   ]
  },
  {
   "cell_type": "code",
   "execution_count": 3,
   "metadata": {
    "slideshow": {
     "slide_type": "skip"
    }
   },
   "outputs": [
    {
     "name": "stdout",
     "output_type": "stream",
     "text": [
      "<class 'pandas.core.frame.DataFrame'>\n",
      "RangeIndex: 671205 entries, 0 to 671204\n",
      "Data columns (total 18 columns):\n",
      "id                    671205 non-null int64\n",
      "funded_amount         671205 non-null int64\n",
      "loan_amount           671205 non-null int64\n",
      "diff_funded_loan      671205 non-null int64\n",
      "status                671205 non-null int64\n",
      "activity              671205 non-null object\n",
      "sector                671205 non-null object\n",
      "use                   666973 non-null object\n",
      "country_code          671197 non-null object\n",
      "country               671205 non-null object\n",
      "currency              671205 non-null object\n",
      "lender_count          671205 non-null int64\n",
      "term_in_months        671205 non-null int64\n",
      "tags                  499789 non-null object\n",
      "gender                666984 non-null object\n",
      "borrower_genders      666984 non-null object\n",
      "repayment_interval    671205 non-null object\n",
      "date                  671205 non-null object\n",
      "dtypes: int64(7), object(11)\n",
      "memory usage: 92.2+ MB\n"
     ]
    }
   ],
   "source": [
    "df.info()"
   ]
  },
  {
   "cell_type": "code",
   "execution_count": 4,
   "metadata": {
    "slideshow": {
     "slide_type": "skip"
    }
   },
   "outputs": [],
   "source": [
    "df2=df[[\"status\", \"use\"]]"
   ]
  },
  {
   "cell_type": "code",
   "execution_count": 5,
   "metadata": {
    "slideshow": {
     "slide_type": "slide"
    }
   },
   "outputs": [
    {
     "data": {
      "text/html": [
       "<div>\n",
       "<style scoped>\n",
       "    .dataframe tbody tr th:only-of-type {\n",
       "        vertical-align: middle;\n",
       "    }\n",
       "\n",
       "    .dataframe tbody tr th {\n",
       "        vertical-align: top;\n",
       "    }\n",
       "\n",
       "    .dataframe thead th {\n",
       "        text-align: right;\n",
       "    }\n",
       "</style>\n",
       "<table border=\"1\" class=\"dataframe\">\n",
       "  <thead>\n",
       "    <tr style=\"text-align: right;\">\n",
       "      <th></th>\n",
       "      <th>status</th>\n",
       "      <th>use</th>\n",
       "    </tr>\n",
       "  </thead>\n",
       "  <tbody>\n",
       "    <tr>\n",
       "      <th>0</th>\n",
       "      <td>1</td>\n",
       "      <td>To buy seasonal, fresh fruits to sell.</td>\n",
       "    </tr>\n",
       "    <tr>\n",
       "      <th>1</th>\n",
       "      <td>1</td>\n",
       "      <td>to repair and maintain the auto rickshaw used ...</td>\n",
       "    </tr>\n",
       "    <tr>\n",
       "      <th>2</th>\n",
       "      <td>1</td>\n",
       "      <td>To repair their old cycle-van and buy another ...</td>\n",
       "    </tr>\n",
       "    <tr>\n",
       "      <th>3</th>\n",
       "      <td>1</td>\n",
       "      <td>to purchase an embroidery machine and a variet...</td>\n",
       "    </tr>\n",
       "    <tr>\n",
       "      <th>4</th>\n",
       "      <td>1</td>\n",
       "      <td>to purchase one buffalo.</td>\n",
       "    </tr>\n",
       "  </tbody>\n",
       "</table>\n",
       "</div>"
      ],
      "text/plain": [
       "   status                                                use\n",
       "0       1            To buy seasonal, fresh fruits to sell. \n",
       "1       1  to repair and maintain the auto rickshaw used ...\n",
       "2       1  To repair their old cycle-van and buy another ...\n",
       "3       1  to purchase an embroidery machine and a variet...\n",
       "4       1                           to purchase one buffalo."
      ]
     },
     "execution_count": 5,
     "metadata": {},
     "output_type": "execute_result"
    }
   ],
   "source": [
    "df2.head()"
   ]
  },
  {
   "cell_type": "code",
   "execution_count": 6,
   "metadata": {
    "slideshow": {
     "slide_type": "skip"
    }
   },
   "outputs": [
    {
     "name": "stdout",
     "output_type": "stream",
     "text": [
      "<class 'pandas.core.frame.DataFrame'>\n",
      "Int64Index: 666973 entries, 0 to 671204\n",
      "Data columns (total 2 columns):\n",
      "status    666973 non-null int64\n",
      "use       666973 non-null object\n",
      "dtypes: int64(1), object(1)\n",
      "memory usage: 15.3+ MB\n"
     ]
    },
    {
     "name": "stderr",
     "output_type": "stream",
     "text": [
      "/Applications/anaconda3/lib/python3.6/site-packages/ipykernel_launcher.py:2: SettingWithCopyWarning: \n",
      "A value is trying to be set on a copy of a slice from a DataFrame\n",
      "\n",
      "See the caveats in the documentation: http://pandas.pydata.org/pandas-docs/stable/indexing.html#indexing-view-versus-copy\n",
      "  \n"
     ]
    }
   ],
   "source": [
    "#we need to remove rows with null values in the \"use\" column\n",
    "df2.dropna(inplace=True)\n",
    "df2.info()"
   ]
  },
  {
   "cell_type": "markdown",
   "metadata": {
    "slideshow": {
     "slide_type": "slide"
    }
   },
   "source": [
    "<h6>Exploratory Data Analysis</h6>"
   ]
  },
  {
   "cell_type": "code",
   "execution_count": 7,
   "metadata": {
    "slideshow": {
     "slide_type": "skip"
    }
   },
   "outputs": [],
   "source": [
    "pd.set_option('display.max_colwidth', -1)"
   ]
  },
  {
   "cell_type": "code",
   "execution_count": 8,
   "metadata": {
    "slideshow": {
     "slide_type": "subslide"
    }
   },
   "outputs": [
    {
     "data": {
      "text/html": [
       "<div>\n",
       "<style scoped>\n",
       "    .dataframe tbody tr th:only-of-type {\n",
       "        vertical-align: middle;\n",
       "    }\n",
       "\n",
       "    .dataframe tbody tr th {\n",
       "        vertical-align: top;\n",
       "    }\n",
       "\n",
       "    .dataframe thead tr th {\n",
       "        text-align: left;\n",
       "    }\n",
       "\n",
       "    .dataframe thead tr:last-of-type th {\n",
       "        text-align: right;\n",
       "    }\n",
       "</style>\n",
       "<table border=\"1\" class=\"dataframe\">\n",
       "  <thead>\n",
       "    <tr>\n",
       "      <th></th>\n",
       "      <th colspan=\"4\" halign=\"left\">use</th>\n",
       "    </tr>\n",
       "    <tr>\n",
       "      <th></th>\n",
       "      <th>count</th>\n",
       "      <th>unique</th>\n",
       "      <th>top</th>\n",
       "      <th>freq</th>\n",
       "    </tr>\n",
       "    <tr>\n",
       "      <th>status</th>\n",
       "      <th></th>\n",
       "      <th></th>\n",
       "      <th></th>\n",
       "      <th></th>\n",
       "    </tr>\n",
       "  </thead>\n",
       "  <tbody>\n",
       "    <tr>\n",
       "      <th>0</th>\n",
       "      <td>47640</td>\n",
       "      <td>40064</td>\n",
       "      <td>to purchase improved farm inputs that will increase farm yield.</td>\n",
       "      <td>180</td>\n",
       "    </tr>\n",
       "    <tr>\n",
       "      <th>1</th>\n",
       "      <td>619333</td>\n",
       "      <td>391235</td>\n",
       "      <td>to buy a water filter to provide safe drinking water for their family.</td>\n",
       "      <td>5197</td>\n",
       "    </tr>\n",
       "  </tbody>\n",
       "</table>\n",
       "</div>"
      ],
      "text/plain": [
       "           use          \\\n",
       "         count  unique   \n",
       "status                   \n",
       "0       47640   40064    \n",
       "1       619333  391235   \n",
       "\n",
       "                                                                                \\\n",
       "                                                                           top   \n",
       "status                                                                           \n",
       "0       to purchase improved farm inputs that will increase farm yield.          \n",
       "1       to buy a water filter to provide safe drinking water for their family.   \n",
       "\n",
       "              \n",
       "        freq  \n",
       "status        \n",
       "0       180   \n",
       "1       5197  "
      ]
     },
     "execution_count": 8,
     "metadata": {},
     "output_type": "execute_result"
    }
   ],
   "source": [
    "df2.groupby(\"status\").describe()"
   ]
  },
  {
   "cell_type": "code",
   "execution_count": 9,
   "metadata": {
    "slideshow": {
     "slide_type": "subslide"
    }
   },
   "outputs": [
    {
     "data": {
      "text/html": [
       "<div>\n",
       "<style scoped>\n",
       "    .dataframe tbody tr th:only-of-type {\n",
       "        vertical-align: middle;\n",
       "    }\n",
       "\n",
       "    .dataframe tbody tr th {\n",
       "        vertical-align: top;\n",
       "    }\n",
       "\n",
       "    .dataframe thead th {\n",
       "        text-align: right;\n",
       "    }\n",
       "</style>\n",
       "<table border=\"1\" class=\"dataframe\">\n",
       "  <thead>\n",
       "    <tr style=\"text-align: right;\">\n",
       "      <th></th>\n",
       "      <th>status</th>\n",
       "      <th>use</th>\n",
       "    </tr>\n",
       "  </thead>\n",
       "  <tbody>\n",
       "    <tr>\n",
       "      <th>664838</th>\n",
       "      <td>0</td>\n",
       "      <td>to buy a water filter to provide safe drinking water for their family.</td>\n",
       "    </tr>\n",
       "    <tr>\n",
       "      <th>665026</th>\n",
       "      <td>0</td>\n",
       "      <td>to buy a water filter to provide safe drinking water for their family.</td>\n",
       "    </tr>\n",
       "    <tr>\n",
       "      <th>665617</th>\n",
       "      <td>0</td>\n",
       "      <td>to buy a water filter to provide safe drinking water for their family.</td>\n",
       "    </tr>\n",
       "    <tr>\n",
       "      <th>665796</th>\n",
       "      <td>0</td>\n",
       "      <td>to buy a water filter to provide safe drinking water for their family.</td>\n",
       "    </tr>\n",
       "    <tr>\n",
       "      <th>665885</th>\n",
       "      <td>0</td>\n",
       "      <td>to buy a water filter to provide safe drinking water for their family.</td>\n",
       "    </tr>\n",
       "    <tr>\n",
       "      <th>665947</th>\n",
       "      <td>0</td>\n",
       "      <td>to buy a water filter to provide safe drinking water for their family.</td>\n",
       "    </tr>\n",
       "    <tr>\n",
       "      <th>666259</th>\n",
       "      <td>0</td>\n",
       "      <td>to buy a water filter to provide safe drinking water for their family.</td>\n",
       "    </tr>\n",
       "    <tr>\n",
       "      <th>667669</th>\n",
       "      <td>0</td>\n",
       "      <td>to buy a water filter to provide safe drinking water for their family.</td>\n",
       "    </tr>\n",
       "    <tr>\n",
       "      <th>667858</th>\n",
       "      <td>0</td>\n",
       "      <td>to buy a water filter to provide safe drinking water for their family.</td>\n",
       "    </tr>\n",
       "    <tr>\n",
       "      <th>667965</th>\n",
       "      <td>0</td>\n",
       "      <td>to buy a water filter to provide safe drinking water for their family.</td>\n",
       "    </tr>\n",
       "    <tr>\n",
       "      <th>668021</th>\n",
       "      <td>0</td>\n",
       "      <td>to buy a water filter to provide safe drinking water for their family.</td>\n",
       "    </tr>\n",
       "    <tr>\n",
       "      <th>668027</th>\n",
       "      <td>0</td>\n",
       "      <td>to buy a water filter to provide safe drinking water for their family.</td>\n",
       "    </tr>\n",
       "    <tr>\n",
       "      <th>668345</th>\n",
       "      <td>0</td>\n",
       "      <td>to buy a water filter to provide safe drinking water for their family.</td>\n",
       "    </tr>\n",
       "    <tr>\n",
       "      <th>668364</th>\n",
       "      <td>0</td>\n",
       "      <td>to buy a water filter to provide safe drinking water for their family.</td>\n",
       "    </tr>\n",
       "    <tr>\n",
       "      <th>668511</th>\n",
       "      <td>0</td>\n",
       "      <td>to buy a water filter to provide safe drinking water for their family.</td>\n",
       "    </tr>\n",
       "    <tr>\n",
       "      <th>668514</th>\n",
       "      <td>0</td>\n",
       "      <td>to buy a water filter to provide safe drinking water for their family.</td>\n",
       "    </tr>\n",
       "    <tr>\n",
       "      <th>668538</th>\n",
       "      <td>0</td>\n",
       "      <td>to buy a water filter to provide safe drinking water for their family.</td>\n",
       "    </tr>\n",
       "    <tr>\n",
       "      <th>668543</th>\n",
       "      <td>0</td>\n",
       "      <td>to buy a water filter to provide safe drinking water for their family.</td>\n",
       "    </tr>\n",
       "    <tr>\n",
       "      <th>668548</th>\n",
       "      <td>0</td>\n",
       "      <td>to buy a water filter to provide safe drinking water for their family.</td>\n",
       "    </tr>\n",
       "    <tr>\n",
       "      <th>668588</th>\n",
       "      <td>0</td>\n",
       "      <td>to buy a water filter to provide safe drinking water for their family.</td>\n",
       "    </tr>\n",
       "  </tbody>\n",
       "</table>\n",
       "</div>"
      ],
      "text/plain": [
       "        status  \\\n",
       "664838  0        \n",
       "665026  0        \n",
       "665617  0        \n",
       "665796  0        \n",
       "665885  0        \n",
       "665947  0        \n",
       "666259  0        \n",
       "667669  0        \n",
       "667858  0        \n",
       "667965  0        \n",
       "668021  0        \n",
       "668027  0        \n",
       "668345  0        \n",
       "668364  0        \n",
       "668511  0        \n",
       "668514  0        \n",
       "668538  0        \n",
       "668543  0        \n",
       "668548  0        \n",
       "668588  0        \n",
       "\n",
       "                                                                           use  \n",
       "664838  to buy a water filter to provide safe drinking water for their family.  \n",
       "665026  to buy a water filter to provide safe drinking water for their family.  \n",
       "665617  to buy a water filter to provide safe drinking water for their family.  \n",
       "665796  to buy a water filter to provide safe drinking water for their family.  \n",
       "665885  to buy a water filter to provide safe drinking water for their family.  \n",
       "665947  to buy a water filter to provide safe drinking water for their family.  \n",
       "666259  to buy a water filter to provide safe drinking water for their family.  \n",
       "667669  to buy a water filter to provide safe drinking water for their family.  \n",
       "667858  to buy a water filter to provide safe drinking water for their family.  \n",
       "667965  to buy a water filter to provide safe drinking water for their family.  \n",
       "668021  to buy a water filter to provide safe drinking water for their family.  \n",
       "668027  to buy a water filter to provide safe drinking water for their family.  \n",
       "668345  to buy a water filter to provide safe drinking water for their family.  \n",
       "668364  to buy a water filter to provide safe drinking water for their family.  \n",
       "668511  to buy a water filter to provide safe drinking water for their family.  \n",
       "668514  to buy a water filter to provide safe drinking water for their family.  \n",
       "668538  to buy a water filter to provide safe drinking water for their family.  \n",
       "668543  to buy a water filter to provide safe drinking water for their family.  \n",
       "668548  to buy a water filter to provide safe drinking water for their family.  \n",
       "668588  to buy a water filter to provide safe drinking water for their family.  "
      ]
     },
     "execution_count": 9,
     "metadata": {},
     "output_type": "execute_result"
    }
   ],
   "source": [
    "df2.loc[(df2[\"use\"]==\"to buy a water filter to provide safe drinking water for their family.\") & (df2[\"status\"]==0)]"
   ]
  },
  {
   "cell_type": "code",
   "execution_count": 10,
   "metadata": {
    "slideshow": {
     "slide_type": "skip"
    }
   },
   "outputs": [
    {
     "name": "stderr",
     "output_type": "stream",
     "text": [
      "/Applications/anaconda3/lib/python3.6/site-packages/ipykernel_launcher.py:1: SettingWithCopyWarning: \n",
      "A value is trying to be set on a copy of a slice from a DataFrame.\n",
      "Try using .loc[row_indexer,col_indexer] = value instead\n",
      "\n",
      "See the caveats in the documentation: http://pandas.pydata.org/pandas-docs/stable/indexing.html#indexing-view-versus-copy\n",
      "  \"\"\"Entry point for launching an IPython kernel.\n"
     ]
    }
   ],
   "source": [
    "df2[\"use_length\"]=df2[\"use\"].apply(len)"
   ]
  },
  {
   "cell_type": "code",
   "execution_count": 11,
   "metadata": {
    "slideshow": {
     "slide_type": "slide"
    }
   },
   "outputs": [
    {
     "data": {
      "text/html": [
       "<div>\n",
       "<style scoped>\n",
       "    .dataframe tbody tr th:only-of-type {\n",
       "        vertical-align: middle;\n",
       "    }\n",
       "\n",
       "    .dataframe tbody tr th {\n",
       "        vertical-align: top;\n",
       "    }\n",
       "\n",
       "    .dataframe thead th {\n",
       "        text-align: right;\n",
       "    }\n",
       "</style>\n",
       "<table border=\"1\" class=\"dataframe\">\n",
       "  <thead>\n",
       "    <tr style=\"text-align: right;\">\n",
       "      <th></th>\n",
       "      <th>status</th>\n",
       "      <th>use</th>\n",
       "      <th>use_length</th>\n",
       "    </tr>\n",
       "  </thead>\n",
       "  <tbody>\n",
       "    <tr>\n",
       "      <th>0</th>\n",
       "      <td>1</td>\n",
       "      <td>To buy seasonal, fresh fruits to sell.</td>\n",
       "      <td>39</td>\n",
       "    </tr>\n",
       "    <tr>\n",
       "      <th>1</th>\n",
       "      <td>1</td>\n",
       "      <td>to repair and maintain the auto rickshaw used in their business.</td>\n",
       "      <td>64</td>\n",
       "    </tr>\n",
       "    <tr>\n",
       "      <th>2</th>\n",
       "      <td>1</td>\n",
       "      <td>To repair their old cycle-van and buy another one to rent out as a source of income</td>\n",
       "      <td>83</td>\n",
       "    </tr>\n",
       "    <tr>\n",
       "      <th>3</th>\n",
       "      <td>1</td>\n",
       "      <td>to purchase an embroidery machine and a variety of new embroidery materials.</td>\n",
       "      <td>76</td>\n",
       "    </tr>\n",
       "    <tr>\n",
       "      <th>4</th>\n",
       "      <td>1</td>\n",
       "      <td>to purchase one buffalo.</td>\n",
       "      <td>24</td>\n",
       "    </tr>\n",
       "  </tbody>\n",
       "</table>\n",
       "</div>"
      ],
      "text/plain": [
       "   status  \\\n",
       "0  1        \n",
       "1  1        \n",
       "2  1        \n",
       "3  1        \n",
       "4  1        \n",
       "\n",
       "                                                                                   use  \\\n",
       "0  To buy seasonal, fresh fruits to sell.                                                \n",
       "1  to repair and maintain the auto rickshaw used in their business.                      \n",
       "2  To repair their old cycle-van and buy another one to rent out as a source of income   \n",
       "3  to purchase an embroidery machine and a variety of new embroidery materials.          \n",
       "4  to purchase one buffalo.                                                              \n",
       "\n",
       "   use_length  \n",
       "0  39          \n",
       "1  64          \n",
       "2  83          \n",
       "3  76          \n",
       "4  24          "
      ]
     },
     "execution_count": 11,
     "metadata": {},
     "output_type": "execute_result"
    }
   ],
   "source": [
    "df2.head()"
   ]
  },
  {
   "cell_type": "code",
   "execution_count": 12,
   "metadata": {
    "slideshow": {
     "slide_type": "skip"
    }
   },
   "outputs": [
    {
     "data": {
      "text/plain": [
       "<matplotlib.axes._subplots.AxesSubplot at 0x1a0b8a2e80>"
      ]
     },
     "execution_count": 12,
     "metadata": {},
     "output_type": "execute_result"
    },
    {
     "data": {
      "image/png": "[encoded data removed]",
      "text/plain": [
       "<matplotlib.figure.Figure at 0x1063af6a0>"
      ]
     },
     "metadata": {},
     "output_type": "display_data"
    }
   ],
   "source": [
    "sns.countplot(x=\"status\", data = df2)"
   ]
  },
  {
   "cell_type": "code",
   "execution_count": 13,
   "metadata": {
    "slideshow": {
     "slide_type": "subslide"
    }
   },
   "outputs": [
    {
     "data": {
      "text/plain": [
       "(0, 300)"
      ]
     },
     "execution_count": 13,
     "metadata": {},
     "output_type": "execute_result"
    },
    {
     "data": {
      "image/png": "[encoded data removed]",
      "text/plain": [
       "<matplotlib.figure.Figure at 0x1051775c0>"
      ]
     },
     "metadata": {},
     "output_type": "display_data"
    }
   ],
   "source": [
    "plt.figure(figsize=(15, 7))\n",
    "df2[\"use_length\"].plot.hist(bins=100)\n",
    "plt.xlim(0,300)\n"
   ]
  },
  {
   "cell_type": "code",
   "execution_count": 14,
   "metadata": {
    "slideshow": {
     "slide_type": "subslide"
    }
   },
   "outputs": [
    {
     "data": {
      "text/plain": [
       "count    666973.000000\n",
       "mean     60.203888    \n",
       "std      29.789431    \n",
       "min      1.000000     \n",
       "25%      38.000000    \n",
       "50%      55.000000    \n",
       "75%      76.000000    \n",
       "max      772.000000   \n",
       "Name: use_length, dtype: float64"
      ]
     },
     "execution_count": 14,
     "metadata": {},
     "output_type": "execute_result"
    }
   ],
   "source": [
    "df2[\"use_length\"].describe()"
   ]
  },
  {
   "cell_type": "code",
   "execution_count": 15,
   "metadata": {
    "slideshow": {
     "slide_type": "slide"
    }
   },
   "outputs": [
    {
     "data": {
      "text/html": [
       "<div>\n",
       "<style scoped>\n",
       "    .dataframe tbody tr th:only-of-type {\n",
       "        vertical-align: middle;\n",
       "    }\n",
       "\n",
       "    .dataframe tbody tr th {\n",
       "        vertical-align: top;\n",
       "    }\n",
       "\n",
       "    .dataframe thead th {\n",
       "        text-align: right;\n",
       "    }\n",
       "</style>\n",
       "<table border=\"1\" class=\"dataframe\">\n",
       "  <thead>\n",
       "    <tr style=\"text-align: right;\">\n",
       "      <th></th>\n",
       "      <th>id</th>\n",
       "      <th>funded_amount</th>\n",
       "      <th>loan_amount</th>\n",
       "      <th>diff_funded_loan</th>\n",
       "      <th>status</th>\n",
       "      <th>activity</th>\n",
       "      <th>sector</th>\n",
       "      <th>use</th>\n",
       "      <th>country_code</th>\n",
       "      <th>country</th>\n",
       "      <th>currency</th>\n",
       "      <th>lender_count</th>\n",
       "      <th>term_in_months</th>\n",
       "      <th>tags</th>\n",
       "      <th>gender</th>\n",
       "      <th>borrower_genders</th>\n",
       "      <th>repayment_interval</th>\n",
       "      <th>date</th>\n",
       "    </tr>\n",
       "  </thead>\n",
       "  <tbody>\n",
       "    <tr>\n",
       "      <th>526686</th>\n",
       "      <td>1197187</td>\n",
       "      <td>4000</td>\n",
       "      <td>4000</td>\n",
       "      <td>0</td>\n",
       "      <td>1</td>\n",
       "      <td>Clothing</td>\n",
       "      <td>Clothing</td>\n",
       "      <td>in the purchasing of best selling items currently out of stock due to no/low funds I will be able to introduce a steady flow of new merchandise and react to any \"new/IT\" items in the industry and offer my clients the same or like items at better prices than the major retailers/specialty stores. It will allow me to plan purchases by category and be able to react to consumer and market needs.This loan will allow me to have a bigger presence online, in social media ads and at trade fairs/shows and will help me build my brand, Lily's Clothiers. I will be able to buy into new categories at a higher margin which in turn, will help elevate my price points and propel me into another realm of the business - I can finally compete with local and online boutique retailers.</td>\n",
       "      <td>US</td>\n",
       "      <td>United States</td>\n",
       "      <td>USD</td>\n",
       "      <td>60</td>\n",
       "      <td>24</td>\n",
       "      <td>user_favorite, #First Loan, #Parent, #Woman Owned Biz, #Biz Durable Asset, user_favorite, user_favorite, user_favorite, user_favorite, user_favorite, user_favorite</td>\n",
       "      <td>female</td>\n",
       "      <td>female</td>\n",
       "      <td>monthly</td>\n",
       "      <td>11/17/16</td>\n",
       "    </tr>\n",
       "  </tbody>\n",
       "</table>\n",
       "</div>"
      ],
      "text/plain": [
       "             id  funded_amount  loan_amount  diff_funded_loan  status  \\\n",
       "526686  1197187  4000           4000         0                 1        \n",
       "\n",
       "        activity    sector  \\\n",
       "526686  Clothing  Clothing   \n",
       "\n",
       "                                                                                                                                                                                                                                                                                                                                                                                                                                                                                                                                                                                                                                                                                                                                                                                                         use  \\\n",
       "526686   in the purchasing of best selling items currently out of stock due to no/low funds I will be able to introduce a steady flow of new merchandise and react to any \"new/IT\" items in the industry and offer my clients the same or like items at better prices than the major retailers/specialty stores. It will allow me to plan purchases by category and be able to react to consumer and market needs.This loan will allow me to have a bigger presence online, in social media ads and at trade fairs/shows and will help me build my brand, Lily's Clothiers. I will be able to buy into new categories at a higher margin which in turn, will help elevate my price points and propel me into another realm of the business - I can finally compete with local and online boutique retailers.   \n",
       "\n",
       "       country_code        country currency  lender_count  term_in_months  \\\n",
       "526686  US           United States  USD      60            24               \n",
       "\n",
       "                                                                                                                                                                       tags  \\\n",
       "526686  user_favorite, #First Loan, #Parent, #Woman Owned Biz, #Biz Durable Asset, user_favorite, user_favorite, user_favorite, user_favorite, user_favorite, user_favorite   \n",
       "\n",
       "        gender borrower_genders repayment_interval      date  \n",
       "526686  female  female           monthly            11/17/16  "
      ]
     },
     "execution_count": 15,
     "metadata": {},
     "output_type": "execute_result"
    }
   ],
   "source": [
    "#print the \"use\" description with max number of characters\n",
    "l=df2[df2[\"use_length\"]==772][\"use\"].iloc[0]\n",
    "#print(l)\n",
    "df.loc[df[\"use\"]==l]\n"
   ]
  },
  {
   "cell_type": "code",
   "execution_count": 16,
   "metadata": {
    "slideshow": {
     "slide_type": "subslide"
    }
   },
   "outputs": [
    {
     "name": "stdout",
     "output_type": "stream",
     "text": [
      " \n"
     ]
    },
    {
     "data": {
      "text/html": [
       "<div>\n",
       "<style scoped>\n",
       "    .dataframe tbody tr th:only-of-type {\n",
       "        vertical-align: middle;\n",
       "    }\n",
       "\n",
       "    .dataframe tbody tr th {\n",
       "        vertical-align: top;\n",
       "    }\n",
       "\n",
       "    .dataframe thead th {\n",
       "        text-align: right;\n",
       "    }\n",
       "</style>\n",
       "<table border=\"1\" class=\"dataframe\">\n",
       "  <thead>\n",
       "    <tr style=\"text-align: right;\">\n",
       "      <th></th>\n",
       "      <th>id</th>\n",
       "      <th>funded_amount</th>\n",
       "      <th>loan_amount</th>\n",
       "      <th>diff_funded_loan</th>\n",
       "      <th>status</th>\n",
       "      <th>activity</th>\n",
       "      <th>sector</th>\n",
       "      <th>use</th>\n",
       "      <th>country_code</th>\n",
       "      <th>country</th>\n",
       "      <th>currency</th>\n",
       "      <th>lender_count</th>\n",
       "      <th>term_in_months</th>\n",
       "      <th>tags</th>\n",
       "      <th>gender</th>\n",
       "      <th>borrower_genders</th>\n",
       "      <th>repayment_interval</th>\n",
       "      <th>date</th>\n",
       "    </tr>\n",
       "  </thead>\n",
       "  <tbody>\n",
       "    <tr>\n",
       "      <th>121644</th>\n",
       "      <td>772911</td>\n",
       "      <td>1350</td>\n",
       "      <td>1350</td>\n",
       "      <td>0</td>\n",
       "      <td>1</td>\n",
       "      <td>Fish Selling</td>\n",
       "      <td>Food</td>\n",
       "      <td></td>\n",
       "      <td>CO</td>\n",
       "      <td>Colombia</td>\n",
       "      <td>COP</td>\n",
       "      <td>54</td>\n",
       "      <td>14</td>\n",
       "      <td>user_favorite, #Woman Owned Biz, #Repeat Borrower</td>\n",
       "      <td>female</td>\n",
       "      <td>female</td>\n",
       "      <td>monthly</td>\n",
       "      <td>9/22/14</td>\n",
       "    </tr>\n",
       "  </tbody>\n",
       "</table>\n",
       "</div>"
      ],
      "text/plain": [
       "            id  funded_amount  loan_amount  diff_funded_loan  status  \\\n",
       "121644  772911  1350           1350         0                 1        \n",
       "\n",
       "            activity sector use country_code   country currency  lender_count  \\\n",
       "121644  Fish Selling  Food       CO           Colombia  COP      54             \n",
       "\n",
       "        term_in_months                                               tags  \\\n",
       "121644  14              user_favorite, #Woman Owned Biz, #Repeat Borrower   \n",
       "\n",
       "        gender borrower_genders repayment_interval     date  \n",
       "121644  female  female           monthly            9/22/14  "
      ]
     },
     "execution_count": 16,
     "metadata": {},
     "output_type": "execute_result"
    }
   ],
   "source": [
    "#print the \"use\" description with min number of characters\n",
    "l=df2[df2[\"use_length\"]==1][\"use\"].iloc[0]\n",
    "print(l)\n",
    "df.loc[df[\"use\"]==l]"
   ]
  },
  {
   "cell_type": "code",
   "execution_count": 17,
   "metadata": {
    "slideshow": {
     "slide_type": "skip"
    }
   },
   "outputs": [
    {
     "data": {
      "text/plain": [
       "array([<matplotlib.axes._subplots.AxesSubplot object at 0x105198198>,\n",
       "       <matplotlib.axes._subplots.AxesSubplot object at 0x1a0cea6748>],\n",
       "      dtype=object)"
      ]
     },
     "execution_count": 17,
     "metadata": {},
     "output_type": "execute_result"
    },
    {
     "data": {
      "image/png": "[encoded data removed]",
      "text/plain": [
       "<matplotlib.figure.Figure at 0x1087fe240>"
      ]
     },
     "metadata": {},
     "output_type": "display_data"
    }
   ],
   "source": [
    "df2.hist(column='use_length', by='status', bins=100,figsize=(20,10))"
   ]
  },
  {
   "cell_type": "markdown",
   "metadata": {
    "slideshow": {
     "slide_type": "slide"
    }
   },
   "source": [
    "<h3>NLP Classification</h3>"
   ]
  },
  {
   "cell_type": "markdown",
   "metadata": {
    "slideshow": {
     "slide_type": "skip"
    }
   },
   "source": [
    "<h6>Bag of words</h6>"
   ]
  },
  {
   "cell_type": "code",
   "execution_count": 18,
   "metadata": {
    "slideshow": {
     "slide_type": "skip"
    }
   },
   "outputs": [],
   "source": [
    "#we use the CountVectorizer to create vectors from the corpus.\n",
    "\n",
    "from sklearn.feature_extraction.text import CountVectorizer\n",
    "cv = CountVectorizer()\n"
   ]
  },
  {
   "cell_type": "code",
   "execution_count": 19,
   "metadata": {
    "slideshow": {
     "slide_type": "skip"
    }
   },
   "outputs": [],
   "source": [
    "#create feature/target\n",
    "X=df2[\"use\"]\n",
    "y=df2[\"status\"]\n"
   ]
  },
  {
   "cell_type": "code",
   "execution_count": 20,
   "metadata": {
    "slideshow": {
     "slide_type": "skip"
    }
   },
   "outputs": [],
   "source": [
    "X= cv.fit_transform(X)\n",
    "#X.shape\n",
    "\n",
    "#[n_samples, n_features]."
   ]
  },
  {
   "cell_type": "code",
   "execution_count": 21,
   "metadata": {
    "slideshow": {
     "slide_type": "skip"
    }
   },
   "outputs": [
    {
     "name": "stderr",
     "output_type": "stream",
     "text": [
      "/Applications/anaconda3/lib/python3.6/site-packages/sklearn/cross_validation.py:41: DeprecationWarning: This module was deprecated in version 0.18 in favor of the model_selection module into which all the refactored classes and functions are moved. Also note that the interface of the new CV iterators are different from that of this module. This module will be removed in 0.20.\n",
      "  \"This module will be removed in 0.20.\", DeprecationWarning)\n"
     ]
    }
   ],
   "source": [
    "from sklearn.cross_validation import train_test_split\n",
    "X_train, X_test, y_train, y_test = train_test_split(X, y, test_size=0.3, random_state=101)"
   ]
  },
  {
   "cell_type": "code",
   "execution_count": 22,
   "metadata": {
    "slideshow": {
     "slide_type": "skip"
    }
   },
   "outputs": [],
   "source": [
    "\n",
    "from sklearn.naive_bayes import MultinomialNB\n",
    "nb = MultinomialNB()"
   ]
  },
  {
   "cell_type": "code",
   "execution_count": 23,
   "metadata": {
    "slideshow": {
     "slide_type": "skip"
    }
   },
   "outputs": [
    {
     "data": {
      "text/plain": [
       "MultinomialNB(alpha=1.0, class_prior=None, fit_prior=True)"
      ]
     },
     "execution_count": 23,
     "metadata": {},
     "output_type": "execute_result"
    }
   ],
   "source": [
    "nb.fit(X_train, y_train)"
   ]
  },
  {
   "cell_type": "code",
   "execution_count": 24,
   "metadata": {
    "slideshow": {
     "slide_type": "skip"
    }
   },
   "outputs": [],
   "source": [
    "#prediction and evaluation\n",
    "prediction=nb.predict(X_test)"
   ]
  },
  {
   "cell_type": "code",
   "execution_count": 25,
   "metadata": {
    "slideshow": {
     "slide_type": "skip"
    }
   },
   "outputs": [],
   "source": [
    "#create a confusion matrix and classification report\n",
    "from sklearn.metrics import confusion_matrix, classification_report"
   ]
  },
  {
   "cell_type": "code",
   "execution_count": 26,
   "metadata": {
    "slideshow": {
     "slide_type": "skip"
    }
   },
   "outputs": [
    {
     "name": "stdout",
     "output_type": "stream",
     "text": [
      "[[  3030  11248]\n",
      " [ 11232 174582]]\n"
     ]
    }
   ],
   "source": [
    "print(confusion_matrix(y_test, prediction))"
   ]
  },
  {
   "cell_type": "code",
   "execution_count": 27,
   "metadata": {
    "slideshow": {
     "slide_type": "skip"
    }
   },
   "outputs": [
    {
     "name": "stdout",
     "output_type": "stream",
     "text": [
      "             precision    recall  f1-score   support\n",
      "\n",
      "          0       0.21      0.21      0.21     14278\n",
      "          1       0.94      0.94      0.94    185814\n",
      "\n",
      "avg / total       0.89      0.89      0.89    200092\n",
      "\n"
     ]
    }
   ],
   "source": [
    "print(classification_report(y_test, prediction))"
   ]
  },
  {
   "cell_type": "markdown",
   "metadata": {
    "slideshow": {
     "slide_type": "slide"
    }
   },
   "source": [
    "<h6>Creating a Data Pipeline adding  TF-IDF</h6>"
   ]
  },
  {
   "cell_type": "code",
   "execution_count": 28,
   "metadata": {
    "slideshow": {
     "slide_type": "skip"
    }
   },
   "outputs": [],
   "source": [
    "#tf-idf weight is a statistical measure used to evaluate how important a word is to a document in a collection \n",
    "#or corpus. The importance increases proportionally to the number of times a word appears in the document \n",
    "#but is offset by the frequency of the word in the corpus. \n",
    "#The goal of using tf-idf instead of the raw frequencies of occurrence of a token in a given document is to scale down\n",
    "#the impact of tokens that occur very frequently in a given corpus and that are hence empirically less informative \n",
    "#than features that occur in a small fraction of the training corpus."
   ]
  },
  {
   "cell_type": "code",
   "execution_count": 29,
   "metadata": {
    "slideshow": {
     "slide_type": "subslide"
    }
   },
   "outputs": [],
   "source": [
    "from sklearn.feature_extraction.text import CountVectorizer\n",
    "\n",
    "from sklearn.feature_extraction.text import TfidfTransformer\n",
    "\n",
    "from sklearn.pipeline import Pipeline\n",
    "\n"
   ]
  },
  {
   "cell_type": "code",
   "execution_count": 30,
   "metadata": {
    "slideshow": {
     "slide_type": "subslide"
    }
   },
   "outputs": [],
   "source": [
    "#create a pipeline with the following steps: CountVectorizer(), TfidTransformer(), MultinominalNB()\n",
    "pipeline = Pipeline([\n",
    "    ('vect', CountVectorizer()),  # strings to token integer counts\n",
    "    ('tfidf', TfidfTransformer()),  # integer counts to weighted TF-IDF scores\n",
    "    ('classifier', MultinomialNB())  # train on TF-IDF vectors w/ Naive Bayes classifier\n",
    "])"
   ]
  },
  {
   "cell_type": "code",
   "execution_count": 31,
   "metadata": {
    "slideshow": {
     "slide_type": "slide"
    }
   },
   "outputs": [],
   "source": [
    "X=df2[\"use\"]\n",
    "y=df2[\"status\"]\n",
    "X_train, X_test, y_train, y_test = train_test_split(X, y, test_size=0.3, random_state=101)"
   ]
  },
  {
   "cell_type": "code",
   "execution_count": 32,
   "metadata": {
    "slideshow": {
     "slide_type": "subslide"
    }
   },
   "outputs": [
    {
     "data": {
      "text/plain": [
       "Pipeline(memory=None,\n",
       "     steps=[('vect', CountVectorizer(analyzer='word', binary=False, decode_error='strict',\n",
       "        dtype=<class 'numpy.int64'>, encoding='utf-8', input='content',\n",
       "        lowercase=True, max_df=1.0, max_features=None, min_df=1,\n",
       "        ngram_range=(1, 1), preprocessor=None, stop_words=None,\n",
       "        strip...f=False, use_idf=True)), ('classifier', MultinomialNB(alpha=1.0, class_prior=None, fit_prior=True))])"
      ]
     },
     "execution_count": 32,
     "metadata": {},
     "output_type": "execute_result"
    }
   ],
   "source": [
    "pipeline.fit(X_train, y_train)"
   ]
  },
  {
   "cell_type": "code",
   "execution_count": 33,
   "metadata": {
    "slideshow": {
     "slide_type": "subslide"
    }
   },
   "outputs": [],
   "source": [
    "#prediction and evaluation\n",
    "prediction=pipeline.predict(X_test)"
   ]
  },
  {
   "cell_type": "code",
   "execution_count": 34,
   "metadata": {
    "slideshow": {
     "slide_type": "subslide"
    }
   },
   "outputs": [
    {
     "name": "stdout",
     "output_type": "stream",
     "text": [
      "[[   344  13934]\n",
      " [   608 185206]]\n"
     ]
    }
   ],
   "source": [
    "#create a confusion matrix and classification report\n",
    "print(confusion_matrix(y_test, prediction))"
   ]
  },
  {
   "cell_type": "code",
   "execution_count": 35,
   "metadata": {
    "slideshow": {
     "slide_type": "slide"
    }
   },
   "outputs": [
    {
     "name": "stdout",
     "output_type": "stream",
     "text": [
      "             precision    recall  f1-score   support\n",
      "\n",
      "          0       0.36      0.02      0.05     14278\n",
      "          1       0.93      1.00      0.96    185814\n",
      "\n",
      "avg / total       0.89      0.93      0.90    200092\n",
      "\n"
     ]
    }
   ],
   "source": [
    "print(classification_report(y_test, prediction))"
   ]
  },
  {
   "cell_type": "code",
   "execution_count": 36,
   "metadata": {
    "slideshow": {
     "slide_type": "skip"
    }
   },
   "outputs": [],
   "source": [
    "dfp = pd.DataFrame({\"Prediction\": prediction, \"Actual\": y_test})"
   ]
  },
  {
   "cell_type": "code",
   "execution_count": 37,
   "metadata": {
    "slideshow": {
     "slide_type": "skip"
    }
   },
   "outputs": [
    {
     "data": {
      "text/html": [
       "<div>\n",
       "<style scoped>\n",
       "    .dataframe tbody tr th:only-of-type {\n",
       "        vertical-align: middle;\n",
       "    }\n",
       "\n",
       "    .dataframe tbody tr th {\n",
       "        vertical-align: top;\n",
       "    }\n",
       "\n",
       "    .dataframe thead th {\n",
       "        text-align: right;\n",
       "    }\n",
       "</style>\n",
       "<table border=\"1\" class=\"dataframe\">\n",
       "  <thead>\n",
       "    <tr style=\"text-align: right;\">\n",
       "      <th></th>\n",
       "      <th>Actual</th>\n",
       "      <th>Prediction</th>\n",
       "    </tr>\n",
       "  </thead>\n",
       "  <tbody>\n",
       "    <tr>\n",
       "      <th>16913</th>\n",
       "      <td>1</td>\n",
       "      <td>1</td>\n",
       "    </tr>\n",
       "    <tr>\n",
       "      <th>384448</th>\n",
       "      <td>1</td>\n",
       "      <td>1</td>\n",
       "    </tr>\n",
       "    <tr>\n",
       "      <th>473140</th>\n",
       "      <td>1</td>\n",
       "      <td>1</td>\n",
       "    </tr>\n",
       "    <tr>\n",
       "      <th>285000</th>\n",
       "      <td>1</td>\n",
       "      <td>1</td>\n",
       "    </tr>\n",
       "    <tr>\n",
       "      <th>563968</th>\n",
       "      <td>1</td>\n",
       "      <td>1</td>\n",
       "    </tr>\n",
       "  </tbody>\n",
       "</table>\n",
       "</div>"
      ],
      "text/plain": [
       "        Actual  Prediction\n",
       "16913   1       1         \n",
       "384448  1       1         \n",
       "473140  1       1         \n",
       "285000  1       1         \n",
       "563968  1       1         "
      ]
     },
     "execution_count": 37,
     "metadata": {},
     "output_type": "execute_result"
    }
   ],
   "source": [
    "dfp.head()"
   ]
  },
  {
   "cell_type": "code",
   "execution_count": 38,
   "metadata": {
    "slideshow": {
     "slide_type": "subslide"
    }
   },
   "outputs": [
    {
     "name": "stdout",
     "output_type": "stream",
     "text": [
      "purchase stock of Mantle Anchor\n",
      "to buy new tools that will make his work easier.\n",
      "to buy stock of clothing for sale.\n"
     ]
    }
   ],
   "source": [
    "#true positive\n",
    "print(df.iloc[16913,7])\n",
    "print(df.iloc[384448,7])\n",
    "print(df.iloc[563968,7])"
   ]
  },
  {
   "cell_type": "code",
   "execution_count": 39,
   "metadata": {
    "slideshow": {
     "slide_type": "skip"
    }
   },
   "outputs": [],
   "source": [
    "dfn=dfp.loc[dfp[\"Prediction\"]==False]\n"
   ]
  },
  {
   "cell_type": "code",
   "execution_count": 40,
   "metadata": {
    "slideshow": {
     "slide_type": "skip"
    }
   },
   "outputs": [
    {
     "data": {
      "text/html": [
       "<div>\n",
       "<style scoped>\n",
       "    .dataframe tbody tr th:only-of-type {\n",
       "        vertical-align: middle;\n",
       "    }\n",
       "\n",
       "    .dataframe tbody tr th {\n",
       "        vertical-align: top;\n",
       "    }\n",
       "\n",
       "    .dataframe thead th {\n",
       "        text-align: right;\n",
       "    }\n",
       "</style>\n",
       "<table border=\"1\" class=\"dataframe\">\n",
       "  <thead>\n",
       "    <tr style=\"text-align: right;\">\n",
       "      <th></th>\n",
       "      <th>Actual</th>\n",
       "      <th>Prediction</th>\n",
       "    </tr>\n",
       "  </thead>\n",
       "  <tbody>\n",
       "    <tr>\n",
       "      <th>533856</th>\n",
       "      <td>1</td>\n",
       "      <td>0</td>\n",
       "    </tr>\n",
       "    <tr>\n",
       "      <th>249829</th>\n",
       "      <td>0</td>\n",
       "      <td>0</td>\n",
       "    </tr>\n",
       "    <tr>\n",
       "      <th>107508</th>\n",
       "      <td>1</td>\n",
       "      <td>0</td>\n",
       "    </tr>\n",
       "    <tr>\n",
       "      <th>93409</th>\n",
       "      <td>1</td>\n",
       "      <td>0</td>\n",
       "    </tr>\n",
       "    <tr>\n",
       "      <th>5673</th>\n",
       "      <td>1</td>\n",
       "      <td>0</td>\n",
       "    </tr>\n",
       "    <tr>\n",
       "      <th>471592</th>\n",
       "      <td>1</td>\n",
       "      <td>0</td>\n",
       "    </tr>\n",
       "    <tr>\n",
       "      <th>137566</th>\n",
       "      <td>1</td>\n",
       "      <td>0</td>\n",
       "    </tr>\n",
       "    <tr>\n",
       "      <th>322492</th>\n",
       "      <td>1</td>\n",
       "      <td>0</td>\n",
       "    </tr>\n",
       "    <tr>\n",
       "      <th>509983</th>\n",
       "      <td>1</td>\n",
       "      <td>0</td>\n",
       "    </tr>\n",
       "    <tr>\n",
       "      <th>375661</th>\n",
       "      <td>1</td>\n",
       "      <td>0</td>\n",
       "    </tr>\n",
       "    <tr>\n",
       "      <th>510219</th>\n",
       "      <td>0</td>\n",
       "      <td>0</td>\n",
       "    </tr>\n",
       "    <tr>\n",
       "      <th>349194</th>\n",
       "      <td>1</td>\n",
       "      <td>0</td>\n",
       "    </tr>\n",
       "    <tr>\n",
       "      <th>103569</th>\n",
       "      <td>0</td>\n",
       "      <td>0</td>\n",
       "    </tr>\n",
       "    <tr>\n",
       "      <th>589549</th>\n",
       "      <td>1</td>\n",
       "      <td>0</td>\n",
       "    </tr>\n",
       "    <tr>\n",
       "      <th>153176</th>\n",
       "      <td>1</td>\n",
       "      <td>0</td>\n",
       "    </tr>\n",
       "    <tr>\n",
       "      <th>496271</th>\n",
       "      <td>1</td>\n",
       "      <td>0</td>\n",
       "    </tr>\n",
       "    <tr>\n",
       "      <th>282157</th>\n",
       "      <td>1</td>\n",
       "      <td>0</td>\n",
       "    </tr>\n",
       "    <tr>\n",
       "      <th>44160</th>\n",
       "      <td>0</td>\n",
       "      <td>0</td>\n",
       "    </tr>\n",
       "    <tr>\n",
       "      <th>7427</th>\n",
       "      <td>1</td>\n",
       "      <td>0</td>\n",
       "    </tr>\n",
       "    <tr>\n",
       "      <th>619255</th>\n",
       "      <td>0</td>\n",
       "      <td>0</td>\n",
       "    </tr>\n",
       "  </tbody>\n",
       "</table>\n",
       "</div>"
      ],
      "text/plain": [
       "        Actual  Prediction\n",
       "533856  1       0         \n",
       "249829  0       0         \n",
       "107508  1       0         \n",
       "93409   1       0         \n",
       "5673    1       0         \n",
       "471592  1       0         \n",
       "137566  1       0         \n",
       "322492  1       0         \n",
       "509983  1       0         \n",
       "375661  1       0         \n",
       "510219  0       0         \n",
       "349194  1       0         \n",
       "103569  0       0         \n",
       "589549  1       0         \n",
       "153176  1       0         \n",
       "496271  1       0         \n",
       "282157  1       0         \n",
       "44160   0       0         \n",
       "7427    1       0         \n",
       "619255  0       0         "
      ]
     },
     "execution_count": 40,
     "metadata": {},
     "output_type": "execute_result"
    }
   ],
   "source": [
    "dfn.head(20)"
   ]
  },
  {
   "cell_type": "code",
   "execution_count": 41,
   "metadata": {
    "slideshow": {
     "slide_type": "subslide"
    }
   },
   "outputs": [
    {
     "name": "stdout",
     "output_type": "stream",
     "text": [
      "for repair & maitenance of his vehicle.\n",
      "To process more mobile phone airtime credit transactions on weekends.\n",
      "to cancel her debts from purchasing goods. Although these goods have been sold, she has not received payment and her cancellation deadline has arrived. \n",
      "to process more mobile phone airtime credits and bill payment transactions on weekends\n"
     ]
    }
   ],
   "source": [
    "#false negative\n",
    "print(df.iloc[533856,7])\n",
    "print(df.iloc[107508,7])\n",
    "print(df.iloc[93409,7])\n",
    "print(df.iloc[5673,7])"
   ]
  },
  {
   "cell_type": "code",
   "execution_count": 42,
   "metadata": {
    "slideshow": {
     "slide_type": "subslide"
    }
   },
   "outputs": [
    {
     "name": "stdout",
     "output_type": "stream",
     "text": [
      "Haddad's Unlimited get the supplies needed ahead of a busy season.\n",
      "To process more airtime and bill payment transactions on weekends.\n",
      "to process more mobile airtime credit transactions on weekends.\n"
     ]
    }
   ],
   "source": [
    "#true negative\n",
    "print(df.iloc[619255,7])\n",
    "print(df.iloc[44160,7])\n",
    "print(df.iloc[103569,7])\n"
   ]
  },
  {
   "cell_type": "code",
   "execution_count": 43,
   "metadata": {
    "slideshow": {
     "slide_type": "skip"
    }
   },
   "outputs": [
    {
     "data": {
      "text/html": [
       "<div>\n",
       "<style scoped>\n",
       "    .dataframe tbody tr th:only-of-type {\n",
       "        vertical-align: middle;\n",
       "    }\n",
       "\n",
       "    .dataframe tbody tr th {\n",
       "        vertical-align: top;\n",
       "    }\n",
       "\n",
       "    .dataframe thead th {\n",
       "        text-align: right;\n",
       "    }\n",
       "</style>\n",
       "<table border=\"1\" class=\"dataframe\">\n",
       "  <thead>\n",
       "    <tr style=\"text-align: right;\">\n",
       "      <th></th>\n",
       "      <th>Actual</th>\n",
       "      <th>Prediction</th>\n",
       "    </tr>\n",
       "  </thead>\n",
       "  <tbody>\n",
       "    <tr>\n",
       "      <th>513139</th>\n",
       "      <td>0</td>\n",
       "      <td>1</td>\n",
       "    </tr>\n",
       "    <tr>\n",
       "      <th>598238</th>\n",
       "      <td>0</td>\n",
       "      <td>1</td>\n",
       "    </tr>\n",
       "    <tr>\n",
       "      <th>246498</th>\n",
       "      <td>0</td>\n",
       "      <td>1</td>\n",
       "    </tr>\n",
       "    <tr>\n",
       "      <th>296565</th>\n",
       "      <td>0</td>\n",
       "      <td>1</td>\n",
       "    </tr>\n",
       "    <tr>\n",
       "      <th>456590</th>\n",
       "      <td>0</td>\n",
       "      <td>1</td>\n",
       "    </tr>\n",
       "    <tr>\n",
       "      <th>292597</th>\n",
       "      <td>0</td>\n",
       "      <td>1</td>\n",
       "    </tr>\n",
       "    <tr>\n",
       "      <th>427216</th>\n",
       "      <td>0</td>\n",
       "      <td>1</td>\n",
       "    </tr>\n",
       "    <tr>\n",
       "      <th>571529</th>\n",
       "      <td>0</td>\n",
       "      <td>1</td>\n",
       "    </tr>\n",
       "    <tr>\n",
       "      <th>447996</th>\n",
       "      <td>0</td>\n",
       "      <td>1</td>\n",
       "    </tr>\n",
       "    <tr>\n",
       "      <th>162634</th>\n",
       "      <td>0</td>\n",
       "      <td>1</td>\n",
       "    </tr>\n",
       "  </tbody>\n",
       "</table>\n",
       "</div>"
      ],
      "text/plain": [
       "        Actual  Prediction\n",
       "513139  0       1         \n",
       "598238  0       1         \n",
       "246498  0       1         \n",
       "296565  0       1         \n",
       "456590  0       1         \n",
       "292597  0       1         \n",
       "427216  0       1         \n",
       "571529  0       1         \n",
       "447996  0       1         \n",
       "162634  0       1         "
      ]
     },
     "execution_count": 43,
     "metadata": {},
     "output_type": "execute_result"
    }
   ],
   "source": [
    "#false positive\n",
    "d=dfp.loc[(dfp[\"Prediction\"]==True) & (dfp[\"Actual\"]==False)]\n",
    "d.head(10)"
   ]
  },
  {
   "cell_type": "code",
   "execution_count": 44,
   "metadata": {
    "slideshow": {
     "slide_type": "subslide"
    }
   },
   "outputs": [
    {
     "name": "stdout",
     "output_type": "stream",
     "text": [
      "to buy more stocks for his general store.\n",
      "to buy sugar, vinegar, onion powder, garlic powder, salt, celery salt, mustard powder for her son's ketchup making business\n",
      "to buy calves to raise and later be able to sell them.\n",
      "to buy cattle for his business.\n",
      "to buy cattle for his business.\n",
      "to pay for the surgical treatment of the diseases he is suffering so he can continue with his activities in a normal way.\n"
     ]
    }
   ],
   "source": [
    "print(df.iloc[162634,7])\n",
    "print(df.iloc[447996,7])\n",
    "print(df.iloc[571529,7])\n",
    "print(df.iloc[456590,7])\n",
    "print(df.iloc[456590,7])\n",
    "print(df.iloc[513139,7])\n"
   ]
  },
  {
   "cell_type": "code",
   "execution_count": 45,
   "metadata": {
    "slideshow": {
     "slide_type": "skip"
    }
   },
   "outputs": [],
   "source": [
    "from sklearn.ensemble import RandomForestClassifier "
   ]
  },
  {
   "cell_type": "code",
   "execution_count": 46,
   "metadata": {
    "slideshow": {
     "slide_type": "skip"
    }
   },
   "outputs": [],
   "source": [
    "#create a pipeline with the following steps: CountVectorizer(), TfidTransformer(), RandomForestClassifier ()\n",
    "pipeline = Pipeline([\n",
    "    ('vect', CountVectorizer()),  # strings to token integer counts\n",
    "    ('tfidf', TfidfTransformer()),  # integer counts to weighted TF-IDF scores\n",
    "    ('classifier', RandomForestClassifier ())  # train on TF-IDF vectors w/ Naive Bayes classifier\n",
    "])"
   ]
  },
  {
   "cell_type": "code",
   "execution_count": 47,
   "metadata": {
    "slideshow": {
     "slide_type": "skip"
    }
   },
   "outputs": [],
   "source": [
    "X=df2[\"use\"]\n",
    "y=df2[\"status\"]\n",
    "X_train, X_test, y_train, y_test = train_test_split(X, y, test_size=0.3, random_state=101)"
   ]
  },
  {
   "cell_type": "code",
   "execution_count": 48,
   "metadata": {
    "slideshow": {
     "slide_type": "skip"
    }
   },
   "outputs": [
    {
     "data": {
      "text/plain": [
       "Pipeline(memory=None,\n",
       "     steps=[('vect', CountVectorizer(analyzer='word', binary=False, decode_error='strict',\n",
       "        dtype=<class 'numpy.int64'>, encoding='utf-8', input='content',\n",
       "        lowercase=True, max_df=1.0, max_features=None, min_df=1,\n",
       "        ngram_range=(1, 1), preprocessor=None, stop_words=None,\n",
       "        strip...n_jobs=1,\n",
       "            oob_score=False, random_state=None, verbose=0,\n",
       "            warm_start=False))])"
      ]
     },
     "execution_count": 48,
     "metadata": {},
     "output_type": "execute_result"
    }
   ],
   "source": [
    "pipeline.fit(X_train, y_train)"
   ]
  },
  {
   "cell_type": "code",
   "execution_count": 50,
   "metadata": {
    "slideshow": {
     "slide_type": "skip"
    }
   },
   "outputs": [],
   "source": [
    "import pickle\n",
    "\n",
    "filename = 'NLP.h5'\n",
    "\n",
    "pickle.dump(pipeline, open(filename, 'wb'))"
   ]
  },
  {
   "cell_type": "code",
   "execution_count": 51,
   "metadata": {
    "slideshow": {
     "slide_type": "skip"
    }
   },
   "outputs": [],
   "source": [
    "#prediction and evaluation\n",
    "prediction=pipeline.predict(X_test)"
   ]
  },
  {
   "cell_type": "code",
   "execution_count": 52,
   "metadata": {
    "slideshow": {
     "slide_type": "skip"
    }
   },
   "outputs": [
    {
     "name": "stdout",
     "output_type": "stream",
     "text": [
      "Confusion Matrix\n",
      "[[   791  13487]\n",
      " [  1823 183991]]\n",
      "------------------------------------------------------------------------\n",
      "Classification_Report\n",
      "             precision    recall  f1-score   support\n",
      "\n",
      "          0       0.30      0.06      0.09     14278\n",
      "          1       0.93      0.99      0.96    185814\n",
      "\n",
      "avg / total       0.89      0.92      0.90    200092\n",
      "\n"
     ]
    }
   ],
   "source": [
    "# # load the model from disk\n",
    "filename = 'NLP.h5'\n",
    "\n",
    "rf = pickle.load(open(filename, 'rb'))\n",
    "\n",
    "predictions = rf.predict(X_test)\n",
    "\n",
    "print (\"Confusion Matrix\")\n",
    "print(confusion_matrix(y_test,predictions))\n",
    "print(\"------------------------\"*3)\n",
    "print (\"Classification_Report\")\n",
    "print(classification_report(y_test,predictions))"
   ]
  },
  {
   "cell_type": "code",
   "execution_count": null,
   "metadata": {},
   "outputs": [],
   "source": []
  }
 ],
 "metadata": {
  "celltoolbar": "Slideshow",
  "kernelspec": {
   "display_name": "Python 3",
   "language": "python",
   "name": "python3"
  },
  "language_info": {
   "codemirror_mode": {
    "name": "ipython",
    "version": 3
   },
   "file_extension": ".py",
   "mimetype": "text/x-python",
   "name": "python",
   "nbconvert_exporter": "python",
   "pygments_lexer": "ipython3",
   "version": "3.6.4"
  }
 },
 "nbformat": 4,
 "nbformat_minor": 2
}
