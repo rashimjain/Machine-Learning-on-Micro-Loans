{
 "cells": [
  {
   "cell_type": "markdown",
   "metadata": {
    "slideshow": {
     "slide_type": "slide"
    }
   },
   "source": [
    "# Learning ML with Kiva Microloans Data\n",
    "### By Alena Dudko, Aubrey Beltran, Isaac Ungo & Rashim Jain"
   ]
  },
  {
   "cell_type": "markdown",
   "metadata": {
    "slideshow": {
     "slide_type": "slide"
    }
   },
   "source": [
    "# Focus: Philanthropic Financing\n",
    "\n",
    "Founded in SF in 2005, Kiva facilitates flexible loans for those who are otherwise financially excluded and/or can't access other fair or affordable credit sources. With their micro-lending platform Kiva supports individual, group and entreprenurial borrowers in more than 80 countries with crowd-funded loans for amounts <$50,000 (USD). \n",
    "\n",
    "<img src = \"kiva.png\">\n",
    "\n",
    "## Dataset Context Note >>> High Successes & Existent, but Rare Failures\n",
    "Borrowers and their requests are vetted by Kiva's regional partners before the campaign is posted. And, Kiva's banking/institutional partnerships are certainly influenced by success of their ability to realize full-funding for as many campaigns as possible. But, micro-loans by nature still have significantly lower qualification terms than traditional business or personal loans and with site users choosing which campaigns are supported, inevitably not all loans get fully funded within the 30-days allowed. "
   ]
  },
  {
   "cell_type": "markdown",
   "metadata": {
    "slideshow": {
     "slide_type": "notes"
    }
   },
   "source": [
    "- most successful of the microloan sites\n",
    "- over 1.2 MM loans funded. \n",
    "- Kiva aggregates a number of partner organizations who distribute the money, but these lenders don't have the infrastructure or the public profile to receive funding from the general public. \n",
    "- Kiva's users decide which loans they want to fund and are then paid back over a set period of time (generally from 8-24 months). \n",
    "- Lenders/Kiva users assume the risk, as they are not guaranteed to receive their money back.\n",
    "\n",
    "- If the loan is not fulfilled in thirty days after the loan is posted, the posting is removed from the site. \n",
    "\n",
    "- Any users who have already given money are refunded and no more donations are accepted. In this situation, Kiva's partner assumes the risk if the loan defaults, making them less likely to work with Kiva in the future. Thus, it is imperative that Kiva fully funds as many loans as it can. In this project, we sought to examine what trends might exist across successfully funded loans to predict probability of funding for a real-time entry.\n"
   ]
  },
  {
   "cell_type": "markdown",
   "metadata": {
    "slideshow": {
     "slide_type": "subslide"
    }
   },
   "source": [
    "# The Data: Categorical, Imbalanced, & Tricky for Model Training\n",
    "#### Content: \n",
    "    671,000+ loan data points from the past 4 years, largely cleaned.\n",
    "#### Learning \n",
    "    Opportunity: Like fraud detection, spam filtering, rare disease screening, and ad click-throughs, such imbalanced classes (~93% success rate) in our data made accuracy measuring unreliable and training a more in-depth undertaking.\n",
    "\n",
    "## Our Objective: To predict the probability of successful funding for a real-time generated Kiva borrower profile.\n",
    "\n",
    "### Processes Undertaken:\n",
    "- 1. Examine and visualize the dataset to detect possible trends across successful (loan amount funded >=100% requested) and unsuccessful campaigns. \n",
    "- 2. Narrow then expand engineered features to build interactive demonstration and inform multiple models. \n",
    "- 3. Additional exploration to improve model scores with data balancing, hyperparameters, and tree ensembles. \n",
    "- 4. Conduct in-depth single-feature analysis with NLP.\n",
    "- 5. Compile results from singluar models for visualized contrasting."
   ]
  },
  {
   "cell_type": "markdown",
   "metadata": {
    "slideshow": {
     "slide_type": "slide"
    }
   },
   "source": [
    "# Tableau Visualization\n"
   ]
  },
  {
   "cell_type": "markdown",
   "metadata": {
    "slideshow": {
     "slide_type": "notes"
    }
   },
   "source": [
    "Observations: \n",
    "- Females\n",
    "- Developed Countries\n",
    "- "
   ]
  },
  {
   "cell_type": "markdown",
   "metadata": {
    "slideshow": {
     "slide_type": "slide"
    }
   },
   "source": [
    "# Feature Engineering\n",
    "\n",
    "### One-Hot Encoding w/ Categorical Data = Lots of Columns and 0's\n",
    "18 features in original >>> 7 move into final set >>> 885 unique features produced"
   ]
  },
  {
   "cell_type": "code",
   "execution_count": 1,
   "metadata": {
    "slideshow": {
     "slide_type": "skip"
    }
   },
   "outputs": [],
   "source": [
    "import pandas as pd\n",
    "import numpy as np\n",
    "import matplotlib.pyplot as plt\n",
    "import seaborn as sns\n",
    "%matplotlib inline"
   ]
  },
  {
   "cell_type": "code",
   "execution_count": 2,
   "metadata": {
    "slideshow": {
     "slide_type": "fragment"
    }
   },
   "outputs": [
    {
     "data": {
      "text/html": [
       "<div>\n",
       "<style scoped>\n",
       "    .dataframe tbody tr th:only-of-type {\n",
       "        vertical-align: middle;\n",
       "    }\n",
       "\n",
       "    .dataframe tbody tr th {\n",
       "        vertical-align: top;\n",
       "    }\n",
       "\n",
       "    .dataframe thead th {\n",
       "        text-align: right;\n",
       "    }\n",
       "</style>\n",
       "<table border=\"1\" class=\"dataframe\">\n",
       "  <thead>\n",
       "    <tr style=\"text-align: right;\">\n",
       "      <th></th>\n",
       "      <th>id</th>\n",
       "      <th>date</th>\n",
       "      <th>activity</th>\n",
       "      <th>sector</th>\n",
       "      <th>use</th>\n",
       "      <th>funded_amount</th>\n",
       "      <th>loan_amount</th>\n",
       "      <th>diff_funded_loan</th>\n",
       "      <th>status</th>\n",
       "      <th>country_code</th>\n",
       "      <th>country</th>\n",
       "      <th>currency</th>\n",
       "      <th>gender</th>\n",
       "      <th>borrower_genders</th>\n",
       "      <th>lender_count</th>\n",
       "      <th>term_in_months</th>\n",
       "      <th>repayment_interval</th>\n",
       "      <th>tags</th>\n",
       "    </tr>\n",
       "  </thead>\n",
       "  <tbody>\n",
       "    <tr>\n",
       "      <th>0</th>\n",
       "      <td>653051</td>\n",
       "      <td>1/1/14</td>\n",
       "      <td>Fruits &amp; Vegetables</td>\n",
       "      <td>Food</td>\n",
       "      <td>To buy seasonal, fresh fruits to sell.</td>\n",
       "      <td>300</td>\n",
       "      <td>300</td>\n",
       "      <td>0</td>\n",
       "      <td>1</td>\n",
       "      <td>PK</td>\n",
       "      <td>Pakistan</td>\n",
       "      <td>PKR</td>\n",
       "      <td>female</td>\n",
       "      <td>female</td>\n",
       "      <td>12</td>\n",
       "      <td>12</td>\n",
       "      <td>irregular</td>\n",
       "      <td>NaN</td>\n",
       "    </tr>\n",
       "    <tr>\n",
       "      <th>1</th>\n",
       "      <td>653053</td>\n",
       "      <td>1/1/14</td>\n",
       "      <td>Rickshaw</td>\n",
       "      <td>Transportation</td>\n",
       "      <td>to repair and maintain the auto rickshaw used ...</td>\n",
       "      <td>575</td>\n",
       "      <td>575</td>\n",
       "      <td>0</td>\n",
       "      <td>1</td>\n",
       "      <td>PK</td>\n",
       "      <td>Pakistan</td>\n",
       "      <td>PKR</td>\n",
       "      <td>group</td>\n",
       "      <td>female, female</td>\n",
       "      <td>14</td>\n",
       "      <td>11</td>\n",
       "      <td>irregular</td>\n",
       "      <td>NaN</td>\n",
       "    </tr>\n",
       "    <tr>\n",
       "      <th>2</th>\n",
       "      <td>653068</td>\n",
       "      <td>1/1/14</td>\n",
       "      <td>Transportation</td>\n",
       "      <td>Transportation</td>\n",
       "      <td>To repair their old cycle-van and buy another ...</td>\n",
       "      <td>150</td>\n",
       "      <td>150</td>\n",
       "      <td>0</td>\n",
       "      <td>1</td>\n",
       "      <td>IN</td>\n",
       "      <td>India</td>\n",
       "      <td>INR</td>\n",
       "      <td>female</td>\n",
       "      <td>female</td>\n",
       "      <td>6</td>\n",
       "      <td>43</td>\n",
       "      <td>bullet</td>\n",
       "      <td>user_favorite, user_favorite</td>\n",
       "    </tr>\n",
       "    <tr>\n",
       "      <th>3</th>\n",
       "      <td>653063</td>\n",
       "      <td>1/1/14</td>\n",
       "      <td>Embroidery</td>\n",
       "      <td>Arts</td>\n",
       "      <td>to purchase an embroidery machine and a variet...</td>\n",
       "      <td>200</td>\n",
       "      <td>200</td>\n",
       "      <td>0</td>\n",
       "      <td>1</td>\n",
       "      <td>PK</td>\n",
       "      <td>Pakistan</td>\n",
       "      <td>PKR</td>\n",
       "      <td>female</td>\n",
       "      <td>female</td>\n",
       "      <td>8</td>\n",
       "      <td>11</td>\n",
       "      <td>irregular</td>\n",
       "      <td>NaN</td>\n",
       "    </tr>\n",
       "    <tr>\n",
       "      <th>4</th>\n",
       "      <td>653084</td>\n",
       "      <td>1/1/14</td>\n",
       "      <td>Milk Sales</td>\n",
       "      <td>Food</td>\n",
       "      <td>to purchase one buffalo.</td>\n",
       "      <td>400</td>\n",
       "      <td>400</td>\n",
       "      <td>0</td>\n",
       "      <td>1</td>\n",
       "      <td>PK</td>\n",
       "      <td>Pakistan</td>\n",
       "      <td>PKR</td>\n",
       "      <td>female</td>\n",
       "      <td>female</td>\n",
       "      <td>16</td>\n",
       "      <td>14</td>\n",
       "      <td>monthly</td>\n",
       "      <td>NaN</td>\n",
       "    </tr>\n",
       "  </tbody>\n",
       "</table>\n",
       "</div>"
      ],
      "text/plain": [
       "       id    date             activity          sector  \\\n",
       "0  653051  1/1/14  Fruits & Vegetables            Food   \n",
       "1  653053  1/1/14             Rickshaw  Transportation   \n",
       "2  653068  1/1/14       Transportation  Transportation   \n",
       "3  653063  1/1/14           Embroidery            Arts   \n",
       "4  653084  1/1/14           Milk Sales            Food   \n",
       "\n",
       "                                                 use  funded_amount  \\\n",
       "0            To buy seasonal, fresh fruits to sell.             300   \n",
       "1  to repair and maintain the auto rickshaw used ...            575   \n",
       "2  To repair their old cycle-van and buy another ...            150   \n",
       "3  to purchase an embroidery machine and a variet...            200   \n",
       "4                           to purchase one buffalo.            400   \n",
       "\n",
       "   loan_amount  diff_funded_loan  status country_code   country currency  \\\n",
       "0          300                 0       1           PK  Pakistan      PKR   \n",
       "1          575                 0       1           PK  Pakistan      PKR   \n",
       "2          150                 0       1           IN     India      INR   \n",
       "3          200                 0       1           PK  Pakistan      PKR   \n",
       "4          400                 0       1           PK  Pakistan      PKR   \n",
       "\n",
       "   gender borrower_genders  lender_count  term_in_months repayment_interval  \\\n",
       "0  female           female            12              12          irregular   \n",
       "1   group   female, female            14              11          irregular   \n",
       "2  female           female             6              43             bullet   \n",
       "3  female           female             8              11          irregular   \n",
       "4  female           female            16              14            monthly   \n",
       "\n",
       "                           tags  \n",
       "0                           NaN  \n",
       "1                           NaN  \n",
       "2  user_favorite, user_favorite  \n",
       "3                           NaN  \n",
       "4                           NaN  "
      ]
     },
     "execution_count": 2,
     "metadata": {},
     "output_type": "execute_result"
    }
   ],
   "source": [
    "df = pd.read_csv('kiva_loans_20181016.csv')\n",
    "df.head()"
   ]
  },
  {
   "cell_type": "code",
   "execution_count": 3,
   "metadata": {
    "slideshow": {
     "slide_type": "skip"
    }
   },
   "outputs": [
    {
     "data": {
      "text/plain": [
       "Index(['id', 'date', 'activity', 'sector', 'use', 'funded_amount',\n",
       "       'loan_amount', 'diff_funded_loan', 'status', 'country_code', 'country',\n",
       "       'currency', 'gender', 'borrower_genders', 'lender_count',\n",
       "       'term_in_months', 'repayment_interval', 'tags'],\n",
       "      dtype='object')"
      ]
     },
     "execution_count": 3,
     "metadata": {},
     "output_type": "execute_result"
    }
   ],
   "source": [
    "df.columns\n"
   ]
  },
  {
   "cell_type": "code",
   "execution_count": 4,
   "metadata": {
    "slideshow": {
     "slide_type": "fragment"
    }
   },
   "outputs": [
    {
     "data": {
      "text/html": [
       "<div>\n",
       "<style scoped>\n",
       "    .dataframe tbody tr th:only-of-type {\n",
       "        vertical-align: middle;\n",
       "    }\n",
       "\n",
       "    .dataframe tbody tr th {\n",
       "        vertical-align: top;\n",
       "    }\n",
       "\n",
       "    .dataframe thead th {\n",
       "        text-align: right;\n",
       "    }\n",
       "</style>\n",
       "<table border=\"1\" class=\"dataframe\">\n",
       "  <thead>\n",
       "    <tr style=\"text-align: right;\">\n",
       "      <th></th>\n",
       "      <th>loan_amount</th>\n",
       "      <th>status</th>\n",
       "      <th>activity</th>\n",
       "      <th>country</th>\n",
       "      <th>term_in_months</th>\n",
       "      <th>gender</th>\n",
       "      <th>repayment_interval</th>\n",
       "    </tr>\n",
       "  </thead>\n",
       "  <tbody>\n",
       "    <tr>\n",
       "      <th>0</th>\n",
       "      <td>300</td>\n",
       "      <td>1</td>\n",
       "      <td>Fruits &amp; Vegetables</td>\n",
       "      <td>Pakistan</td>\n",
       "      <td>12</td>\n",
       "      <td>female</td>\n",
       "      <td>irregular</td>\n",
       "    </tr>\n",
       "    <tr>\n",
       "      <th>1</th>\n",
       "      <td>575</td>\n",
       "      <td>1</td>\n",
       "      <td>Rickshaw</td>\n",
       "      <td>Pakistan</td>\n",
       "      <td>11</td>\n",
       "      <td>group</td>\n",
       "      <td>irregular</td>\n",
       "    </tr>\n",
       "    <tr>\n",
       "      <th>2</th>\n",
       "      <td>150</td>\n",
       "      <td>1</td>\n",
       "      <td>Transportation</td>\n",
       "      <td>India</td>\n",
       "      <td>43</td>\n",
       "      <td>female</td>\n",
       "      <td>bullet</td>\n",
       "    </tr>\n",
       "    <tr>\n",
       "      <th>3</th>\n",
       "      <td>200</td>\n",
       "      <td>1</td>\n",
       "      <td>Embroidery</td>\n",
       "      <td>Pakistan</td>\n",
       "      <td>11</td>\n",
       "      <td>female</td>\n",
       "      <td>irregular</td>\n",
       "    </tr>\n",
       "    <tr>\n",
       "      <th>4</th>\n",
       "      <td>400</td>\n",
       "      <td>1</td>\n",
       "      <td>Milk Sales</td>\n",
       "      <td>Pakistan</td>\n",
       "      <td>14</td>\n",
       "      <td>female</td>\n",
       "      <td>monthly</td>\n",
       "    </tr>\n",
       "  </tbody>\n",
       "</table>\n",
       "</div>"
      ],
      "text/plain": [
       "   loan_amount  status             activity   country  term_in_months  gender  \\\n",
       "0          300       1  Fruits & Vegetables  Pakistan              12  female   \n",
       "1          575       1             Rickshaw  Pakistan              11   group   \n",
       "2          150       1       Transportation     India              43  female   \n",
       "3          200       1           Embroidery  Pakistan              11  female   \n",
       "4          400       1           Milk Sales  Pakistan              14  female   \n",
       "\n",
       "  repayment_interval  \n",
       "0          irregular  \n",
       "1          irregular  \n",
       "2             bullet  \n",
       "3          irregular  \n",
       "4            monthly  "
      ]
     },
     "execution_count": 4,
     "metadata": {},
     "output_type": "execute_result"
    }
   ],
   "source": [
    "df2 = df[['loan_amount','status', 'activity', 'country','term_in_months','gender','repayment_interval']].copy()\n",
    "df2.head()"
   ]
  },
  {
   "cell_type": "code",
   "execution_count": 5,
   "metadata": {
    "slideshow": {
     "slide_type": "skip"
    }
   },
   "outputs": [
    {
     "data": {
      "text/plain": [
       "<matplotlib.axes._subplots.AxesSubplot at 0x1a24a99b70>"
      ]
     },
     "execution_count": 5,
     "metadata": {},
     "output_type": "execute_result"
    },
    {
     "data": {
      "image/png": "[encoded data removed]",
      "text/plain": [
       "<Figure size 432x288 with 1 Axes>"
      ]
     },
     "metadata": {},
     "output_type": "display_data"
    }
   ],
   "source": [
    "# checking for null values\n",
    "sns.heatmap(df2.isnull(),yticklabels=False,cbar=False,cmap='viridis')"
   ]
  },
  {
   "cell_type": "code",
   "execution_count": 6,
   "metadata": {
    "slideshow": {
     "slide_type": "skip"
    }
   },
   "outputs": [
    {
     "data": {
      "text/plain": [
       "array(['Pakistan', 'India', 'Kenya', 'Nicaragua', 'El Salvador',\n",
       "       'Tanzania', 'Philippines', 'Peru', 'Senegal', 'Cambodia',\n",
       "       'Liberia', 'Vietnam', 'Iraq', 'Honduras', 'Palestine', 'Mongolia',\n",
       "       'United States', 'Mali', 'Colombia', 'Tajikistan', 'Guatemala',\n",
       "       'Ecuador', 'Bolivia', 'Yemen', 'Ghana', 'Sierra Leone', 'Haiti',\n",
       "       'Chile', 'Jordan', 'Uganda', 'Burundi', 'Burkina Faso',\n",
       "       'Timor-Leste', 'Indonesia', 'Georgia', 'Ukraine', 'Kosovo',\n",
       "       'Albania', 'The Democratic Republic of the Congo', 'Costa Rica',\n",
       "       'Somalia', 'Zimbabwe', 'Cameroon', 'Turkey', 'Azerbaijan',\n",
       "       'Dominican Republic', 'Brazil', 'Mexico', 'Kyrgyzstan', 'Armenia',\n",
       "       'Paraguay', 'Lebanon', 'Samoa', 'Israel', 'Rwanda', 'Zambia',\n",
       "       'Nepal', 'Congo', 'Mozambique', 'South Africa', 'Togo', 'Benin',\n",
       "       'Belize', 'Suriname', 'Thailand', 'Nigeria', 'Mauritania',\n",
       "       'Vanuatu', 'Panama', 'Virgin Islands',\n",
       "       'Saint Vincent and the Grenadines',\n",
       "       \"Lao People's Democratic Republic\", 'Malawi', 'Myanmar (Burma)',\n",
       "       'Moldova', 'South Sudan', 'Solomon Islands', 'China', 'Egypt',\n",
       "       'Guam', 'Afghanistan', 'Madagascar', 'Namibia', 'Puerto Rico',\n",
       "       'Lesotho', \"Cote D'Ivoire\", 'Bhutan'], dtype=object)"
      ]
     },
     "execution_count": 6,
     "metadata": {},
     "output_type": "execute_result"
    }
   ],
   "source": [
    "# # distribution of not funded vs funded\n",
    "# sns.countplot(x='result',data=df2)\n",
    "# # not really useful since it is not a regression analysis but wanted to see if there was any correlation i was missing\n",
    "# sns.pairplot(df2,hue='status',palette='bwr')\n",
    "df2.country.unique()"
   ]
  },
  {
   "cell_type": "code",
   "execution_count": 7,
   "metadata": {
    "slideshow": {
     "slide_type": "skip"
    }
   },
   "outputs": [],
   "source": [
    "# convert all remaining text categories into numbers\n",
    "df3 = pd.get_dummies(data=df2, columns=['loan_amount','activity','country', 'gender','term_in_months','repayment_interval'])"
   ]
  },
  {
   "cell_type": "code",
   "execution_count": 8,
   "metadata": {
    "slideshow": {
     "slide_type": "fragment"
    }
   },
   "outputs": [
    {
     "data": {
      "text/html": [
       "<div>\n",
       "<style scoped>\n",
       "    .dataframe tbody tr th:only-of-type {\n",
       "        vertical-align: middle;\n",
       "    }\n",
       "\n",
       "    .dataframe tbody tr th {\n",
       "        vertical-align: top;\n",
       "    }\n",
       "\n",
       "    .dataframe thead th {\n",
       "        text-align: right;\n",
       "    }\n",
       "</style>\n",
       "<table border=\"1\" class=\"dataframe\">\n",
       "  <thead>\n",
       "    <tr style=\"text-align: right;\">\n",
       "      <th></th>\n",
       "      <th>status</th>\n",
       "      <th>loan_amount_25</th>\n",
       "      <th>loan_amount_50</th>\n",
       "      <th>loan_amount_75</th>\n",
       "      <th>loan_amount_100</th>\n",
       "      <th>loan_amount_125</th>\n",
       "      <th>loan_amount_150</th>\n",
       "      <th>loan_amount_175</th>\n",
       "      <th>loan_amount_200</th>\n",
       "      <th>loan_amount_225</th>\n",
       "      <th>...</th>\n",
       "      <th>term_in_months_146</th>\n",
       "      <th>term_in_months_147</th>\n",
       "      <th>term_in_months_148</th>\n",
       "      <th>term_in_months_154</th>\n",
       "      <th>term_in_months_156</th>\n",
       "      <th>term_in_months_158</th>\n",
       "      <th>repayment_interval_bullet</th>\n",
       "      <th>repayment_interval_irregular</th>\n",
       "      <th>repayment_interval_monthly</th>\n",
       "      <th>repayment_interval_weekly</th>\n",
       "    </tr>\n",
       "  </thead>\n",
       "  <tbody>\n",
       "    <tr>\n",
       "      <th>0</th>\n",
       "      <td>1</td>\n",
       "      <td>0</td>\n",
       "      <td>0</td>\n",
       "      <td>0</td>\n",
       "      <td>0</td>\n",
       "      <td>0</td>\n",
       "      <td>0</td>\n",
       "      <td>0</td>\n",
       "      <td>0</td>\n",
       "      <td>0</td>\n",
       "      <td>...</td>\n",
       "      <td>0</td>\n",
       "      <td>0</td>\n",
       "      <td>0</td>\n",
       "      <td>0</td>\n",
       "      <td>0</td>\n",
       "      <td>0</td>\n",
       "      <td>0</td>\n",
       "      <td>1</td>\n",
       "      <td>0</td>\n",
       "      <td>0</td>\n",
       "    </tr>\n",
       "    <tr>\n",
       "      <th>1</th>\n",
       "      <td>1</td>\n",
       "      <td>0</td>\n",
       "      <td>0</td>\n",
       "      <td>0</td>\n",
       "      <td>0</td>\n",
       "      <td>0</td>\n",
       "      <td>0</td>\n",
       "      <td>0</td>\n",
       "      <td>0</td>\n",
       "      <td>0</td>\n",
       "      <td>...</td>\n",
       "      <td>0</td>\n",
       "      <td>0</td>\n",
       "      <td>0</td>\n",
       "      <td>0</td>\n",
       "      <td>0</td>\n",
       "      <td>0</td>\n",
       "      <td>0</td>\n",
       "      <td>1</td>\n",
       "      <td>0</td>\n",
       "      <td>0</td>\n",
       "    </tr>\n",
       "    <tr>\n",
       "      <th>2</th>\n",
       "      <td>1</td>\n",
       "      <td>0</td>\n",
       "      <td>0</td>\n",
       "      <td>0</td>\n",
       "      <td>0</td>\n",
       "      <td>0</td>\n",
       "      <td>1</td>\n",
       "      <td>0</td>\n",
       "      <td>0</td>\n",
       "      <td>0</td>\n",
       "      <td>...</td>\n",
       "      <td>0</td>\n",
       "      <td>0</td>\n",
       "      <td>0</td>\n",
       "      <td>0</td>\n",
       "      <td>0</td>\n",
       "      <td>0</td>\n",
       "      <td>1</td>\n",
       "      <td>0</td>\n",
       "      <td>0</td>\n",
       "      <td>0</td>\n",
       "    </tr>\n",
       "    <tr>\n",
       "      <th>3</th>\n",
       "      <td>1</td>\n",
       "      <td>0</td>\n",
       "      <td>0</td>\n",
       "      <td>0</td>\n",
       "      <td>0</td>\n",
       "      <td>0</td>\n",
       "      <td>0</td>\n",
       "      <td>0</td>\n",
       "      <td>1</td>\n",
       "      <td>0</td>\n",
       "      <td>...</td>\n",
       "      <td>0</td>\n",
       "      <td>0</td>\n",
       "      <td>0</td>\n",
       "      <td>0</td>\n",
       "      <td>0</td>\n",
       "      <td>0</td>\n",
       "      <td>0</td>\n",
       "      <td>1</td>\n",
       "      <td>0</td>\n",
       "      <td>0</td>\n",
       "    </tr>\n",
       "    <tr>\n",
       "      <th>4</th>\n",
       "      <td>1</td>\n",
       "      <td>0</td>\n",
       "      <td>0</td>\n",
       "      <td>0</td>\n",
       "      <td>0</td>\n",
       "      <td>0</td>\n",
       "      <td>0</td>\n",
       "      <td>0</td>\n",
       "      <td>0</td>\n",
       "      <td>0</td>\n",
       "      <td>...</td>\n",
       "      <td>0</td>\n",
       "      <td>0</td>\n",
       "      <td>0</td>\n",
       "      <td>0</td>\n",
       "      <td>0</td>\n",
       "      <td>0</td>\n",
       "      <td>0</td>\n",
       "      <td>0</td>\n",
       "      <td>1</td>\n",
       "      <td>0</td>\n",
       "    </tr>\n",
       "  </tbody>\n",
       "</table>\n",
       "<p>5 rows × 885 columns</p>\n",
       "</div>"
      ],
      "text/plain": [
       "   status  loan_amount_25  loan_amount_50  loan_amount_75  loan_amount_100  \\\n",
       "0       1               0               0               0                0   \n",
       "1       1               0               0               0                0   \n",
       "2       1               0               0               0                0   \n",
       "3       1               0               0               0                0   \n",
       "4       1               0               0               0                0   \n",
       "\n",
       "   loan_amount_125  loan_amount_150  loan_amount_175  loan_amount_200  \\\n",
       "0                0                0                0                0   \n",
       "1                0                0                0                0   \n",
       "2                0                1                0                0   \n",
       "3                0                0                0                1   \n",
       "4                0                0                0                0   \n",
       "\n",
       "   loan_amount_225            ...              term_in_months_146  \\\n",
       "0                0            ...                               0   \n",
       "1                0            ...                               0   \n",
       "2                0            ...                               0   \n",
       "3                0            ...                               0   \n",
       "4                0            ...                               0   \n",
       "\n",
       "   term_in_months_147  term_in_months_148  term_in_months_154  \\\n",
       "0                   0                   0                   0   \n",
       "1                   0                   0                   0   \n",
       "2                   0                   0                   0   \n",
       "3                   0                   0                   0   \n",
       "4                   0                   0                   0   \n",
       "\n",
       "   term_in_months_156  term_in_months_158  repayment_interval_bullet  \\\n",
       "0                   0                   0                          0   \n",
       "1                   0                   0                          0   \n",
       "2                   0                   0                          1   \n",
       "3                   0                   0                          0   \n",
       "4                   0                   0                          0   \n",
       "\n",
       "   repayment_interval_irregular  repayment_interval_monthly  \\\n",
       "0                             1                           0   \n",
       "1                             1                           0   \n",
       "2                             0                           0   \n",
       "3                             1                           0   \n",
       "4                             0                           1   \n",
       "\n",
       "   repayment_interval_weekly  \n",
       "0                          0  \n",
       "1                          0  \n",
       "2                          0  \n",
       "3                          0  \n",
       "4                          0  \n",
       "\n",
       "[5 rows x 885 columns]"
      ]
     },
     "execution_count": 8,
     "metadata": {},
     "output_type": "execute_result"
    }
   ],
   "source": [
    "df3.head()"
   ]
  },
  {
   "cell_type": "code",
   "execution_count": 9,
   "metadata": {
    "slideshow": {
     "slide_type": "skip"
    }
   },
   "outputs": [],
   "source": [
    "# df3.describe()\n",
    "# df2.info()\n",
    "# df3.info()"
   ]
  },
  {
   "cell_type": "code",
   "execution_count": 10,
   "metadata": {
    "slideshow": {
     "slide_type": "skip"
    }
   },
   "outputs": [],
   "source": [
    "from sklearn.model_selection import train_test_split\n",
    "X=df3.drop('status',axis=1)\n",
    "y=df3['status']\n",
    "\n",
    "X_train, X_test, y_train, y_test = train_test_split(X, y,test_size=0.2, random_state=42, stratify=y)"
   ]
  },
  {
   "cell_type": "code",
   "execution_count": 11,
   "metadata": {
    "slideshow": {
     "slide_type": "skip"
    }
   },
   "outputs": [
    {
     "name": "stderr",
     "output_type": "stream",
     "text": [
      "/anaconda3/envs/PythonData/lib/python3.6/site-packages/sklearn/linear_model/logistic.py:432: FutureWarning: Default solver will be changed to 'lbfgs' in 0.22. Specify a solver to silence this warning.\n",
      "  FutureWarning)\n"
     ]
    },
    {
     "data": {
      "text/plain": [
       "LogisticRegression(C=1.0, class_weight=None, dual=False, fit_intercept=True,\n",
       "          intercept_scaling=1, max_iter=100, multi_class='warn',\n",
       "          n_jobs=None, penalty='l2', random_state=None, solver='warn',\n",
       "          tol=0.0001, verbose=0, warm_start=False)"
      ]
     },
     "execution_count": 11,
     "metadata": {},
     "output_type": "execute_result"
    }
   ],
   "source": [
    "from sklearn.linear_model import LogisticRegression\n",
    "logmodel = LogisticRegression()\n",
    "logmodel.fit(X_train,y_train)"
   ]
  },
  {
   "cell_type": "code",
   "execution_count": 12,
   "metadata": {
    "slideshow": {
     "slide_type": "skip"
    }
   },
   "outputs": [
    {
     "name": "stdout",
     "output_type": "stream",
     "text": [
      "Training Data Score: 0.930241133483809\n",
      "Testing Data Score: 0.9297681036345081\n"
     ]
    }
   ],
   "source": [
    "print(f\"Training Data Score: {logmodel.score(X_train, y_train)}\")\n",
    "print(f\"Testing Data Score: {logmodel.score(X_test, y_test)}\")"
   ]
  },
  {
   "cell_type": "code",
   "execution_count": 13,
   "metadata": {
    "slideshow": {
     "slide_type": "skip"
    }
   },
   "outputs": [
    {
     "ename": "SyntaxError",
     "evalue": "invalid syntax (<ipython-input-13-b14733791da8>, line 8)",
     "output_type": "error",
     "traceback": [
      "\u001b[0;36m  File \u001b[0;32m\"<ipython-input-13-b14733791da8>\"\u001b[0;36m, line \u001b[0;32m8\u001b[0m\n\u001b[0;31m    from sklearn.metrics import classification_report, confusion_matrixprint(confusion_matrix(y_test,predictions))\u001b[0m\n\u001b[0m                                                                            ^\u001b[0m\n\u001b[0;31mSyntaxError\u001b[0m\u001b[0;31m:\u001b[0m invalid syntax\n"
     ]
    }
   ],
   "source": [
    "# # save model\n",
    "# import pickle\n",
    "\n",
    "# filename = 'ML-isaac-logistic-trained.h5'\n",
    "\n",
    "# pickle.dump(logmodel, open(filename, 'wb'))\n",
    "predictions = logmodel.predict(X_test)\n",
    "from sklearn.metrics import classification_report, confusion_matrixprint(confusion_matrix(y_test,predictions))\n",
    "print(classification_report(y_test,predictions))"
   ]
  },
  {
   "cell_type": "code",
   "execution_count": null,
   "metadata": {
    "slideshow": {
     "slide_type": "skip"
    }
   },
   "outputs": [],
   "source": [
    "df4 = pd.DataFrame({'Prediction': predictions, \"Actual\": y_test}, index=X_test.index)\n",
    "df4.head(5)"
   ]
  },
  {
   "cell_type": "markdown",
   "metadata": {
    "slideshow": {
     "slide_type": "slide"
    }
   },
   "source": [
    "# Logistic Regression\n",
    "\n",
    "### Input Features:\n",
    "- Loan_amount\n",
    "- Term_in_months\n",
    "- Repayment_interval (monthly, bullet(all at once), interval(other))\n",
    "- Country\n",
    "- Gender (M/F others dropped)\n",
    "- Activity (ex. 'Sector': 'Food', 'Activity': 'Milk Sales')"
   ]
  },
  {
   "cell_type": "code",
   "execution_count": null,
   "metadata": {
    "slideshow": {
     "slide_type": "slide"
    }
   },
   "outputs": [],
   "source": [
    "# DEMO 1\n",
    "# Borrower profile (F) >>> \n",
    "\n",
    "inputs = {\n",
    "          'loan_amount_1000':1, \n",
    "          'term_in_months_20':1,\n",
    "          'repayment_interval_monthly':1,\n",
    "          'country_El Salvador': 1, \n",
    "          'gender_female': 1, \n",
    "          'activity_Fruits & Vegetables': 1 \n",
    "}\n",
    "\n",
    "test = pd.Series(index=df3.columns)\n",
    "for key in inputs.keys():\n",
    "    test[key] = inputs[key]\n",
    "       \n",
    "test.fillna(0, inplace=True)"
   ]
  },
  {
   "cell_type": "code",
   "execution_count": null,
   "metadata": {
    "slideshow": {
     "slide_type": "fragment"
    }
   },
   "outputs": [],
   "source": [
    "# Probability of loan approval\n",
    "test1 = test.drop(['status']) \n",
    "\n",
    "predictions = logmodel.predict_proba(test1.values.reshape(1, -1))[:,1]\n",
    "print (predictions.round(decimals=2))"
   ]
  },
  {
   "cell_type": "code",
   "execution_count": null,
   "metadata": {
    "slideshow": {
     "slide_type": "slide"
    }
   },
   "outputs": [],
   "source": [
    "# DEMO 2\n",
    "# Borrower profile (M) >>> \n",
    "\n",
    "inputs = {\n",
    "          'loan_amount_1000':1, \n",
    "          'term_in_months_20':1,\n",
    "          'repayment_interval_monthly':1,\n",
    "          'country_El Salvador': 1, \n",
    "          'gender_male': 1, \n",
    "          'activity_Fruits & Vegetables': 1 \n",
    "}\n",
    "\n",
    "test = pd.Series(index=df3.columns)\n",
    "for key in inputs.keys():\n",
    "    test[key] = inputs[key]\n",
    "       \n",
    "test.fillna(0, inplace=True)"
   ]
  },
  {
   "cell_type": "code",
   "execution_count": null,
   "metadata": {
    "slideshow": {
     "slide_type": "fragment"
    }
   },
   "outputs": [],
   "source": [
    "# Probability of loan approval\n",
    "test1 = test.drop(['status']) \n",
    "\n",
    "predictions = logmodel.predict_proba(test1.values.reshape(1, -1))[:,1]\n",
    "print (predictions.round(decimals=2))"
   ]
  },
  {
   "cell_type": "code",
   "execution_count": null,
   "metadata": {
    "slideshow": {
     "slide_type": "skip"
    }
   },
   "outputs": [],
   "source": [
    "# # Save the model\n",
    "import pickle\n",
    "\n",
    "filename = 'isaac_log.h5'\n",
    "\n",
    "pickle.dump(logmodel, open(filename, 'wb'))\n",
    "\n",
    "# # load the model from disk\n",
    "filename = 'isaac_log.h5'\n",
    "\n",
    "logmodel = pickle.load(open(filename, 'rb'))\n",
    "\n",
    "predictions = logmodel.predict(X_test)\n",
    "\n",
    "print (\"Confusion Matrix\")\n",
    "print(confusion_matrix(y_test,predictions))\n",
    "print(\"------------------------\"*3)\n",
    "print (\"Classification_Report\")\n",
    "print(classification_report(y_test,predictions))"
   ]
  },
  {
   "cell_type": "markdown",
   "metadata": {
    "slideshow": {
     "slide_type": "slide"
    }
   },
   "source": [
    "#Modeling Dummies vs. Label Coding and Coefficients Replacement\n",
    "\n",
    "###Why Replace?\n",
    "- Imbalanced data results in high p-value but w/ low significance\n",
    "- Instead, need to provide feature weights for accuracy\n",
    "\n",
    "###The Bare Bones How-To\n",
    "1. Create X,Y values for labels to feed into Log. Reg. model\n",
    "2. Calculate and store coefficient for each category member\n",
    "3. Replace category items in dataset with their respective coefficient values\n",
    "   \n",
    "   In the following examples categories Activity, Sector, & Country were all coded and replaced."
   ]
  },
  {
   "cell_type": "markdown",
   "metadata": {
    "slideshow": {
     "slide_type": "notes"
    }
   },
   "source": [
    "We couldn't drop the 'insignificant' data features, as they also are what informs the training models. So we had to find a way around which Rashim will explain further "
   ]
  },
  {
   "cell_type": "markdown",
   "metadata": {
    "slideshow": {
     "slide_type": "slide"
    }
   },
   "source": [
    "#Models:\n",
    "### Decision Tree Model\n",
    " - \n",
    "### Random Forest\n",
    " - Binned loan amounts and term in months\n",
    " - Dummy: Coefficients:\n",
    " \n",
    "### KNN\n",
    " - Loop through different k values to see which has the highest accuracy\n",
    " %{train_scores = []\n",
    "test_scores = []\n",
    "a = 4000\n",
    "b = 7000\n",
    "for k in range(a, b, 1000):\n",
    "    knn = KNeighborsClassifier(n_neighbors=k, n_jobs=-1)\n",
    "    knn.fit(X_train, y_train)\n",
    "    train_score = knn.score(X_train, y_train)\n",
    "    test_score = knn.score(X_test, y_test)\n",
    "    train_scores.append(train_score)\n",
    "    test_scores.append(test_score)\n",
    "    print(f\"k: {k}, Train/Test Score: {train_score:.3f}/{test_score:.3f}\")}%\n",
    "\n",
    "### Deep Learning\n",
    "\n",
    "### Other Models"
   ]
  },
  {
   "cell_type": "code",
   "execution_count": null,
   "metadata": {
    "slideshow": {
     "slide_type": "slide"
    }
   },
   "outputs": [],
   "source": [
    "data balancing, hyperparameters, and tree ensembles"
   ]
  },
  {
   "cell_type": "code",
   "execution_count": null,
   "metadata": {
    "slideshow": {
     "slide_type": "slide"
    }
   },
   "outputs": [],
   "source": []
  },
  {
   "cell_type": "code",
   "execution_count": null,
   "metadata": {
    "slideshow": {
     "slide_type": "slide"
    }
   },
   "outputs": [],
   "source": []
  },
  {
   "cell_type": "markdown",
   "metadata": {
    "slideshow": {
     "slide_type": "slide"
    }
   },
   "source": [
    "Also, please consider becoming a temporary Kiva lender (*96% repayment rate!*) or reinvest in other great causes with your payback. As little as $25 can do a world of good for your countrymen or abroad. \n",
    "\n",
    "To lend your support visit: \n",
    "https://www.kiva.org/lend\n",
    "\n",
    "To learn how they do it explore:\n",
    "https://www.kiva.org/about/how\n",
    "\n",
    "To design your own Kiva app or access available data:\n",
    "http://build.kiva.org/\n",
    "\n",
    "# Thank you for listening and being awesome classmates over these past 6 months!!!"
   ]
  },
  {
   "cell_type": "code",
   "execution_count": null,
   "metadata": {},
   "outputs": [],
   "source": []
  },
  {
   "cell_type": "code",
   "execution_count": null,
   "metadata": {},
   "outputs": [],
   "source": []
  }
 ],
 "metadata": {
  "celltoolbar": "Slideshow",
  "kernelspec": {
   "display_name": "Python 3",
   "language": "python",
   "name": "python3"
  },
  "language_info": {
   "codemirror_mode": {
    "name": "ipython",
    "version": 3
   },
   "file_extension": ".py",
   "mimetype": "text/x-python",
   "name": "python",
   "nbconvert_exporter": "python",
   "pygments_lexer": "ipython3",
   "version": "3.6.4"
  }
 },
 "nbformat": 4,
 "nbformat_minor": 2
}
