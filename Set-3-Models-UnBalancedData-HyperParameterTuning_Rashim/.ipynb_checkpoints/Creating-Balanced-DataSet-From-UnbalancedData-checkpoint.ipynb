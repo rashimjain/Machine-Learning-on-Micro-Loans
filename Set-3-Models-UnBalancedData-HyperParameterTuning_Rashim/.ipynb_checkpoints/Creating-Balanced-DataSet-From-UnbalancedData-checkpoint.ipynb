{
 "cells": [
  {
   "cell_type": "markdown",
   "metadata": {},
   "source": [
    "# Over and Under Sampling\n",
    "\n",
    "Over and Under Sampling are techniques used for classification problems. Sometimes, our classification dataset might be too heavily tipped to one side. For example, we have 2000 examples for class 1, but only 200 for class 2. That’ll throw off a lot of the Machine Learning techniques we try and use to model the data and make predictions! Our Over and Under Sampling can combat that. Check out the graphic below for an illustration.\n",
    "\n",
    "<img src=\"Sampling.png\">\n",
    "\n",
    "## Under and and Over Sampling\n",
    "In both the left and right side of the image above, our blue class has far more samples than the orange class. In this case, we have 2 pre-processing options which can help in the training of our Machine Learning models.\n",
    "Undersampling means we will select only some of the data from the majority class, only using as many examples as the minority class has. This selection should be done to maintain the probability distribution of the class. That was easy! We just evened out our dataset by just taking less samples!\n",
    "Oversampling means that we will create copies of our minority class in order to have the same number of examples as the majority class has. The copies will be made such that the distribution of the minority class is maintained. We just evened out our dataset without getting any more data!"
   ]
  },
  {
   "cell_type": "markdown",
   "metadata": {},
   "source": [
    "# Read more:\n",
    "https://elitedatascience.com/imbalanced-classes\n"
   ]
  },
  {
   "cell_type": "code",
   "execution_count": 1,
   "metadata": {},
   "outputs": [],
   "source": [
    "import re\n",
    "import pandas as pd\n",
    "import numpy as np\n",
    "import seaborn as sns\n",
    "import datetime\n",
    "import matplotlib.pyplot as plt\n",
    "from sklearn.pipeline import Pipeline, FeatureUnion\n",
    "from sklearn.pipeline import make_pipeline\n",
    "from sklearn.model_selection import train_test_split\n",
    "\n",
    "from sklearn.ensemble import RandomForestClassifier\n",
    "from sklearn.metrics import make_scorer, accuracy_score\n",
    "from sklearn.model_selection import GridSearchCV\n",
    "from sklearn.preprocessing import StandardScaler\n",
    "from sklearn.linear_model import LogisticRegression\n",
    "\n"
   ]
  },
  {
   "cell_type": "code",
   "execution_count": 2,
   "metadata": {
    "scrolled": true
   },
   "outputs": [
    {
     "name": "stdout",
     "output_type": "stream",
     "text": [
      "671205\n"
     ]
    }
   ],
   "source": [
    "df = pd.read_csv('kiva_loans_20181016.csv')\n",
    "print(len(df))\n",
    "# df = df.sample(n=round(len(df)*.2))\n",
    "# print(len(df))\n",
    "# df = df.loc[df.status==0].append(df.loc[df.status==1].sample(len(df.loc[df.status==0])))\n",
    "# df.status.value_counts()"
   ]
  },
  {
   "cell_type": "code",
   "execution_count": 3,
   "metadata": {},
   "outputs": [
    {
     "data": {
      "text/plain": [
       "(671205, 18)"
      ]
     },
     "execution_count": 3,
     "metadata": {},
     "output_type": "execute_result"
    }
   ],
   "source": [
    "df.shape"
   ]
  },
  {
   "cell_type": "code",
   "execution_count": 4,
   "metadata": {},
   "outputs": [
    {
     "data": {
      "text/plain": [
       "1    622877\n",
       "0     48328\n",
       "Name: status, dtype: int64"
      ]
     },
     "execution_count": 4,
     "metadata": {},
     "output_type": "execute_result"
    }
   ],
   "source": [
    "df.status.value_counts()"
   ]
  },
  {
   "cell_type": "code",
   "execution_count": 5,
   "metadata": {},
   "outputs": [
    {
     "data": {
      "text/plain": [
       "id                     int64\n",
       "date                  object\n",
       "activity              object\n",
       "sector                object\n",
       "use                   object\n",
       "funded_amount          int64\n",
       "loan_amount            int64\n",
       "diff_funded_loan       int64\n",
       "status                 int64\n",
       "country_code          object\n",
       "country               object\n",
       "currency              object\n",
       "gender                object\n",
       "borrower_genders      object\n",
       "lender_count           int64\n",
       "term_in_months         int64\n",
       "repayment_interval    object\n",
       "tags                  object\n",
       "dtype: object"
      ]
     },
     "execution_count": 5,
     "metadata": {},
     "output_type": "execute_result"
    }
   ],
   "source": [
    "df.dtypes"
   ]
  },
  {
   "cell_type": "code",
   "execution_count": 6,
   "metadata": {},
   "outputs": [
    {
     "data": {
      "text/html": [
       "<div>\n",
       "<style scoped>\n",
       "    .dataframe tbody tr th:only-of-type {\n",
       "        vertical-align: middle;\n",
       "    }\n",
       "\n",
       "    .dataframe tbody tr th {\n",
       "        vertical-align: top;\n",
       "    }\n",
       "\n",
       "    .dataframe thead th {\n",
       "        text-align: right;\n",
       "    }\n",
       "</style>\n",
       "<table border=\"1\" class=\"dataframe\">\n",
       "  <thead>\n",
       "    <tr style=\"text-align: right;\">\n",
       "      <th></th>\n",
       "      <th>id</th>\n",
       "      <th>date</th>\n",
       "      <th>activity</th>\n",
       "      <th>sector</th>\n",
       "      <th>use</th>\n",
       "      <th>funded_amount</th>\n",
       "      <th>loan_amount</th>\n",
       "      <th>diff_funded_loan</th>\n",
       "      <th>status</th>\n",
       "      <th>country_code</th>\n",
       "      <th>country</th>\n",
       "      <th>currency</th>\n",
       "      <th>gender</th>\n",
       "      <th>borrower_genders</th>\n",
       "      <th>lender_count</th>\n",
       "      <th>term_in_months</th>\n",
       "      <th>repayment_interval</th>\n",
       "      <th>tags</th>\n",
       "    </tr>\n",
       "  </thead>\n",
       "  <tbody>\n",
       "    <tr>\n",
       "      <th>0</th>\n",
       "      <td>653051</td>\n",
       "      <td>1/1/14</td>\n",
       "      <td>Fruits &amp; Vegetables</td>\n",
       "      <td>Food</td>\n",
       "      <td>To buy seasonal, fresh fruits to sell.</td>\n",
       "      <td>300</td>\n",
       "      <td>300</td>\n",
       "      <td>0</td>\n",
       "      <td>1</td>\n",
       "      <td>PK</td>\n",
       "      <td>Pakistan</td>\n",
       "      <td>PKR</td>\n",
       "      <td>female</td>\n",
       "      <td>female</td>\n",
       "      <td>12</td>\n",
       "      <td>12</td>\n",
       "      <td>irregular</td>\n",
       "      <td>NaN</td>\n",
       "    </tr>\n",
       "    <tr>\n",
       "      <th>1</th>\n",
       "      <td>653053</td>\n",
       "      <td>1/1/14</td>\n",
       "      <td>Rickshaw</td>\n",
       "      <td>Transportation</td>\n",
       "      <td>to repair and maintain the auto rickshaw used ...</td>\n",
       "      <td>575</td>\n",
       "      <td>575</td>\n",
       "      <td>0</td>\n",
       "      <td>1</td>\n",
       "      <td>PK</td>\n",
       "      <td>Pakistan</td>\n",
       "      <td>PKR</td>\n",
       "      <td>group</td>\n",
       "      <td>female, female</td>\n",
       "      <td>14</td>\n",
       "      <td>11</td>\n",
       "      <td>irregular</td>\n",
       "      <td>NaN</td>\n",
       "    </tr>\n",
       "    <tr>\n",
       "      <th>2</th>\n",
       "      <td>653068</td>\n",
       "      <td>1/1/14</td>\n",
       "      <td>Transportation</td>\n",
       "      <td>Transportation</td>\n",
       "      <td>To repair their old cycle-van and buy another ...</td>\n",
       "      <td>150</td>\n",
       "      <td>150</td>\n",
       "      <td>0</td>\n",
       "      <td>1</td>\n",
       "      <td>IN</td>\n",
       "      <td>India</td>\n",
       "      <td>INR</td>\n",
       "      <td>female</td>\n",
       "      <td>female</td>\n",
       "      <td>6</td>\n",
       "      <td>43</td>\n",
       "      <td>bullet</td>\n",
       "      <td>user_favorite, user_favorite</td>\n",
       "    </tr>\n",
       "    <tr>\n",
       "      <th>3</th>\n",
       "      <td>653063</td>\n",
       "      <td>1/1/14</td>\n",
       "      <td>Embroidery</td>\n",
       "      <td>Arts</td>\n",
       "      <td>to purchase an embroidery machine and a variet...</td>\n",
       "      <td>200</td>\n",
       "      <td>200</td>\n",
       "      <td>0</td>\n",
       "      <td>1</td>\n",
       "      <td>PK</td>\n",
       "      <td>Pakistan</td>\n",
       "      <td>PKR</td>\n",
       "      <td>female</td>\n",
       "      <td>female</td>\n",
       "      <td>8</td>\n",
       "      <td>11</td>\n",
       "      <td>irregular</td>\n",
       "      <td>NaN</td>\n",
       "    </tr>\n",
       "    <tr>\n",
       "      <th>4</th>\n",
       "      <td>653084</td>\n",
       "      <td>1/1/14</td>\n",
       "      <td>Milk Sales</td>\n",
       "      <td>Food</td>\n",
       "      <td>to purchase one buffalo.</td>\n",
       "      <td>400</td>\n",
       "      <td>400</td>\n",
       "      <td>0</td>\n",
       "      <td>1</td>\n",
       "      <td>PK</td>\n",
       "      <td>Pakistan</td>\n",
       "      <td>PKR</td>\n",
       "      <td>female</td>\n",
       "      <td>female</td>\n",
       "      <td>16</td>\n",
       "      <td>14</td>\n",
       "      <td>monthly</td>\n",
       "      <td>NaN</td>\n",
       "    </tr>\n",
       "  </tbody>\n",
       "</table>\n",
       "</div>"
      ],
      "text/plain": [
       "       id    date             activity          sector  \\\n",
       "0  653051  1/1/14  Fruits & Vegetables            Food   \n",
       "1  653053  1/1/14             Rickshaw  Transportation   \n",
       "2  653068  1/1/14       Transportation  Transportation   \n",
       "3  653063  1/1/14           Embroidery            Arts   \n",
       "4  653084  1/1/14           Milk Sales            Food   \n",
       "\n",
       "                                                 use  funded_amount  \\\n",
       "0            To buy seasonal, fresh fruits to sell.             300   \n",
       "1  to repair and maintain the auto rickshaw used ...            575   \n",
       "2  To repair their old cycle-van and buy another ...            150   \n",
       "3  to purchase an embroidery machine and a variet...            200   \n",
       "4                           to purchase one buffalo.            400   \n",
       "\n",
       "   loan_amount  diff_funded_loan  status country_code   country currency  \\\n",
       "0          300                 0       1           PK  Pakistan      PKR   \n",
       "1          575                 0       1           PK  Pakistan      PKR   \n",
       "2          150                 0       1           IN     India      INR   \n",
       "3          200                 0       1           PK  Pakistan      PKR   \n",
       "4          400                 0       1           PK  Pakistan      PKR   \n",
       "\n",
       "   gender borrower_genders  lender_count  term_in_months repayment_interval  \\\n",
       "0  female           female            12              12          irregular   \n",
       "1   group   female, female            14              11          irregular   \n",
       "2  female           female             6              43             bullet   \n",
       "3  female           female             8              11          irregular   \n",
       "4  female           female            16              14            monthly   \n",
       "\n",
       "                           tags  \n",
       "0                           NaN  \n",
       "1                           NaN  \n",
       "2  user_favorite, user_favorite  \n",
       "3                           NaN  \n",
       "4                           NaN  "
      ]
     },
     "execution_count": 6,
     "metadata": {},
     "output_type": "execute_result"
    }
   ],
   "source": [
    "df.head()"
   ]
  },
  {
   "cell_type": "code",
   "execution_count": 7,
   "metadata": {},
   "outputs": [
    {
     "name": "stdout",
     "output_type": "stream",
     "text": [
      "count          671205\n",
      "unique             87\n",
      "top       Philippines\n",
      "freq           160441\n",
      "Name: country, dtype: object\n",
      "--------------------------------------------------\n",
      "Philippines                         160441\n",
      "Kenya                                75825\n",
      "El Salvador                          39875\n",
      "Cambodia                             34836\n",
      "Pakistan                             26857\n",
      "Peru                                 22233\n",
      "Colombia                             21995\n",
      "Uganda                               20601\n",
      "Tajikistan                           19580\n",
      "Ecuador                              13521\n",
      "Paraguay                             11903\n",
      "Nicaragua                            11781\n",
      "India                                11237\n",
      "Vietnam                              10843\n",
      "Nigeria                              10136\n",
      "Bolivia                               8806\n",
      "Lebanon                               8792\n",
      "Armenia                               8631\n",
      "Palestine                             8167\n",
      "Samoa                                 7396\n",
      "Guatemala                             7310\n",
      "Rwanda                                6735\n",
      "Mali                                  6639\n",
      "Honduras                              6557\n",
      "Indonesia                             6214\n",
      "United States                         6093\n",
      "Kyrgyzstan                            5774\n",
      "Togo                                  5749\n",
      "Mexico                                5741\n",
      "Sierra Leone                          5415\n",
      "                                     ...  \n",
      "Burundi                                880\n",
      "Zambia                                 784\n",
      "Nepal                                  717\n",
      "Solomon Islands                        554\n",
      "Benin                                  497\n",
      "Dominican Republic                     496\n",
      "Lesotho                                422\n",
      "South Africa                           378\n",
      "Moldova                                348\n",
      "Brazil                                 284\n",
      "Suriname                               223\n",
      "Panama                                 193\n",
      "Israel                                 190\n",
      "Thailand                               180\n",
      "South Sudan                            160\n",
      "China                                  134\n",
      "Congo                                  128\n",
      "Belize                                 125\n",
      "Somalia                                 75\n",
      "Puerto Rico                             68\n",
      "Saint Vincent and the Grenadines        16\n",
      "Chile                                   10\n",
      "Namibia                                  8\n",
      "Vanuatu                                  4\n",
      "Virgin Islands                           2\n",
      "Afghanistan                              2\n",
      "Bhutan                                   2\n",
      "Mauritania                               1\n",
      "Cote D'Ivoire                            1\n",
      "Guam                                     1\n",
      "Name: country, Length: 87, dtype: int64\n"
     ]
    }
   ],
   "source": [
    "print (df.country.describe())\n",
    "print(\"-\"*50)\n",
    "print (df.country.value_counts())"
   ]
  },
  {
   "cell_type": "code",
   "execution_count": 8,
   "metadata": {},
   "outputs": [
    {
     "name": "stdout",
     "output_type": "stream",
     "text": [
      "count          671205\n",
      "unique             15\n",
      "top       Agriculture\n",
      "freq           180302\n",
      "Name: sector, dtype: object\n",
      "--------------------------------------------------\n",
      "Agriculture       180302\n",
      "Food              136657\n",
      "Retail            124494\n",
      "Services           45140\n",
      "Personal Use       36385\n",
      "Housing            33731\n",
      "Clothing           32742\n",
      "Education          31013\n",
      "Transportation     15518\n",
      "Arts               12060\n",
      "Health              9223\n",
      "Construction        6268\n",
      "Manufacturing       6208\n",
      "Entertainment        830\n",
      "Wholesale            634\n",
      "Name: sector, dtype: int64\n"
     ]
    }
   ],
   "source": [
    "print (df.sector.describe())\n",
    "print(\"-\"*50)\n",
    "print (df.sector.value_counts())"
   ]
  },
  {
   "cell_type": "code",
   "execution_count": 9,
   "metadata": {},
   "outputs": [
    {
     "name": "stdout",
     "output_type": "stream",
     "text": [
      "count      671205\n",
      "unique        163\n",
      "top       Farming\n",
      "freq        72955\n",
      "Name: activity, dtype: object\n",
      "--------------------------------------------------\n",
      "Farming                           72955\n",
      "General Store                     64729\n",
      "Personal Housing Expenses         32448\n",
      "Food Production/Sales             28106\n",
      "Agriculture                       27023\n",
      "Pigs                              26624\n",
      "Retail                            24771\n",
      "Clothing Sales                    22339\n",
      "Home Appliances                   20267\n",
      "Higher education costs            19742\n",
      "Fruits & Vegetables               16610\n",
      "Grocery Store                     15102\n",
      "Livestock                         13095\n",
      "Fish Selling                      13060\n",
      "Food                              10197\n",
      "Fishing                           10066\n",
      "Services                           9807\n",
      "Poultry                            9783\n",
      "Tailoring                          9657\n",
      "Animal Sales                       9237\n",
      "Food Stall                         8905\n",
      "Sewing                             8414\n",
      "Dairy                              7914\n",
      "Cereals                            7898\n",
      "Cattle                             7865\n",
      "Home Energy                        7141\n",
      "Food Market                        7091\n",
      "Primary/secondary school costs     6816\n",
      "Personal Expenses                  6656\n",
      "Beauty Salon                       6611\n",
      "                                  ...  \n",
      "Traveling Sales                     144\n",
      "Movie Tapes & DVDs                  135\n",
      "Machinery Rental                    131\n",
      "Phone Repair                        119\n",
      "Upholstery                          115\n",
      "Party Supplies                      110\n",
      "Aquaculture                         108\n",
      "Communications                       96\n",
      "Secretarial Services                 89\n",
      "Music Discs & Tapes                  81\n",
      "Sporting Good Sales                  78\n",
      "Call Center                          74\n",
      "Musical Instruments                  69\n",
      "Religious Articles                   68\n",
      "Florist                              65\n",
      "Balut-Making                         61\n",
      "Computer                             54\n",
      "Bicycle Sales                        54\n",
      "Beekeeping                           50\n",
      "Well digging                         42\n",
      "Funerals                             41\n",
      "Air Conditioning                     36\n",
      "Landscaping / Gardening              34\n",
      "Bookbinding                          29\n",
      "Patchwork                            22\n",
      "Film                                 13\n",
      "Personal Care Products                7\n",
      "Event Planning                        5\n",
      "Celebrations                          5\n",
      "Adult Care                            2\n",
      "Name: activity, Length: 163, dtype: int64\n"
     ]
    }
   ],
   "source": [
    "print (df.activity.describe())\n",
    "print(\"-\"*50)\n",
    "print (df.activity.value_counts())"
   ]
  },
  {
   "cell_type": "code",
   "execution_count": 36,
   "metadata": {},
   "outputs": [],
   "source": [
    "df1 = df[['status','loan_amount', 'activity', 'sector',  'country','gender','term_in_months']]"
   ]
  },
  {
   "cell_type": "code",
   "execution_count": 37,
   "metadata": {},
   "outputs": [
    {
     "data": {
      "text/html": [
       "<div>\n",
       "<style scoped>\n",
       "    .dataframe tbody tr th:only-of-type {\n",
       "        vertical-align: middle;\n",
       "    }\n",
       "\n",
       "    .dataframe tbody tr th {\n",
       "        vertical-align: top;\n",
       "    }\n",
       "\n",
       "    .dataframe thead th {\n",
       "        text-align: right;\n",
       "    }\n",
       "</style>\n",
       "<table border=\"1\" class=\"dataframe\">\n",
       "  <thead>\n",
       "    <tr style=\"text-align: right;\">\n",
       "      <th></th>\n",
       "      <th>status</th>\n",
       "      <th>loan_amount</th>\n",
       "      <th>activity</th>\n",
       "      <th>sector</th>\n",
       "      <th>country</th>\n",
       "      <th>gender</th>\n",
       "      <th>term_in_months</th>\n",
       "    </tr>\n",
       "  </thead>\n",
       "  <tbody>\n",
       "    <tr>\n",
       "      <th>0</th>\n",
       "      <td>1</td>\n",
       "      <td>300</td>\n",
       "      <td>Fruits &amp; Vegetables</td>\n",
       "      <td>Food</td>\n",
       "      <td>Pakistan</td>\n",
       "      <td>female</td>\n",
       "      <td>12</td>\n",
       "    </tr>\n",
       "    <tr>\n",
       "      <th>1</th>\n",
       "      <td>1</td>\n",
       "      <td>575</td>\n",
       "      <td>Rickshaw</td>\n",
       "      <td>Transportation</td>\n",
       "      <td>Pakistan</td>\n",
       "      <td>group</td>\n",
       "      <td>11</td>\n",
       "    </tr>\n",
       "    <tr>\n",
       "      <th>2</th>\n",
       "      <td>1</td>\n",
       "      <td>150</td>\n",
       "      <td>Transportation</td>\n",
       "      <td>Transportation</td>\n",
       "      <td>India</td>\n",
       "      <td>female</td>\n",
       "      <td>43</td>\n",
       "    </tr>\n",
       "    <tr>\n",
       "      <th>3</th>\n",
       "      <td>1</td>\n",
       "      <td>200</td>\n",
       "      <td>Embroidery</td>\n",
       "      <td>Arts</td>\n",
       "      <td>Pakistan</td>\n",
       "      <td>female</td>\n",
       "      <td>11</td>\n",
       "    </tr>\n",
       "    <tr>\n",
       "      <th>4</th>\n",
       "      <td>1</td>\n",
       "      <td>400</td>\n",
       "      <td>Milk Sales</td>\n",
       "      <td>Food</td>\n",
       "      <td>Pakistan</td>\n",
       "      <td>female</td>\n",
       "      <td>14</td>\n",
       "    </tr>\n",
       "  </tbody>\n",
       "</table>\n",
       "</div>"
      ],
      "text/plain": [
       "   status  loan_amount             activity          sector   country  gender  \\\n",
       "0       1          300  Fruits & Vegetables            Food  Pakistan  female   \n",
       "1       1          575             Rickshaw  Transportation  Pakistan   group   \n",
       "2       1          150       Transportation  Transportation     India  female   \n",
       "3       1          200           Embroidery            Arts  Pakistan  female   \n",
       "4       1          400           Milk Sales            Food  Pakistan  female   \n",
       "\n",
       "   term_in_months  \n",
       "0              12  \n",
       "1              11  \n",
       "2              43  \n",
       "3              11  \n",
       "4              14  "
      ]
     },
     "execution_count": 37,
     "metadata": {},
     "output_type": "execute_result"
    }
   ],
   "source": [
    "df1.head()"
   ]
  },
  {
   "cell_type": "code",
   "execution_count": 38,
   "metadata": {},
   "outputs": [
    {
     "data": {
      "text/plain": [
       "(671205, 7)"
      ]
     },
     "execution_count": 38,
     "metadata": {},
     "output_type": "execute_result"
    }
   ],
   "source": [
    "df1.shape"
   ]
  },
  {
   "cell_type": "code",
   "execution_count": 39,
   "metadata": {},
   "outputs": [],
   "source": [
    "X = df1.drop(['status'], axis=1)\n",
    "feature_names = X.columns\n",
    "y = df1['status']"
   ]
  },
  {
   "cell_type": "markdown",
   "metadata": {},
   "source": [
    "There exists a full-blown python package to address imbalanced data. It is available as a sklearn-contrib package at https://github.com/scikit-learn-contrib/imbalanced-learn\n",
    "\n",
    "https://imbalanced-learn.readthedocs.io/en/stable/over_sampling.html\n"
   ]
  },
  {
   "cell_type": "code",
   "execution_count": 40,
   "metadata": {},
   "outputs": [
    {
     "name": "stdout",
     "output_type": "stream",
     "text": [
      "[(0, 622877), (1, 622877)]\n"
     ]
    }
   ],
   "source": [
    "from imblearn.over_sampling import RandomOverSampler\n",
    "ros = RandomOverSampler(random_state=0)\n",
    "X_resampled, y_resampled = ros.fit_resample(X, y)\n",
    "from collections import Counter\n",
    "print(sorted(Counter(y_resampled).items()))"
   ]
  },
  {
   "cell_type": "code",
   "execution_count": 41,
   "metadata": {},
   "outputs": [
    {
     "name": "stdout",
     "output_type": "stream",
     "text": [
      "     0                    1               2         3       4   5\n",
      "0  300  Fruits & Vegetables            Food  Pakistan  female  12\n",
      "1  575             Rickshaw  Transportation  Pakistan   group  11\n",
      "2  150       Transportation  Transportation     India  female  43\n",
      "3  200           Embroidery            Arts  Pakistan  female  11\n",
      "4  400           Milk Sales            Food  Pakistan  female  14\n",
      "(1245754, 6)\n",
      "  loan_amount             activity          sector   country  gender  \\\n",
      "0         300  Fruits & Vegetables            Food  Pakistan  female   \n",
      "1         575             Rickshaw  Transportation  Pakistan   group   \n",
      "2         150       Transportation  Transportation     India  female   \n",
      "3         200           Embroidery            Arts  Pakistan  female   \n",
      "4         400           Milk Sales            Food  Pakistan  female   \n",
      "\n",
      "  term_in_months  \n",
      "0             12  \n",
      "1             11  \n",
      "2             43  \n",
      "3             11  \n",
      "4             14  \n"
     ]
    }
   ],
   "source": [
    "df2 = pd.DataFrame(X_resampled)\n",
    "print (df2.head())\n",
    "print (df2.shape)\n",
    "\n",
    "df2.columns = [\"loan_amount\", \"activity\",\"sector\",\"country\",\"gender\",\"term_in_months\"]\n",
    "\n",
    "print (df2.head())\n"
   ]
  },
  {
   "cell_type": "code",
   "execution_count": 42,
   "metadata": {},
   "outputs": [
    {
     "name": "stdout",
     "output_type": "stream",
     "text": [
      "   0\n",
      "0  1\n",
      "1  1\n",
      "2  1\n",
      "3  1\n",
      "4  1\n",
      "(1245754, 1)\n"
     ]
    }
   ],
   "source": [
    "y = pd.DataFrame(y_resampled)\n",
    "\n",
    "print (y.head())\n",
    "print (y.shape)"
   ]
  }
 ],
 "metadata": {
  "kernelspec": {
   "display_name": "Python 3",
   "language": "python",
   "name": "python3"
  },
  "language_info": {
   "codemirror_mode": {
    "name": "ipython",
    "version": 3
   },
   "file_extension": ".py",
   "mimetype": "text/x-python",
   "name": "python",
   "nbconvert_exporter": "python",
   "pygments_lexer": "ipython3",
   "version": "3.6.4"
  }
 },
 "nbformat": 4,
 "nbformat_minor": 2
}
